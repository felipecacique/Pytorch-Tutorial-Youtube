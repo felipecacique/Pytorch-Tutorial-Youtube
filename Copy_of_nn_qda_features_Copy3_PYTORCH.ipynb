{
  "cells": [
    {
      "cell_type": "markdown",
      "metadata": {
        "id": "view-in-github",
        "colab_type": "text"
      },
      "source": [
        "<a href=\"https://colab.research.google.com/github/felipecacique/Pytorch-Tutorial-Youtube/blob/main/Copy_of_nn_qda_features_Copy3_PYTORCH.ipynb\" target=\"_parent\"><img src=\"https://colab.research.google.com/assets/colab-badge.svg\" alt=\"Open In Colab\"/></a>"
      ]
    },
    {
      "cell_type": "code",
      "source": [
        "# !wget http://prdownloads.sourceforge.net/ta-lib/ta-lib-0.4.0-src.tar.gz\n",
        "# !tar xvzf ta-lib-0.4.0-src.tar.gz\n",
        "# import os\n",
        "# os.chdir('ta-lib') # Can't use !cd in co-lab\n",
        "# !./configure --prefix=/usr\n",
        "# !make\n",
        "# !make install\n",
        "# os.chdir('../')\n",
        "# !pip install TA-Lib"
      ],
      "metadata": {
        "id": "ChNWWtX-tIen"
      },
      "execution_count": null,
      "outputs": []
    },
    {
      "cell_type": "markdown",
      "metadata": {
        "id": "I86PoKMKrf9k"
      },
      "source": [
        "## Notebook Instructions\n",
        "<i>You can run the notebook document sequentially (one cell at a time) by pressing <b> shift + enter</b>. While a cell is running, a [*] will display on the left. When it has been run, a number will display indicating the order in which it was run in the notebook [8].</i>\n",
        "\n",
        "<i>Enter edit mode by pressing <b>`Enter`</b> or using the mouse to click on a cell's editor area. Edit mode is indicated by a green cell border and a prompt showing in the editor area.</i> <BR>"
      ]
    },
    {
      "cell_type": "markdown",
      "source": [
        "## Create a NN model using PyTorch"
      ],
      "metadata": {
        "id": "eRqcIfMnth_U"
      }
    },
    {
      "cell_type": "code",
      "source": [
        "import torch\n",
        "import torch.nn as nn\n",
        "import torch.nn.functional as F\n",
        "import numpy as np"
      ],
      "metadata": {
        "id": "i_3_fXyStl8Z"
      },
      "execution_count": null,
      "outputs": []
    },
    {
      "cell_type": "code",
      "source": [
        "# Create a model class that inherit nn.Module\n",
        "class Model(nn.Module):\n",
        "  # Input layer (4 features of the flower) -->\n",
        "  # Hidden Layer1 (number of neurons) -->\n",
        "  # H2 (n) -- >\n",
        "  # output (3 classes of iris flowers)\n",
        "  def __init__(self, in_features=4, h1=8, h2=9, out_features=3, dropout_prob=0.75):\n",
        "    super().__init__() # instantiate our nn.Module\n",
        "    self.fc1 = nn.Linear(in_features, h1)\n",
        "    self.fc2 = nn.Linear(h1, h2)\n",
        "    self.out = nn.Linear(h2, out_features)\n",
        "    self.dropout = nn.Dropout(dropout_prob)\n",
        "\n",
        "  def forward(self, x):\n",
        "    x = F.relu(self.fc1(x))\n",
        "    x = self.dropout(x)\n",
        "    x = F.relu(self.fc2(x))\n",
        "    x = self.dropout(x)\n",
        "    x = self.out(x)\n",
        "\n",
        "    return x"
      ],
      "metadata": {
        "id": "3G97jjkntn0e"
      },
      "execution_count": null,
      "outputs": []
    },
    {
      "cell_type": "markdown",
      "metadata": {
        "id": "gZanu8MHrf9o"
      },
      "source": [
        "## Trading Strategy using Classification\n",
        "\n",
        "The key steps involved in creating the strategy are:\n",
        "1. Import data\n",
        "2. Create indicators\n",
        "3. Calculate returns\n",
        "4. Train and test data\n",
        "5. Create output signals\n",
        "6. Create the Machine Learning Model\n",
        "7. Predict the signals\n",
        "8. Analyze the performance\n",
        "9. Plot the results"
      ]
    },
    {
      "cell_type": "markdown",
      "metadata": {
        "id": "zzu_GuHarf9q"
      },
      "source": [
        "### Import libraries"
      ]
    },
    {
      "cell_type": "markdown",
      "metadata": {
        "id": "XCMrBuSBrf9q"
      },
      "source": [
        "Next, we will import the necessary libraries for the strategy."
      ]
    },
    {
      "cell_type": "code",
      "execution_count": null,
      "metadata": {
        "id": "WhNMytSzrf9r"
      },
      "outputs": [],
      "source": [
        "# Import the libraries\n",
        "from sklearn.preprocessing import StandardScaler, QuantileTransformer\n",
        "from sklearn.model_selection import TimeSeriesSplit\n",
        "from sklearn.pipeline import Pipeline\n",
        "import pandas as pd\n",
        "import numpy as np\n",
        "import matplotlib.pyplot as plt\n",
        "import matplotlib.ticker as mtick\n",
        "import joblib\n",
        "import pickle\n",
        "from sklearn.neural_network import MLPClassifier\n",
        "from sklearn.discriminant_analysis import QuadraticDiscriminantAnalysis\n",
        "from sklearn.preprocessing import QuantileTransformer\n",
        "from sklearn.naive_bayes import GaussianNB\n",
        "import copy\n",
        "# Technical indicator library\n",
        "import talib as ta\n",
        "from myfeatures import GetFeaturesSALIB_THX"
      ]
    },
    {
      "cell_type": "markdown",
      "metadata": {
        "id": "vYweTmIzrf9s"
      },
      "source": [
        "## Import data"
      ]
    },
    {
      "cell_type": "markdown",
      "metadata": {
        "id": "KkQjP5wYrf9s"
      },
      "source": [
        "The 1-minute OHLCV data for the ICICI bank futures required for backtesting is saved in a CSV file, 'ICICI Minute Data.csv'. You can read this file and save it in a dataframe, Df.\n",
        "\n",
        "To read a CSV file, you can use \"pandas.read_csv()\".\n",
        "\n",
        "Syntax: pd.read_csv(filename)\n",
        "\n",
        "filename: Name of the file in the string format"
      ]
    },
    {
      "cell_type": "code",
      "execution_count": null,
      "metadata": {
        "id": "aIuqVfX-rf9s",
        "colab": {
          "base_uri": "https://localhost:8080/",
          "height": 206
        },
        "outputId": "06e6a243-3e7c-48a2-97fb-a4e7fcd0d24b"
      },
      "outputs": [
        {
          "output_type": "execute_result",
          "data": {
            "text/plain": [
              "         Time  Open  High   Low  Close  Volume\n",
              "0  2011.03.23  0.83  0.90  0.83   0.87   14009\n",
              "1  2011.03.24  0.87  0.89  0.86   0.88    4819\n",
              "2  2011.03.25  0.88  0.91  0.84   0.86   11756\n",
              "3  2011.03.26  0.83  0.87  0.82   0.82    5337\n",
              "4  2011.03.27  0.82  0.85  0.76   0.80   12565"
            ],
            "text/html": [
              "\n",
              "  <div id=\"df-89a9976f-ba23-490c-9d2a-19ba96a5c62a\" class=\"colab-df-container\">\n",
              "    <div>\n",
              "<style scoped>\n",
              "    .dataframe tbody tr th:only-of-type {\n",
              "        vertical-align: middle;\n",
              "    }\n",
              "\n",
              "    .dataframe tbody tr th {\n",
              "        vertical-align: top;\n",
              "    }\n",
              "\n",
              "    .dataframe thead th {\n",
              "        text-align: right;\n",
              "    }\n",
              "</style>\n",
              "<table border=\"1\" class=\"dataframe\">\n",
              "  <thead>\n",
              "    <tr style=\"text-align: right;\">\n",
              "      <th></th>\n",
              "      <th>Time</th>\n",
              "      <th>Open</th>\n",
              "      <th>High</th>\n",
              "      <th>Low</th>\n",
              "      <th>Close</th>\n",
              "      <th>Volume</th>\n",
              "    </tr>\n",
              "  </thead>\n",
              "  <tbody>\n",
              "    <tr>\n",
              "      <th>0</th>\n",
              "      <td>2011.03.23</td>\n",
              "      <td>0.83</td>\n",
              "      <td>0.90</td>\n",
              "      <td>0.83</td>\n",
              "      <td>0.87</td>\n",
              "      <td>14009</td>\n",
              "    </tr>\n",
              "    <tr>\n",
              "      <th>1</th>\n",
              "      <td>2011.03.24</td>\n",
              "      <td>0.87</td>\n",
              "      <td>0.89</td>\n",
              "      <td>0.86</td>\n",
              "      <td>0.88</td>\n",
              "      <td>4819</td>\n",
              "    </tr>\n",
              "    <tr>\n",
              "      <th>2</th>\n",
              "      <td>2011.03.25</td>\n",
              "      <td>0.88</td>\n",
              "      <td>0.91</td>\n",
              "      <td>0.84</td>\n",
              "      <td>0.86</td>\n",
              "      <td>11756</td>\n",
              "    </tr>\n",
              "    <tr>\n",
              "      <th>3</th>\n",
              "      <td>2011.03.26</td>\n",
              "      <td>0.83</td>\n",
              "      <td>0.87</td>\n",
              "      <td>0.82</td>\n",
              "      <td>0.82</td>\n",
              "      <td>5337</td>\n",
              "    </tr>\n",
              "    <tr>\n",
              "      <th>4</th>\n",
              "      <td>2011.03.27</td>\n",
              "      <td>0.82</td>\n",
              "      <td>0.85</td>\n",
              "      <td>0.76</td>\n",
              "      <td>0.80</td>\n",
              "      <td>12565</td>\n",
              "    </tr>\n",
              "  </tbody>\n",
              "</table>\n",
              "</div>\n",
              "    <div class=\"colab-df-buttons\">\n",
              "\n",
              "  <div class=\"colab-df-container\">\n",
              "    <button class=\"colab-df-convert\" onclick=\"convertToInteractive('df-89a9976f-ba23-490c-9d2a-19ba96a5c62a')\"\n",
              "            title=\"Convert this dataframe to an interactive table.\"\n",
              "            style=\"display:none;\">\n",
              "\n",
              "  <svg xmlns=\"http://www.w3.org/2000/svg\" height=\"24px\" viewBox=\"0 -960 960 960\">\n",
              "    <path d=\"M120-120v-720h720v720H120Zm60-500h600v-160H180v160Zm220 220h160v-160H400v160Zm0 220h160v-160H400v160ZM180-400h160v-160H180v160Zm440 0h160v-160H620v160ZM180-180h160v-160H180v160Zm440 0h160v-160H620v160Z\"/>\n",
              "  </svg>\n",
              "    </button>\n",
              "\n",
              "  <style>\n",
              "    .colab-df-container {\n",
              "      display:flex;\n",
              "      gap: 12px;\n",
              "    }\n",
              "\n",
              "    .colab-df-convert {\n",
              "      background-color: #E8F0FE;\n",
              "      border: none;\n",
              "      border-radius: 50%;\n",
              "      cursor: pointer;\n",
              "      display: none;\n",
              "      fill: #1967D2;\n",
              "      height: 32px;\n",
              "      padding: 0 0 0 0;\n",
              "      width: 32px;\n",
              "    }\n",
              "\n",
              "    .colab-df-convert:hover {\n",
              "      background-color: #E2EBFA;\n",
              "      box-shadow: 0px 1px 2px rgba(60, 64, 67, 0.3), 0px 1px 3px 1px rgba(60, 64, 67, 0.15);\n",
              "      fill: #174EA6;\n",
              "    }\n",
              "\n",
              "    .colab-df-buttons div {\n",
              "      margin-bottom: 4px;\n",
              "    }\n",
              "\n",
              "    [theme=dark] .colab-df-convert {\n",
              "      background-color: #3B4455;\n",
              "      fill: #D2E3FC;\n",
              "    }\n",
              "\n",
              "    [theme=dark] .colab-df-convert:hover {\n",
              "      background-color: #434B5C;\n",
              "      box-shadow: 0px 1px 3px 1px rgba(0, 0, 0, 0.15);\n",
              "      filter: drop-shadow(0px 1px 2px rgba(0, 0, 0, 0.3));\n",
              "      fill: #FFFFFF;\n",
              "    }\n",
              "  </style>\n",
              "\n",
              "    <script>\n",
              "      const buttonEl =\n",
              "        document.querySelector('#df-89a9976f-ba23-490c-9d2a-19ba96a5c62a button.colab-df-convert');\n",
              "      buttonEl.style.display =\n",
              "        google.colab.kernel.accessAllowed ? 'block' : 'none';\n",
              "\n",
              "      async function convertToInteractive(key) {\n",
              "        const element = document.querySelector('#df-89a9976f-ba23-490c-9d2a-19ba96a5c62a');\n",
              "        const dataTable =\n",
              "          await google.colab.kernel.invokeFunction('convertToInteractive',\n",
              "                                                    [key], {});\n",
              "        if (!dataTable) return;\n",
              "\n",
              "        const docLinkHtml = 'Like what you see? Visit the ' +\n",
              "          '<a target=\"_blank\" href=https://colab.research.google.com/notebooks/data_table.ipynb>data table notebook</a>'\n",
              "          + ' to learn more about interactive tables.';\n",
              "        element.innerHTML = '';\n",
              "        dataTable['output_type'] = 'display_data';\n",
              "        await google.colab.output.renderOutput(dataTable, element);\n",
              "        const docLink = document.createElement('div');\n",
              "        docLink.innerHTML = docLinkHtml;\n",
              "        element.appendChild(docLink);\n",
              "      }\n",
              "    </script>\n",
              "  </div>\n",
              "\n",
              "\n",
              "<div id=\"df-97ec914b-1ba5-4654-8546-c180c0c25e91\">\n",
              "  <button class=\"colab-df-quickchart\" onclick=\"quickchart('df-97ec914b-1ba5-4654-8546-c180c0c25e91')\"\n",
              "            title=\"Suggest charts\"\n",
              "            style=\"display:none;\">\n",
              "\n",
              "<svg xmlns=\"http://www.w3.org/2000/svg\" height=\"24px\"viewBox=\"0 0 24 24\"\n",
              "     width=\"24px\">\n",
              "    <g>\n",
              "        <path d=\"M19 3H5c-1.1 0-2 .9-2 2v14c0 1.1.9 2 2 2h14c1.1 0 2-.9 2-2V5c0-1.1-.9-2-2-2zM9 17H7v-7h2v7zm4 0h-2V7h2v10zm4 0h-2v-4h2v4z\"/>\n",
              "    </g>\n",
              "</svg>\n",
              "  </button>\n",
              "\n",
              "<style>\n",
              "  .colab-df-quickchart {\n",
              "      --bg-color: #E8F0FE;\n",
              "      --fill-color: #1967D2;\n",
              "      --hover-bg-color: #E2EBFA;\n",
              "      --hover-fill-color: #174EA6;\n",
              "      --disabled-fill-color: #AAA;\n",
              "      --disabled-bg-color: #DDD;\n",
              "  }\n",
              "\n",
              "  [theme=dark] .colab-df-quickchart {\n",
              "      --bg-color: #3B4455;\n",
              "      --fill-color: #D2E3FC;\n",
              "      --hover-bg-color: #434B5C;\n",
              "      --hover-fill-color: #FFFFFF;\n",
              "      --disabled-bg-color: #3B4455;\n",
              "      --disabled-fill-color: #666;\n",
              "  }\n",
              "\n",
              "  .colab-df-quickchart {\n",
              "    background-color: var(--bg-color);\n",
              "    border: none;\n",
              "    border-radius: 50%;\n",
              "    cursor: pointer;\n",
              "    display: none;\n",
              "    fill: var(--fill-color);\n",
              "    height: 32px;\n",
              "    padding: 0;\n",
              "    width: 32px;\n",
              "  }\n",
              "\n",
              "  .colab-df-quickchart:hover {\n",
              "    background-color: var(--hover-bg-color);\n",
              "    box-shadow: 0 1px 2px rgba(60, 64, 67, 0.3), 0 1px 3px 1px rgba(60, 64, 67, 0.15);\n",
              "    fill: var(--button-hover-fill-color);\n",
              "  }\n",
              "\n",
              "  .colab-df-quickchart-complete:disabled,\n",
              "  .colab-df-quickchart-complete:disabled:hover {\n",
              "    background-color: var(--disabled-bg-color);\n",
              "    fill: var(--disabled-fill-color);\n",
              "    box-shadow: none;\n",
              "  }\n",
              "\n",
              "  .colab-df-spinner {\n",
              "    border: 2px solid var(--fill-color);\n",
              "    border-color: transparent;\n",
              "    border-bottom-color: var(--fill-color);\n",
              "    animation:\n",
              "      spin 1s steps(1) infinite;\n",
              "  }\n",
              "\n",
              "  @keyframes spin {\n",
              "    0% {\n",
              "      border-color: transparent;\n",
              "      border-bottom-color: var(--fill-color);\n",
              "      border-left-color: var(--fill-color);\n",
              "    }\n",
              "    20% {\n",
              "      border-color: transparent;\n",
              "      border-left-color: var(--fill-color);\n",
              "      border-top-color: var(--fill-color);\n",
              "    }\n",
              "    30% {\n",
              "      border-color: transparent;\n",
              "      border-left-color: var(--fill-color);\n",
              "      border-top-color: var(--fill-color);\n",
              "      border-right-color: var(--fill-color);\n",
              "    }\n",
              "    40% {\n",
              "      border-color: transparent;\n",
              "      border-right-color: var(--fill-color);\n",
              "      border-top-color: var(--fill-color);\n",
              "    }\n",
              "    60% {\n",
              "      border-color: transparent;\n",
              "      border-right-color: var(--fill-color);\n",
              "    }\n",
              "    80% {\n",
              "      border-color: transparent;\n",
              "      border-right-color: var(--fill-color);\n",
              "      border-bottom-color: var(--fill-color);\n",
              "    }\n",
              "    90% {\n",
              "      border-color: transparent;\n",
              "      border-bottom-color: var(--fill-color);\n",
              "    }\n",
              "  }\n",
              "</style>\n",
              "\n",
              "  <script>\n",
              "    async function quickchart(key) {\n",
              "      const quickchartButtonEl =\n",
              "        document.querySelector('#' + key + ' button');\n",
              "      quickchartButtonEl.disabled = true;  // To prevent multiple clicks.\n",
              "      quickchartButtonEl.classList.add('colab-df-spinner');\n",
              "      try {\n",
              "        const charts = await google.colab.kernel.invokeFunction(\n",
              "            'suggestCharts', [key], {});\n",
              "      } catch (error) {\n",
              "        console.error('Error during call to suggestCharts:', error);\n",
              "      }\n",
              "      quickchartButtonEl.classList.remove('colab-df-spinner');\n",
              "      quickchartButtonEl.classList.add('colab-df-quickchart-complete');\n",
              "    }\n",
              "    (() => {\n",
              "      let quickchartButtonEl =\n",
              "        document.querySelector('#df-97ec914b-1ba5-4654-8546-c180c0c25e91 button');\n",
              "      quickchartButtonEl.style.display =\n",
              "        google.colab.kernel.accessAllowed ? 'block' : 'none';\n",
              "    })();\n",
              "  </script>\n",
              "</div>\n",
              "\n",
              "    </div>\n",
              "  </div>\n"
            ],
            "application/vnd.google.colaboratory.intrinsic+json": {
              "type": "dataframe",
              "variable_name": "Df",
              "summary": "{\n  \"name\": \"Df\",\n  \"rows\": 3863,\n  \"fields\": [\n    {\n      \"column\": \"Time\",\n      \"properties\": {\n        \"dtype\": \"object\",\n        \"num_unique_values\": 3863,\n        \"samples\": [\n          \"2015.04.11\",\n          \"2020.02.11\",\n          \"2018.09.18\"\n        ],\n        \"semantic_type\": \"\",\n        \"description\": \"\"\n      }\n    },\n    {\n      \"column\": \"Open\",\n      \"properties\": {\n        \"dtype\": \"number\",\n        \"std\": 13943.733958207364,\n        \"min\": 0.68,\n        \"max\": 67543.449,\n        \"num_unique_values\": 3635,\n        \"samples\": [\n          242.89,\n          7.8,\n          800.0\n        ],\n        \"semantic_type\": \"\",\n        \"description\": \"\"\n      }\n    },\n    {\n      \"column\": \"High\",\n      \"properties\": {\n        \"dtype\": \"number\",\n        \"std\": 14350.732724901198,\n        \"min\": 0.75,\n        \"max\": 68992.399,\n        \"num_unique_values\": 3590,\n        \"samples\": [\n          9203.605,\n          6.69,\n          4128.52\n        ],\n        \"semantic_type\": \"\",\n        \"description\": \"\"\n      }\n    },\n    {\n      \"column\": \"Low\",\n      \"properties\": {\n        \"dtype\": \"number\",\n        \"std\": 13473.32421587989,\n        \"min\": 0.56,\n        \"max\": 66252.644,\n        \"num_unique_values\": 3619,\n        \"samples\": [\n          13639.83,\n          2221.3,\n          6689.64\n        ],\n        \"semantic_type\": \"\",\n        \"description\": \"\"\n      }\n    },\n    {\n      \"column\": \"Close\",\n      \"properties\": {\n        \"dtype\": \"number\",\n        \"std\": 13957.371683467542,\n        \"min\": 0.68,\n        \"max\": 67542.949,\n        \"num_unique_values\": 3633,\n        \"samples\": [\n          7116.4,\n          2.57,\n          3.16\n        ],\n        \"semantic_type\": \"\",\n        \"description\": \"\"\n      }\n    },\n    {\n      \"column\": \"Volume\",\n      \"properties\": {\n        \"dtype\": \"number\",\n        \"std\": 1039587,\n        \"min\": 477,\n        \"max\": 20428343,\n        \"num_unique_values\": 3781,\n        \"samples\": [\n          5455,\n          18238,\n          18393\n        ],\n        \"semantic_type\": \"\",\n        \"description\": \"\"\n      }\n    }\n  ]\n}"
            }
          },
          "metadata": {},
          "execution_count": 4603
        }
      ],
      "source": [
        "# Read the CSV file\n",
        "# Df = pd.read_csv(\"./petr4.tsv\",delimiter=\"\\t\",decimal=\".\")\n",
        "Df = pd.read_csv(\"./BTCUSD_Daily.csv\",delimiter=\",\",decimal=\".\",dtype = {'Open': np.double, 'High': np.double, 'Low': np.double, 'Close': np.double})\n",
        "Df.head()"
      ]
    },
    {
      "cell_type": "code",
      "execution_count": null,
      "metadata": {
        "id": "tAjBp-2srf9t",
        "colab": {
          "base_uri": "https://localhost:8080/"
        },
        "outputId": "a6454e6e-3544-4d9f-d3a5-ffacbe59bab6"
      },
      "outputs": [
        {
          "output_type": "execute_result",
          "data": {
            "text/plain": [
              "dtype('O')"
            ]
          },
          "metadata": {},
          "execution_count": 4604
        }
      ],
      "source": [
        "Df[\"Time\"].dtype"
      ]
    },
    {
      "cell_type": "code",
      "execution_count": null,
      "metadata": {
        "id": "7X6pIO2Arf9t"
      },
      "outputs": [],
      "source": [
        "Df = Df.dropna()"
      ]
    },
    {
      "cell_type": "code",
      "execution_count": null,
      "metadata": {
        "id": "AAjvAHsLrf9u",
        "colab": {
          "base_uri": "https://localhost:8080/",
          "height": 261
        },
        "outputId": "7457a708-6e87-48ab-d7ac-6c1b178cb945"
      },
      "outputs": [
        {
          "output_type": "stream",
          "name": "stderr",
          "text": [
            "<ipython-input-4606-a53a9ba261cb>:2: UserWarning: Parsing dates in %Y.%m.%d format when dayfirst=True was specified. Pass `dayfirst=False` or specify a format to silence this warning.\n",
            "  Df['Time'] = pd.to_datetime(Df['Time'],dayfirst=True)\n"
          ]
        },
        {
          "output_type": "execute_result",
          "data": {
            "text/plain": [
              "        Time  Open  High   Low  Close  Volume\n",
              "0 2011-03-23  0.83  0.90  0.83   0.87   14009\n",
              "1 2011-03-24  0.87  0.89  0.86   0.88    4819\n",
              "2 2011-03-25  0.88  0.91  0.84   0.86   11756\n",
              "3 2011-03-26  0.83  0.87  0.82   0.82    5337\n",
              "4 2011-03-27  0.82  0.85  0.76   0.80   12565"
            ],
            "text/html": [
              "\n",
              "  <div id=\"df-f26fe690-41e8-4819-a933-99ac753b6cdc\" class=\"colab-df-container\">\n",
              "    <div>\n",
              "<style scoped>\n",
              "    .dataframe tbody tr th:only-of-type {\n",
              "        vertical-align: middle;\n",
              "    }\n",
              "\n",
              "    .dataframe tbody tr th {\n",
              "        vertical-align: top;\n",
              "    }\n",
              "\n",
              "    .dataframe thead th {\n",
              "        text-align: right;\n",
              "    }\n",
              "</style>\n",
              "<table border=\"1\" class=\"dataframe\">\n",
              "  <thead>\n",
              "    <tr style=\"text-align: right;\">\n",
              "      <th></th>\n",
              "      <th>Time</th>\n",
              "      <th>Open</th>\n",
              "      <th>High</th>\n",
              "      <th>Low</th>\n",
              "      <th>Close</th>\n",
              "      <th>Volume</th>\n",
              "    </tr>\n",
              "  </thead>\n",
              "  <tbody>\n",
              "    <tr>\n",
              "      <th>0</th>\n",
              "      <td>2011-03-23</td>\n",
              "      <td>0.83</td>\n",
              "      <td>0.90</td>\n",
              "      <td>0.83</td>\n",
              "      <td>0.87</td>\n",
              "      <td>14009</td>\n",
              "    </tr>\n",
              "    <tr>\n",
              "      <th>1</th>\n",
              "      <td>2011-03-24</td>\n",
              "      <td>0.87</td>\n",
              "      <td>0.89</td>\n",
              "      <td>0.86</td>\n",
              "      <td>0.88</td>\n",
              "      <td>4819</td>\n",
              "    </tr>\n",
              "    <tr>\n",
              "      <th>2</th>\n",
              "      <td>2011-03-25</td>\n",
              "      <td>0.88</td>\n",
              "      <td>0.91</td>\n",
              "      <td>0.84</td>\n",
              "      <td>0.86</td>\n",
              "      <td>11756</td>\n",
              "    </tr>\n",
              "    <tr>\n",
              "      <th>3</th>\n",
              "      <td>2011-03-26</td>\n",
              "      <td>0.83</td>\n",
              "      <td>0.87</td>\n",
              "      <td>0.82</td>\n",
              "      <td>0.82</td>\n",
              "      <td>5337</td>\n",
              "    </tr>\n",
              "    <tr>\n",
              "      <th>4</th>\n",
              "      <td>2011-03-27</td>\n",
              "      <td>0.82</td>\n",
              "      <td>0.85</td>\n",
              "      <td>0.76</td>\n",
              "      <td>0.80</td>\n",
              "      <td>12565</td>\n",
              "    </tr>\n",
              "  </tbody>\n",
              "</table>\n",
              "</div>\n",
              "    <div class=\"colab-df-buttons\">\n",
              "\n",
              "  <div class=\"colab-df-container\">\n",
              "    <button class=\"colab-df-convert\" onclick=\"convertToInteractive('df-f26fe690-41e8-4819-a933-99ac753b6cdc')\"\n",
              "            title=\"Convert this dataframe to an interactive table.\"\n",
              "            style=\"display:none;\">\n",
              "\n",
              "  <svg xmlns=\"http://www.w3.org/2000/svg\" height=\"24px\" viewBox=\"0 -960 960 960\">\n",
              "    <path d=\"M120-120v-720h720v720H120Zm60-500h600v-160H180v160Zm220 220h160v-160H400v160Zm0 220h160v-160H400v160ZM180-400h160v-160H180v160Zm440 0h160v-160H620v160ZM180-180h160v-160H180v160Zm440 0h160v-160H620v160Z\"/>\n",
              "  </svg>\n",
              "    </button>\n",
              "\n",
              "  <style>\n",
              "    .colab-df-container {\n",
              "      display:flex;\n",
              "      gap: 12px;\n",
              "    }\n",
              "\n",
              "    .colab-df-convert {\n",
              "      background-color: #E8F0FE;\n",
              "      border: none;\n",
              "      border-radius: 50%;\n",
              "      cursor: pointer;\n",
              "      display: none;\n",
              "      fill: #1967D2;\n",
              "      height: 32px;\n",
              "      padding: 0 0 0 0;\n",
              "      width: 32px;\n",
              "    }\n",
              "\n",
              "    .colab-df-convert:hover {\n",
              "      background-color: #E2EBFA;\n",
              "      box-shadow: 0px 1px 2px rgba(60, 64, 67, 0.3), 0px 1px 3px 1px rgba(60, 64, 67, 0.15);\n",
              "      fill: #174EA6;\n",
              "    }\n",
              "\n",
              "    .colab-df-buttons div {\n",
              "      margin-bottom: 4px;\n",
              "    }\n",
              "\n",
              "    [theme=dark] .colab-df-convert {\n",
              "      background-color: #3B4455;\n",
              "      fill: #D2E3FC;\n",
              "    }\n",
              "\n",
              "    [theme=dark] .colab-df-convert:hover {\n",
              "      background-color: #434B5C;\n",
              "      box-shadow: 0px 1px 3px 1px rgba(0, 0, 0, 0.15);\n",
              "      filter: drop-shadow(0px 1px 2px rgba(0, 0, 0, 0.3));\n",
              "      fill: #FFFFFF;\n",
              "    }\n",
              "  </style>\n",
              "\n",
              "    <script>\n",
              "      const buttonEl =\n",
              "        document.querySelector('#df-f26fe690-41e8-4819-a933-99ac753b6cdc button.colab-df-convert');\n",
              "      buttonEl.style.display =\n",
              "        google.colab.kernel.accessAllowed ? 'block' : 'none';\n",
              "\n",
              "      async function convertToInteractive(key) {\n",
              "        const element = document.querySelector('#df-f26fe690-41e8-4819-a933-99ac753b6cdc');\n",
              "        const dataTable =\n",
              "          await google.colab.kernel.invokeFunction('convertToInteractive',\n",
              "                                                    [key], {});\n",
              "        if (!dataTable) return;\n",
              "\n",
              "        const docLinkHtml = 'Like what you see? Visit the ' +\n",
              "          '<a target=\"_blank\" href=https://colab.research.google.com/notebooks/data_table.ipynb>data table notebook</a>'\n",
              "          + ' to learn more about interactive tables.';\n",
              "        element.innerHTML = '';\n",
              "        dataTable['output_type'] = 'display_data';\n",
              "        await google.colab.output.renderOutput(dataTable, element);\n",
              "        const docLink = document.createElement('div');\n",
              "        docLink.innerHTML = docLinkHtml;\n",
              "        element.appendChild(docLink);\n",
              "      }\n",
              "    </script>\n",
              "  </div>\n",
              "\n",
              "\n",
              "<div id=\"df-a5387c5d-131a-433e-bcb3-9925bd784c18\">\n",
              "  <button class=\"colab-df-quickchart\" onclick=\"quickchart('df-a5387c5d-131a-433e-bcb3-9925bd784c18')\"\n",
              "            title=\"Suggest charts\"\n",
              "            style=\"display:none;\">\n",
              "\n",
              "<svg xmlns=\"http://www.w3.org/2000/svg\" height=\"24px\"viewBox=\"0 0 24 24\"\n",
              "     width=\"24px\">\n",
              "    <g>\n",
              "        <path d=\"M19 3H5c-1.1 0-2 .9-2 2v14c0 1.1.9 2 2 2h14c1.1 0 2-.9 2-2V5c0-1.1-.9-2-2-2zM9 17H7v-7h2v7zm4 0h-2V7h2v10zm4 0h-2v-4h2v4z\"/>\n",
              "    </g>\n",
              "</svg>\n",
              "  </button>\n",
              "\n",
              "<style>\n",
              "  .colab-df-quickchart {\n",
              "      --bg-color: #E8F0FE;\n",
              "      --fill-color: #1967D2;\n",
              "      --hover-bg-color: #E2EBFA;\n",
              "      --hover-fill-color: #174EA6;\n",
              "      --disabled-fill-color: #AAA;\n",
              "      --disabled-bg-color: #DDD;\n",
              "  }\n",
              "\n",
              "  [theme=dark] .colab-df-quickchart {\n",
              "      --bg-color: #3B4455;\n",
              "      --fill-color: #D2E3FC;\n",
              "      --hover-bg-color: #434B5C;\n",
              "      --hover-fill-color: #FFFFFF;\n",
              "      --disabled-bg-color: #3B4455;\n",
              "      --disabled-fill-color: #666;\n",
              "  }\n",
              "\n",
              "  .colab-df-quickchart {\n",
              "    background-color: var(--bg-color);\n",
              "    border: none;\n",
              "    border-radius: 50%;\n",
              "    cursor: pointer;\n",
              "    display: none;\n",
              "    fill: var(--fill-color);\n",
              "    height: 32px;\n",
              "    padding: 0;\n",
              "    width: 32px;\n",
              "  }\n",
              "\n",
              "  .colab-df-quickchart:hover {\n",
              "    background-color: var(--hover-bg-color);\n",
              "    box-shadow: 0 1px 2px rgba(60, 64, 67, 0.3), 0 1px 3px 1px rgba(60, 64, 67, 0.15);\n",
              "    fill: var(--button-hover-fill-color);\n",
              "  }\n",
              "\n",
              "  .colab-df-quickchart-complete:disabled,\n",
              "  .colab-df-quickchart-complete:disabled:hover {\n",
              "    background-color: var(--disabled-bg-color);\n",
              "    fill: var(--disabled-fill-color);\n",
              "    box-shadow: none;\n",
              "  }\n",
              "\n",
              "  .colab-df-spinner {\n",
              "    border: 2px solid var(--fill-color);\n",
              "    border-color: transparent;\n",
              "    border-bottom-color: var(--fill-color);\n",
              "    animation:\n",
              "      spin 1s steps(1) infinite;\n",
              "  }\n",
              "\n",
              "  @keyframes spin {\n",
              "    0% {\n",
              "      border-color: transparent;\n",
              "      border-bottom-color: var(--fill-color);\n",
              "      border-left-color: var(--fill-color);\n",
              "    }\n",
              "    20% {\n",
              "      border-color: transparent;\n",
              "      border-left-color: var(--fill-color);\n",
              "      border-top-color: var(--fill-color);\n",
              "    }\n",
              "    30% {\n",
              "      border-color: transparent;\n",
              "      border-left-color: var(--fill-color);\n",
              "      border-top-color: var(--fill-color);\n",
              "      border-right-color: var(--fill-color);\n",
              "    }\n",
              "    40% {\n",
              "      border-color: transparent;\n",
              "      border-right-color: var(--fill-color);\n",
              "      border-top-color: var(--fill-color);\n",
              "    }\n",
              "    60% {\n",
              "      border-color: transparent;\n",
              "      border-right-color: var(--fill-color);\n",
              "    }\n",
              "    80% {\n",
              "      border-color: transparent;\n",
              "      border-right-color: var(--fill-color);\n",
              "      border-bottom-color: var(--fill-color);\n",
              "    }\n",
              "    90% {\n",
              "      border-color: transparent;\n",
              "      border-bottom-color: var(--fill-color);\n",
              "    }\n",
              "  }\n",
              "</style>\n",
              "\n",
              "  <script>\n",
              "    async function quickchart(key) {\n",
              "      const quickchartButtonEl =\n",
              "        document.querySelector('#' + key + ' button');\n",
              "      quickchartButtonEl.disabled = true;  // To prevent multiple clicks.\n",
              "      quickchartButtonEl.classList.add('colab-df-spinner');\n",
              "      try {\n",
              "        const charts = await google.colab.kernel.invokeFunction(\n",
              "            'suggestCharts', [key], {});\n",
              "      } catch (error) {\n",
              "        console.error('Error during call to suggestCharts:', error);\n",
              "      }\n",
              "      quickchartButtonEl.classList.remove('colab-df-spinner');\n",
              "      quickchartButtonEl.classList.add('colab-df-quickchart-complete');\n",
              "    }\n",
              "    (() => {\n",
              "      let quickchartButtonEl =\n",
              "        document.querySelector('#df-a5387c5d-131a-433e-bcb3-9925bd784c18 button');\n",
              "      quickchartButtonEl.style.display =\n",
              "        google.colab.kernel.accessAllowed ? 'block' : 'none';\n",
              "    })();\n",
              "  </script>\n",
              "</div>\n",
              "\n",
              "    </div>\n",
              "  </div>\n"
            ],
            "application/vnd.google.colaboratory.intrinsic+json": {
              "type": "dataframe",
              "variable_name": "Df",
              "summary": "{\n  \"name\": \"Df\",\n  \"rows\": 3863,\n  \"fields\": [\n    {\n      \"column\": \"Time\",\n      \"properties\": {\n        \"dtype\": \"date\",\n        \"min\": \"2011-03-23 00:00:00\",\n        \"max\": \"2022-06-30 00:00:00\",\n        \"num_unique_values\": 3863,\n        \"samples\": [\n          \"2015-04-11 00:00:00\",\n          \"2020-02-11 00:00:00\",\n          \"2018-09-18 00:00:00\"\n        ],\n        \"semantic_type\": \"\",\n        \"description\": \"\"\n      }\n    },\n    {\n      \"column\": \"Open\",\n      \"properties\": {\n        \"dtype\": \"number\",\n        \"std\": 13943.733958207364,\n        \"min\": 0.68,\n        \"max\": 67543.449,\n        \"num_unique_values\": 3635,\n        \"samples\": [\n          242.89,\n          7.8,\n          800.0\n        ],\n        \"semantic_type\": \"\",\n        \"description\": \"\"\n      }\n    },\n    {\n      \"column\": \"High\",\n      \"properties\": {\n        \"dtype\": \"number\",\n        \"std\": 14350.732724901198,\n        \"min\": 0.75,\n        \"max\": 68992.399,\n        \"num_unique_values\": 3590,\n        \"samples\": [\n          9203.605,\n          6.69,\n          4128.52\n        ],\n        \"semantic_type\": \"\",\n        \"description\": \"\"\n      }\n    },\n    {\n      \"column\": \"Low\",\n      \"properties\": {\n        \"dtype\": \"number\",\n        \"std\": 13473.32421587989,\n        \"min\": 0.56,\n        \"max\": 66252.644,\n        \"num_unique_values\": 3619,\n        \"samples\": [\n          13639.83,\n          2221.3,\n          6689.64\n        ],\n        \"semantic_type\": \"\",\n        \"description\": \"\"\n      }\n    },\n    {\n      \"column\": \"Close\",\n      \"properties\": {\n        \"dtype\": \"number\",\n        \"std\": 13957.371683467542,\n        \"min\": 0.68,\n        \"max\": 67542.949,\n        \"num_unique_values\": 3633,\n        \"samples\": [\n          7116.4,\n          2.57,\n          3.16\n        ],\n        \"semantic_type\": \"\",\n        \"description\": \"\"\n      }\n    },\n    {\n      \"column\": \"Volume\",\n      \"properties\": {\n        \"dtype\": \"number\",\n        \"std\": 1039587,\n        \"min\": 477,\n        \"max\": 20428343,\n        \"num_unique_values\": 3781,\n        \"samples\": [\n          5455,\n          18238,\n          18393\n        ],\n        \"semantic_type\": \"\",\n        \"description\": \"\"\n      }\n    }\n  ]\n}"
            }
          },
          "metadata": {},
          "execution_count": 4606
        }
      ],
      "source": [
        "#Convert the 'Time' column into pandas datetime format\n",
        "Df['Time'] = pd.to_datetime(Df['Time'],dayfirst=True)\n",
        "Df.head()"
      ]
    },
    {
      "cell_type": "code",
      "execution_count": null,
      "metadata": {
        "id": "ts60cyGZrf9v",
        "colab": {
          "base_uri": "https://localhost:8080/"
        },
        "outputId": "06ed26cb-6dc2-4a60-dfa9-1e0ff2f9ff68"
      },
      "outputs": [
        {
          "output_type": "execute_result",
          "data": {
            "text/plain": [
              "dtype('<M8[ns]')"
            ]
          },
          "metadata": {},
          "execution_count": 4607
        }
      ],
      "source": [
        "Df[\"Time\"].dtype"
      ]
    },
    {
      "cell_type": "markdown",
      "metadata": {
        "id": "NqLtop9Erf9v"
      },
      "source": [
        "## Create Indicators"
      ]
    },
    {
      "cell_type": "markdown",
      "metadata": {
        "id": "vNk5SXJUrf9w"
      },
      "source": [
        "### Indicators using the SA lib"
      ]
    },
    {
      "cell_type": "code",
      "execution_count": null,
      "metadata": {
        "id": "MluCU6Z2rf9x"
      },
      "outputs": [],
      "source": [
        "def sa(df, params):\n",
        "    # we need to rename the columns since the SA lib uses a diferent name\n",
        "    df.rename(columns={'Time': 'time', 'Open': 'open', 'High': 'high', 'Low': 'low', 'Close': 'close', 'Volume': 'volume'}, inplace=True)\n",
        "    rates = df.to_dict(\"records\")\n",
        "\n",
        "    df_features = GetFeaturesSALIB_THX(rates,params)\n",
        "    df_features = df_features.shift(1)\n",
        "\n",
        "    df = pd.concat([df, df_features], axis=1)\n",
        "    # let's change back the column's name\n",
        "    df.rename(columns={'time': 'Time', 'open': 'Open', 'high': 'High', 'low': 'Low', 'close': 'Close', 'volume': 'Volume'}, inplace=True)\n",
        "    df['Time'] = pd.to_datetime(df['Time'],dayfirst=True)\n",
        "    return df"
      ]
    },
    {
      "cell_type": "code",
      "execution_count": null,
      "metadata": {
        "id": "POkzwcOxrf9x"
      },
      "outputs": [],
      "source": [
        "# List with all possible features of the SA Lib\n",
        "features_all = ['cto1', 'cto2', 'cto2',\n",
        "                'ctc0', 'ctc1', 'ctc2', 'ctc3', 'ctc4', 'ctc5',\n",
        "                'ctc0_label', 'ctc1_label', 'ctc2_label', 'ctc3_label', 'ctc4_label', 'ctc5_label',\n",
        "                'ctc0_month','cto0_month',\n",
        "                'fopen0', 'fhigh0', 'flow0', 'fhigh4', 'flow4', 'fhigh8', 'flow8', 'fhigh12', 'flow12',\n",
        "                'ibs0', 'ibs1', 'ibs4', 'ibs8', 'ibs16',\n",
        "                'gap', 'range0', 'range1', 'range_week0', 'range_week1', 'range_month0',\n",
        "                'average_range_10', 'average_range_20', 'average_range_5',\n",
        "                'average_failure_high', 'average_failure_low',\n",
        "                'daily_position0', 'daily_position1', 'daily_position2', 'daily_position3',\n",
        "                'weekly_position0','weekly_position1','weekly_position2',\n",
        "                'relative_position0', 'minutes', 'hour', 'day', 'day_label',\n",
        "                'quadrant',\n",
        "                'cto1_label', 'cto2_label','cto3_label', 'cto4_label',\n",
        "                'candle_id', 'ma_9_40_label', 'stoch_4_label', 'stoch_14_label', 'stoch_32_label',\n",
        "                'stoch_4', 'stoch_14', 'stoch_32', 'adx_14', 'rsi_4', 'rsi_14', 'ma',\n",
        "                'range_1', 'range_2', 'candle_return_1', 'candle_return_2',\n",
        "                'cto1_h1', 'cto2_h1', 'cto2_h1', 'fopen0_h1', 'fhigh0_h1', 'flow0_h1', 'fhigh4_h1', 'flow4_h1',\n",
        "                'ibs0_h1', 'ibs1_h1', 'ibs4_h1',]\n",
        "\n",
        "# 'day_label' -> 0 if day<=10, 1 if 10<day<=20, 2 if 20<day<=31\n",
        "# 'ctc0' -> %change between close0 to close1\n",
        "# 'ctc0_label' -> if close0 >= close1 then label=0, if close0 < close1 then label=1\n",
        "# 'ctc0_month' -> %change between the month close0 to the previous month close1\n",
        "#  to crate a run of 3, you can instanciate 'ctc1_label', 'ctc2_label', 'ctc3_label'\n",
        "# 'quadrant' -> 6 quadrants that are:\n",
        "#                                     label=0 if day<=10 and monthly %change>=0,\n",
        "#                                     label=1 if day<=10 and monthly %change<0,\n",
        "#                                     label=2 if 10<day<=20 and monthly %change>=0,\n",
        "#                                     label=3 if 10<day<=20 and monthly %change<0,\n",
        "#                                     label=4 if 20<day<=31 and monthly %change>=0,\n",
        "#                                     label=5 if 20<day<=31 and monthly %change<0,\n",
        "#  if you want to use the absolute value of %change when instantiating the quadrant, you can use 'day_label' and 'ctc0_month'"
      ]
    },
    {
      "cell_type": "code",
      "execution_count": null,
      "metadata": {
        "id": "scnTQO-wrf9y",
        "colab": {
          "base_uri": "https://localhost:8080/"
        },
        "outputId": "5966e971-94b3-49d1-d8c0-4e45ff3de21f"
      },
      "outputs": [
        {
          "output_type": "stream",
          "name": "stdout",
          "text": [
            "Calculating indicators!!\n"
          ]
        }
      ],
      "source": [
        "# params = ['hour', 'flow10', 'fhigh10', 'flow4', 'fhigh4', 'flow0', 'fhigh0']\n",
        "params = ['quadrant']\n",
        "Df = sa(Df, params)"
      ]
    },
    {
      "cell_type": "code",
      "execution_count": null,
      "metadata": {
        "id": "zNVVZhcZrf9z",
        "colab": {
          "base_uri": "https://localhost:8080/",
          "height": 206
        },
        "outputId": "7eeb6444-b826-45db-c489-57ae1ec8367e"
      },
      "outputs": [
        {
          "output_type": "execute_result",
          "data": {
            "text/plain": [
              "        Time  Open  High   Low  Close  Volume  quadrant\n",
              "0 2011-03-23  0.83  0.90  0.83   0.87   14009       NaN\n",
              "1 2011-03-24  0.87  0.89  0.86   0.88    4819       4.0\n",
              "2 2011-03-25  0.88  0.91  0.84   0.86   11756       4.0\n",
              "3 2011-03-26  0.83  0.87  0.82   0.82    5337       4.0\n",
              "4 2011-03-27  0.82  0.85  0.76   0.80   12565       5.0"
            ],
            "text/html": [
              "\n",
              "  <div id=\"df-23deb95a-bdd1-4f6d-95bf-ebb674f98e85\" class=\"colab-df-container\">\n",
              "    <div>\n",
              "<style scoped>\n",
              "    .dataframe tbody tr th:only-of-type {\n",
              "        vertical-align: middle;\n",
              "    }\n",
              "\n",
              "    .dataframe tbody tr th {\n",
              "        vertical-align: top;\n",
              "    }\n",
              "\n",
              "    .dataframe thead th {\n",
              "        text-align: right;\n",
              "    }\n",
              "</style>\n",
              "<table border=\"1\" class=\"dataframe\">\n",
              "  <thead>\n",
              "    <tr style=\"text-align: right;\">\n",
              "      <th></th>\n",
              "      <th>Time</th>\n",
              "      <th>Open</th>\n",
              "      <th>High</th>\n",
              "      <th>Low</th>\n",
              "      <th>Close</th>\n",
              "      <th>Volume</th>\n",
              "      <th>quadrant</th>\n",
              "    </tr>\n",
              "  </thead>\n",
              "  <tbody>\n",
              "    <tr>\n",
              "      <th>0</th>\n",
              "      <td>2011-03-23</td>\n",
              "      <td>0.83</td>\n",
              "      <td>0.90</td>\n",
              "      <td>0.83</td>\n",
              "      <td>0.87</td>\n",
              "      <td>14009</td>\n",
              "      <td>NaN</td>\n",
              "    </tr>\n",
              "    <tr>\n",
              "      <th>1</th>\n",
              "      <td>2011-03-24</td>\n",
              "      <td>0.87</td>\n",
              "      <td>0.89</td>\n",
              "      <td>0.86</td>\n",
              "      <td>0.88</td>\n",
              "      <td>4819</td>\n",
              "      <td>4.0</td>\n",
              "    </tr>\n",
              "    <tr>\n",
              "      <th>2</th>\n",
              "      <td>2011-03-25</td>\n",
              "      <td>0.88</td>\n",
              "      <td>0.91</td>\n",
              "      <td>0.84</td>\n",
              "      <td>0.86</td>\n",
              "      <td>11756</td>\n",
              "      <td>4.0</td>\n",
              "    </tr>\n",
              "    <tr>\n",
              "      <th>3</th>\n",
              "      <td>2011-03-26</td>\n",
              "      <td>0.83</td>\n",
              "      <td>0.87</td>\n",
              "      <td>0.82</td>\n",
              "      <td>0.82</td>\n",
              "      <td>5337</td>\n",
              "      <td>4.0</td>\n",
              "    </tr>\n",
              "    <tr>\n",
              "      <th>4</th>\n",
              "      <td>2011-03-27</td>\n",
              "      <td>0.82</td>\n",
              "      <td>0.85</td>\n",
              "      <td>0.76</td>\n",
              "      <td>0.80</td>\n",
              "      <td>12565</td>\n",
              "      <td>5.0</td>\n",
              "    </tr>\n",
              "  </tbody>\n",
              "</table>\n",
              "</div>\n",
              "    <div class=\"colab-df-buttons\">\n",
              "\n",
              "  <div class=\"colab-df-container\">\n",
              "    <button class=\"colab-df-convert\" onclick=\"convertToInteractive('df-23deb95a-bdd1-4f6d-95bf-ebb674f98e85')\"\n",
              "            title=\"Convert this dataframe to an interactive table.\"\n",
              "            style=\"display:none;\">\n",
              "\n",
              "  <svg xmlns=\"http://www.w3.org/2000/svg\" height=\"24px\" viewBox=\"0 -960 960 960\">\n",
              "    <path d=\"M120-120v-720h720v720H120Zm60-500h600v-160H180v160Zm220 220h160v-160H400v160Zm0 220h160v-160H400v160ZM180-400h160v-160H180v160Zm440 0h160v-160H620v160ZM180-180h160v-160H180v160Zm440 0h160v-160H620v160Z\"/>\n",
              "  </svg>\n",
              "    </button>\n",
              "\n",
              "  <style>\n",
              "    .colab-df-container {\n",
              "      display:flex;\n",
              "      gap: 12px;\n",
              "    }\n",
              "\n",
              "    .colab-df-convert {\n",
              "      background-color: #E8F0FE;\n",
              "      border: none;\n",
              "      border-radius: 50%;\n",
              "      cursor: pointer;\n",
              "      display: none;\n",
              "      fill: #1967D2;\n",
              "      height: 32px;\n",
              "      padding: 0 0 0 0;\n",
              "      width: 32px;\n",
              "    }\n",
              "\n",
              "    .colab-df-convert:hover {\n",
              "      background-color: #E2EBFA;\n",
              "      box-shadow: 0px 1px 2px rgba(60, 64, 67, 0.3), 0px 1px 3px 1px rgba(60, 64, 67, 0.15);\n",
              "      fill: #174EA6;\n",
              "    }\n",
              "\n",
              "    .colab-df-buttons div {\n",
              "      margin-bottom: 4px;\n",
              "    }\n",
              "\n",
              "    [theme=dark] .colab-df-convert {\n",
              "      background-color: #3B4455;\n",
              "      fill: #D2E3FC;\n",
              "    }\n",
              "\n",
              "    [theme=dark] .colab-df-convert:hover {\n",
              "      background-color: #434B5C;\n",
              "      box-shadow: 0px 1px 3px 1px rgba(0, 0, 0, 0.15);\n",
              "      filter: drop-shadow(0px 1px 2px rgba(0, 0, 0, 0.3));\n",
              "      fill: #FFFFFF;\n",
              "    }\n",
              "  </style>\n",
              "\n",
              "    <script>\n",
              "      const buttonEl =\n",
              "        document.querySelector('#df-23deb95a-bdd1-4f6d-95bf-ebb674f98e85 button.colab-df-convert');\n",
              "      buttonEl.style.display =\n",
              "        google.colab.kernel.accessAllowed ? 'block' : 'none';\n",
              "\n",
              "      async function convertToInteractive(key) {\n",
              "        const element = document.querySelector('#df-23deb95a-bdd1-4f6d-95bf-ebb674f98e85');\n",
              "        const dataTable =\n",
              "          await google.colab.kernel.invokeFunction('convertToInteractive',\n",
              "                                                    [key], {});\n",
              "        if (!dataTable) return;\n",
              "\n",
              "        const docLinkHtml = 'Like what you see? Visit the ' +\n",
              "          '<a target=\"_blank\" href=https://colab.research.google.com/notebooks/data_table.ipynb>data table notebook</a>'\n",
              "          + ' to learn more about interactive tables.';\n",
              "        element.innerHTML = '';\n",
              "        dataTable['output_type'] = 'display_data';\n",
              "        await google.colab.output.renderOutput(dataTable, element);\n",
              "        const docLink = document.createElement('div');\n",
              "        docLink.innerHTML = docLinkHtml;\n",
              "        element.appendChild(docLink);\n",
              "      }\n",
              "    </script>\n",
              "  </div>\n",
              "\n",
              "\n",
              "<div id=\"df-eff01bc8-b5bd-434b-bc23-9d499d0e0f50\">\n",
              "  <button class=\"colab-df-quickchart\" onclick=\"quickchart('df-eff01bc8-b5bd-434b-bc23-9d499d0e0f50')\"\n",
              "            title=\"Suggest charts\"\n",
              "            style=\"display:none;\">\n",
              "\n",
              "<svg xmlns=\"http://www.w3.org/2000/svg\" height=\"24px\"viewBox=\"0 0 24 24\"\n",
              "     width=\"24px\">\n",
              "    <g>\n",
              "        <path d=\"M19 3H5c-1.1 0-2 .9-2 2v14c0 1.1.9 2 2 2h14c1.1 0 2-.9 2-2V5c0-1.1-.9-2-2-2zM9 17H7v-7h2v7zm4 0h-2V7h2v10zm4 0h-2v-4h2v4z\"/>\n",
              "    </g>\n",
              "</svg>\n",
              "  </button>\n",
              "\n",
              "<style>\n",
              "  .colab-df-quickchart {\n",
              "      --bg-color: #E8F0FE;\n",
              "      --fill-color: #1967D2;\n",
              "      --hover-bg-color: #E2EBFA;\n",
              "      --hover-fill-color: #174EA6;\n",
              "      --disabled-fill-color: #AAA;\n",
              "      --disabled-bg-color: #DDD;\n",
              "  }\n",
              "\n",
              "  [theme=dark] .colab-df-quickchart {\n",
              "      --bg-color: #3B4455;\n",
              "      --fill-color: #D2E3FC;\n",
              "      --hover-bg-color: #434B5C;\n",
              "      --hover-fill-color: #FFFFFF;\n",
              "      --disabled-bg-color: #3B4455;\n",
              "      --disabled-fill-color: #666;\n",
              "  }\n",
              "\n",
              "  .colab-df-quickchart {\n",
              "    background-color: var(--bg-color);\n",
              "    border: none;\n",
              "    border-radius: 50%;\n",
              "    cursor: pointer;\n",
              "    display: none;\n",
              "    fill: var(--fill-color);\n",
              "    height: 32px;\n",
              "    padding: 0;\n",
              "    width: 32px;\n",
              "  }\n",
              "\n",
              "  .colab-df-quickchart:hover {\n",
              "    background-color: var(--hover-bg-color);\n",
              "    box-shadow: 0 1px 2px rgba(60, 64, 67, 0.3), 0 1px 3px 1px rgba(60, 64, 67, 0.15);\n",
              "    fill: var(--button-hover-fill-color);\n",
              "  }\n",
              "\n",
              "  .colab-df-quickchart-complete:disabled,\n",
              "  .colab-df-quickchart-complete:disabled:hover {\n",
              "    background-color: var(--disabled-bg-color);\n",
              "    fill: var(--disabled-fill-color);\n",
              "    box-shadow: none;\n",
              "  }\n",
              "\n",
              "  .colab-df-spinner {\n",
              "    border: 2px solid var(--fill-color);\n",
              "    border-color: transparent;\n",
              "    border-bottom-color: var(--fill-color);\n",
              "    animation:\n",
              "      spin 1s steps(1) infinite;\n",
              "  }\n",
              "\n",
              "  @keyframes spin {\n",
              "    0% {\n",
              "      border-color: transparent;\n",
              "      border-bottom-color: var(--fill-color);\n",
              "      border-left-color: var(--fill-color);\n",
              "    }\n",
              "    20% {\n",
              "      border-color: transparent;\n",
              "      border-left-color: var(--fill-color);\n",
              "      border-top-color: var(--fill-color);\n",
              "    }\n",
              "    30% {\n",
              "      border-color: transparent;\n",
              "      border-left-color: var(--fill-color);\n",
              "      border-top-color: var(--fill-color);\n",
              "      border-right-color: var(--fill-color);\n",
              "    }\n",
              "    40% {\n",
              "      border-color: transparent;\n",
              "      border-right-color: var(--fill-color);\n",
              "      border-top-color: var(--fill-color);\n",
              "    }\n",
              "    60% {\n",
              "      border-color: transparent;\n",
              "      border-right-color: var(--fill-color);\n",
              "    }\n",
              "    80% {\n",
              "      border-color: transparent;\n",
              "      border-right-color: var(--fill-color);\n",
              "      border-bottom-color: var(--fill-color);\n",
              "    }\n",
              "    90% {\n",
              "      border-color: transparent;\n",
              "      border-bottom-color: var(--fill-color);\n",
              "    }\n",
              "  }\n",
              "</style>\n",
              "\n",
              "  <script>\n",
              "    async function quickchart(key) {\n",
              "      const quickchartButtonEl =\n",
              "        document.querySelector('#' + key + ' button');\n",
              "      quickchartButtonEl.disabled = true;  // To prevent multiple clicks.\n",
              "      quickchartButtonEl.classList.add('colab-df-spinner');\n",
              "      try {\n",
              "        const charts = await google.colab.kernel.invokeFunction(\n",
              "            'suggestCharts', [key], {});\n",
              "      } catch (error) {\n",
              "        console.error('Error during call to suggestCharts:', error);\n",
              "      }\n",
              "      quickchartButtonEl.classList.remove('colab-df-spinner');\n",
              "      quickchartButtonEl.classList.add('colab-df-quickchart-complete');\n",
              "    }\n",
              "    (() => {\n",
              "      let quickchartButtonEl =\n",
              "        document.querySelector('#df-eff01bc8-b5bd-434b-bc23-9d499d0e0f50 button');\n",
              "      quickchartButtonEl.style.display =\n",
              "        google.colab.kernel.accessAllowed ? 'block' : 'none';\n",
              "    })();\n",
              "  </script>\n",
              "</div>\n",
              "\n",
              "    </div>\n",
              "  </div>\n"
            ],
            "application/vnd.google.colaboratory.intrinsic+json": {
              "type": "dataframe",
              "variable_name": "Df",
              "summary": "{\n  \"name\": \"Df\",\n  \"rows\": 3863,\n  \"fields\": [\n    {\n      \"column\": \"Time\",\n      \"properties\": {\n        \"dtype\": \"date\",\n        \"min\": \"2011-03-23 00:00:00\",\n        \"max\": \"2022-06-30 00:00:00\",\n        \"num_unique_values\": 3863,\n        \"samples\": [\n          \"2015-04-11 00:00:00\",\n          \"2020-02-11 00:00:00\",\n          \"2018-09-18 00:00:00\"\n        ],\n        \"semantic_type\": \"\",\n        \"description\": \"\"\n      }\n    },\n    {\n      \"column\": \"Open\",\n      \"properties\": {\n        \"dtype\": \"number\",\n        \"std\": 13943.733958207364,\n        \"min\": 0.68,\n        \"max\": 67543.449,\n        \"num_unique_values\": 3635,\n        \"samples\": [\n          242.89,\n          7.8,\n          800.0\n        ],\n        \"semantic_type\": \"\",\n        \"description\": \"\"\n      }\n    },\n    {\n      \"column\": \"High\",\n      \"properties\": {\n        \"dtype\": \"number\",\n        \"std\": 14350.732724901198,\n        \"min\": 0.75,\n        \"max\": 68992.399,\n        \"num_unique_values\": 3590,\n        \"samples\": [\n          9203.605,\n          6.69,\n          4128.52\n        ],\n        \"semantic_type\": \"\",\n        \"description\": \"\"\n      }\n    },\n    {\n      \"column\": \"Low\",\n      \"properties\": {\n        \"dtype\": \"number\",\n        \"std\": 13473.32421587989,\n        \"min\": 0.56,\n        \"max\": 66252.644,\n        \"num_unique_values\": 3619,\n        \"samples\": [\n          13639.83,\n          2221.3,\n          6689.64\n        ],\n        \"semantic_type\": \"\",\n        \"description\": \"\"\n      }\n    },\n    {\n      \"column\": \"Close\",\n      \"properties\": {\n        \"dtype\": \"number\",\n        \"std\": 13957.371683467542,\n        \"min\": 0.68,\n        \"max\": 67542.949,\n        \"num_unique_values\": 3633,\n        \"samples\": [\n          7116.4,\n          2.57,\n          3.16\n        ],\n        \"semantic_type\": \"\",\n        \"description\": \"\"\n      }\n    },\n    {\n      \"column\": \"Volume\",\n      \"properties\": {\n        \"dtype\": \"number\",\n        \"std\": 1039587,\n        \"min\": 477,\n        \"max\": 20428343,\n        \"num_unique_values\": 3781,\n        \"samples\": [\n          5455,\n          18238,\n          18393\n        ],\n        \"semantic_type\": \"\",\n        \"description\": \"\"\n      }\n    },\n    {\n      \"column\": \"quadrant\",\n      \"properties\": {\n        \"dtype\": \"number\",\n        \"std\": 1.722777845663456,\n        \"min\": 0.0,\n        \"max\": 5.0,\n        \"num_unique_values\": 6,\n        \"samples\": [\n          4.0,\n          5.0,\n          3.0\n        ],\n        \"semantic_type\": \"\",\n        \"description\": \"\"\n      }\n    }\n  ]\n}"
            }
          },
          "metadata": {},
          "execution_count": 4611
        }
      ],
      "source": [
        "# Df = Df.dropna()\n",
        "Df.head()"
      ]
    },
    {
      "cell_type": "markdown",
      "metadata": {
        "id": "AfvB-an0rf9z"
      },
      "source": [
        "### Technical indicators using the TA lib"
      ]
    },
    {
      "cell_type": "code",
      "execution_count": null,
      "metadata": {
        "id": "REqhtFxlrf9z"
      },
      "outputs": [],
      "source": [
        "# Create a variable n with a value of 10\n",
        "n = 10\n",
        "\n",
        "# # Create a column by name, RSI and assign the calculation of RSI to it\n",
        "# Df['RSI'] = ta.RSI(np.array(Df['Close'].shift(1)), timeperiod=n)\n",
        "\n",
        "# # Create a column by name, RSI and assign the calculation of RSI to it\n",
        "# Df['RSI2'] = ta.RSI(np.array(Df['Close'].shift(1)), timeperiod=n*2)\n",
        "\n",
        "# # Create a column by name, RSI and assign the calculation of RSI to it\n",
        "# Df['RSI3'] = ta.RSI(np.array(Df['Close'].shift(1)), timeperiod=n*4)\n",
        "\n",
        "# # Create a column by name, RSI and assign the calculation of RSI to it\n",
        "# Df['RSI4'] = ta.RSI(np.array(Df['Close'].shift(1)), timeperiod=n*8)\n",
        "\n",
        "# # Create a column by name, SMA and assign the SMA calculation to it\n",
        "# Df['SMA'] = Df['Close'].shift(1).rolling(window=n).mean()\n",
        "\n",
        "# # Create a column by name, SMA and assign the SMA calculation to it\n",
        "# Df['SMA2'] = Df['Close'].shift(1).rolling(window=n*2).mean()\n",
        "\n",
        "# # Create a column by name, SMA and assign the SMA calculation to it\n",
        "# Df['SMA3'] = Df['Close'].shift(1).rolling(window=n*5).mean()\n",
        "\n",
        "# # # Create a column by name, SAR and assign the SAR calculation to it\n",
        "# # Df['SAR'] = ta.SAR(np.array(Df['High'].shift(1)), np.array(Df['Low'].shift(1)),\n",
        "# #                    0.2, 0.2)\n",
        "\n",
        "# Create a column by name, ADX and assign the ADX calculation to it\n",
        "Df['ADX'] = ta.ADX(np.array(Df['High'].shift(1)), np.array(Df['Low'].shift(1)),\n",
        "                   np.array(Df['Open']), timeperiod=n)\n",
        "\n",
        "\n",
        "# Create columns 'OO' with the difference between the current minute's open and last minute's open\n",
        "Df['OO'] = Df['Open']-Df['Open'].shift(1)\n",
        "\n",
        "# # Create columns 'OC' with the difference between the current minute's open and last minute's close\n",
        "# Df['OC'] = Df['Open']-Df['Close'].shift(1)\n",
        "\n",
        "# # Create a column by name, MACD\n",
        "# Df['MACD'], MACD_signal, Df['MACD_hist'] = ta.MACD(Df['Close'].shift(1), fastperiod=12, slowperiod=26, signalperiod=9)\n",
        "\n",
        "# # Create a column by name, Stochastic\n",
        "# Df['Slowk'], Slowd = ta.STOCH(Df['High'].shift(1), Df['Low'].shift(1), Df['Close'].shift(1), fastk_period=5, slowk_period=3, slowk_matype=0, slowd_period=3, slowd_matype=0)\n"
      ]
    },
    {
      "cell_type": "code",
      "execution_count": null,
      "metadata": {
        "id": "6ZoUQHPMrf9z",
        "colab": {
          "base_uri": "https://localhost:8080/",
          "height": 206
        },
        "outputId": "ddc3cc07-6f4a-4359-e857-4a585f3118fd"
      },
      "outputs": [
        {
          "output_type": "execute_result",
          "data": {
            "text/plain": [
              "         Time  Open  High   Low  Close  Volume  quadrant        ADX    OO\n",
              "20 2011-04-12  0.86  1.00  0.86   0.92   43397       2.0  69.901930  0.09\n",
              "21 2011-04-13  0.92  1.00  0.91   1.00   31111       2.0  66.266222  0.06\n",
              "22 2011-04-14  1.00  1.09  0.91   0.99   50304       2.0  62.994085  0.08\n",
              "23 2011-04-15  0.98  1.10  0.95   1.05   28869       2.0  61.572050 -0.02\n",
              "24 2011-04-16  1.05  1.14  1.03   1.11   24225       2.0  60.433157  0.07"
            ],
            "text/html": [
              "\n",
              "  <div id=\"df-d6121fa2-5b81-4073-87ba-b86d52805b12\" class=\"colab-df-container\">\n",
              "    <div>\n",
              "<style scoped>\n",
              "    .dataframe tbody tr th:only-of-type {\n",
              "        vertical-align: middle;\n",
              "    }\n",
              "\n",
              "    .dataframe tbody tr th {\n",
              "        vertical-align: top;\n",
              "    }\n",
              "\n",
              "    .dataframe thead th {\n",
              "        text-align: right;\n",
              "    }\n",
              "</style>\n",
              "<table border=\"1\" class=\"dataframe\">\n",
              "  <thead>\n",
              "    <tr style=\"text-align: right;\">\n",
              "      <th></th>\n",
              "      <th>Time</th>\n",
              "      <th>Open</th>\n",
              "      <th>High</th>\n",
              "      <th>Low</th>\n",
              "      <th>Close</th>\n",
              "      <th>Volume</th>\n",
              "      <th>quadrant</th>\n",
              "      <th>ADX</th>\n",
              "      <th>OO</th>\n",
              "    </tr>\n",
              "  </thead>\n",
              "  <tbody>\n",
              "    <tr>\n",
              "      <th>20</th>\n",
              "      <td>2011-04-12</td>\n",
              "      <td>0.86</td>\n",
              "      <td>1.00</td>\n",
              "      <td>0.86</td>\n",
              "      <td>0.92</td>\n",
              "      <td>43397</td>\n",
              "      <td>2.0</td>\n",
              "      <td>69.901930</td>\n",
              "      <td>0.09</td>\n",
              "    </tr>\n",
              "    <tr>\n",
              "      <th>21</th>\n",
              "      <td>2011-04-13</td>\n",
              "      <td>0.92</td>\n",
              "      <td>1.00</td>\n",
              "      <td>0.91</td>\n",
              "      <td>1.00</td>\n",
              "      <td>31111</td>\n",
              "      <td>2.0</td>\n",
              "      <td>66.266222</td>\n",
              "      <td>0.06</td>\n",
              "    </tr>\n",
              "    <tr>\n",
              "      <th>22</th>\n",
              "      <td>2011-04-14</td>\n",
              "      <td>1.00</td>\n",
              "      <td>1.09</td>\n",
              "      <td>0.91</td>\n",
              "      <td>0.99</td>\n",
              "      <td>50304</td>\n",
              "      <td>2.0</td>\n",
              "      <td>62.994085</td>\n",
              "      <td>0.08</td>\n",
              "    </tr>\n",
              "    <tr>\n",
              "      <th>23</th>\n",
              "      <td>2011-04-15</td>\n",
              "      <td>0.98</td>\n",
              "      <td>1.10</td>\n",
              "      <td>0.95</td>\n",
              "      <td>1.05</td>\n",
              "      <td>28869</td>\n",
              "      <td>2.0</td>\n",
              "      <td>61.572050</td>\n",
              "      <td>-0.02</td>\n",
              "    </tr>\n",
              "    <tr>\n",
              "      <th>24</th>\n",
              "      <td>2011-04-16</td>\n",
              "      <td>1.05</td>\n",
              "      <td>1.14</td>\n",
              "      <td>1.03</td>\n",
              "      <td>1.11</td>\n",
              "      <td>24225</td>\n",
              "      <td>2.0</td>\n",
              "      <td>60.433157</td>\n",
              "      <td>0.07</td>\n",
              "    </tr>\n",
              "  </tbody>\n",
              "</table>\n",
              "</div>\n",
              "    <div class=\"colab-df-buttons\">\n",
              "\n",
              "  <div class=\"colab-df-container\">\n",
              "    <button class=\"colab-df-convert\" onclick=\"convertToInteractive('df-d6121fa2-5b81-4073-87ba-b86d52805b12')\"\n",
              "            title=\"Convert this dataframe to an interactive table.\"\n",
              "            style=\"display:none;\">\n",
              "\n",
              "  <svg xmlns=\"http://www.w3.org/2000/svg\" height=\"24px\" viewBox=\"0 -960 960 960\">\n",
              "    <path d=\"M120-120v-720h720v720H120Zm60-500h600v-160H180v160Zm220 220h160v-160H400v160Zm0 220h160v-160H400v160ZM180-400h160v-160H180v160Zm440 0h160v-160H620v160ZM180-180h160v-160H180v160Zm440 0h160v-160H620v160Z\"/>\n",
              "  </svg>\n",
              "    </button>\n",
              "\n",
              "  <style>\n",
              "    .colab-df-container {\n",
              "      display:flex;\n",
              "      gap: 12px;\n",
              "    }\n",
              "\n",
              "    .colab-df-convert {\n",
              "      background-color: #E8F0FE;\n",
              "      border: none;\n",
              "      border-radius: 50%;\n",
              "      cursor: pointer;\n",
              "      display: none;\n",
              "      fill: #1967D2;\n",
              "      height: 32px;\n",
              "      padding: 0 0 0 0;\n",
              "      width: 32px;\n",
              "    }\n",
              "\n",
              "    .colab-df-convert:hover {\n",
              "      background-color: #E2EBFA;\n",
              "      box-shadow: 0px 1px 2px rgba(60, 64, 67, 0.3), 0px 1px 3px 1px rgba(60, 64, 67, 0.15);\n",
              "      fill: #174EA6;\n",
              "    }\n",
              "\n",
              "    .colab-df-buttons div {\n",
              "      margin-bottom: 4px;\n",
              "    }\n",
              "\n",
              "    [theme=dark] .colab-df-convert {\n",
              "      background-color: #3B4455;\n",
              "      fill: #D2E3FC;\n",
              "    }\n",
              "\n",
              "    [theme=dark] .colab-df-convert:hover {\n",
              "      background-color: #434B5C;\n",
              "      box-shadow: 0px 1px 3px 1px rgba(0, 0, 0, 0.15);\n",
              "      filter: drop-shadow(0px 1px 2px rgba(0, 0, 0, 0.3));\n",
              "      fill: #FFFFFF;\n",
              "    }\n",
              "  </style>\n",
              "\n",
              "    <script>\n",
              "      const buttonEl =\n",
              "        document.querySelector('#df-d6121fa2-5b81-4073-87ba-b86d52805b12 button.colab-df-convert');\n",
              "      buttonEl.style.display =\n",
              "        google.colab.kernel.accessAllowed ? 'block' : 'none';\n",
              "\n",
              "      async function convertToInteractive(key) {\n",
              "        const element = document.querySelector('#df-d6121fa2-5b81-4073-87ba-b86d52805b12');\n",
              "        const dataTable =\n",
              "          await google.colab.kernel.invokeFunction('convertToInteractive',\n",
              "                                                    [key], {});\n",
              "        if (!dataTable) return;\n",
              "\n",
              "        const docLinkHtml = 'Like what you see? Visit the ' +\n",
              "          '<a target=\"_blank\" href=https://colab.research.google.com/notebooks/data_table.ipynb>data table notebook</a>'\n",
              "          + ' to learn more about interactive tables.';\n",
              "        element.innerHTML = '';\n",
              "        dataTable['output_type'] = 'display_data';\n",
              "        await google.colab.output.renderOutput(dataTable, element);\n",
              "        const docLink = document.createElement('div');\n",
              "        docLink.innerHTML = docLinkHtml;\n",
              "        element.appendChild(docLink);\n",
              "      }\n",
              "    </script>\n",
              "  </div>\n",
              "\n",
              "\n",
              "<div id=\"df-a47c904c-85ea-4549-bd03-b0d3eb95955e\">\n",
              "  <button class=\"colab-df-quickchart\" onclick=\"quickchart('df-a47c904c-85ea-4549-bd03-b0d3eb95955e')\"\n",
              "            title=\"Suggest charts\"\n",
              "            style=\"display:none;\">\n",
              "\n",
              "<svg xmlns=\"http://www.w3.org/2000/svg\" height=\"24px\"viewBox=\"0 0 24 24\"\n",
              "     width=\"24px\">\n",
              "    <g>\n",
              "        <path d=\"M19 3H5c-1.1 0-2 .9-2 2v14c0 1.1.9 2 2 2h14c1.1 0 2-.9 2-2V5c0-1.1-.9-2-2-2zM9 17H7v-7h2v7zm4 0h-2V7h2v10zm4 0h-2v-4h2v4z\"/>\n",
              "    </g>\n",
              "</svg>\n",
              "  </button>\n",
              "\n",
              "<style>\n",
              "  .colab-df-quickchart {\n",
              "      --bg-color: #E8F0FE;\n",
              "      --fill-color: #1967D2;\n",
              "      --hover-bg-color: #E2EBFA;\n",
              "      --hover-fill-color: #174EA6;\n",
              "      --disabled-fill-color: #AAA;\n",
              "      --disabled-bg-color: #DDD;\n",
              "  }\n",
              "\n",
              "  [theme=dark] .colab-df-quickchart {\n",
              "      --bg-color: #3B4455;\n",
              "      --fill-color: #D2E3FC;\n",
              "      --hover-bg-color: #434B5C;\n",
              "      --hover-fill-color: #FFFFFF;\n",
              "      --disabled-bg-color: #3B4455;\n",
              "      --disabled-fill-color: #666;\n",
              "  }\n",
              "\n",
              "  .colab-df-quickchart {\n",
              "    background-color: var(--bg-color);\n",
              "    border: none;\n",
              "    border-radius: 50%;\n",
              "    cursor: pointer;\n",
              "    display: none;\n",
              "    fill: var(--fill-color);\n",
              "    height: 32px;\n",
              "    padding: 0;\n",
              "    width: 32px;\n",
              "  }\n",
              "\n",
              "  .colab-df-quickchart:hover {\n",
              "    background-color: var(--hover-bg-color);\n",
              "    box-shadow: 0 1px 2px rgba(60, 64, 67, 0.3), 0 1px 3px 1px rgba(60, 64, 67, 0.15);\n",
              "    fill: var(--button-hover-fill-color);\n",
              "  }\n",
              "\n",
              "  .colab-df-quickchart-complete:disabled,\n",
              "  .colab-df-quickchart-complete:disabled:hover {\n",
              "    background-color: var(--disabled-bg-color);\n",
              "    fill: var(--disabled-fill-color);\n",
              "    box-shadow: none;\n",
              "  }\n",
              "\n",
              "  .colab-df-spinner {\n",
              "    border: 2px solid var(--fill-color);\n",
              "    border-color: transparent;\n",
              "    border-bottom-color: var(--fill-color);\n",
              "    animation:\n",
              "      spin 1s steps(1) infinite;\n",
              "  }\n",
              "\n",
              "  @keyframes spin {\n",
              "    0% {\n",
              "      border-color: transparent;\n",
              "      border-bottom-color: var(--fill-color);\n",
              "      border-left-color: var(--fill-color);\n",
              "    }\n",
              "    20% {\n",
              "      border-color: transparent;\n",
              "      border-left-color: var(--fill-color);\n",
              "      border-top-color: var(--fill-color);\n",
              "    }\n",
              "    30% {\n",
              "      border-color: transparent;\n",
              "      border-left-color: var(--fill-color);\n",
              "      border-top-color: var(--fill-color);\n",
              "      border-right-color: var(--fill-color);\n",
              "    }\n",
              "    40% {\n",
              "      border-color: transparent;\n",
              "      border-right-color: var(--fill-color);\n",
              "      border-top-color: var(--fill-color);\n",
              "    }\n",
              "    60% {\n",
              "      border-color: transparent;\n",
              "      border-right-color: var(--fill-color);\n",
              "    }\n",
              "    80% {\n",
              "      border-color: transparent;\n",
              "      border-right-color: var(--fill-color);\n",
              "      border-bottom-color: var(--fill-color);\n",
              "    }\n",
              "    90% {\n",
              "      border-color: transparent;\n",
              "      border-bottom-color: var(--fill-color);\n",
              "    }\n",
              "  }\n",
              "</style>\n",
              "\n",
              "  <script>\n",
              "    async function quickchart(key) {\n",
              "      const quickchartButtonEl =\n",
              "        document.querySelector('#' + key + ' button');\n",
              "      quickchartButtonEl.disabled = true;  // To prevent multiple clicks.\n",
              "      quickchartButtonEl.classList.add('colab-df-spinner');\n",
              "      try {\n",
              "        const charts = await google.colab.kernel.invokeFunction(\n",
              "            'suggestCharts', [key], {});\n",
              "      } catch (error) {\n",
              "        console.error('Error during call to suggestCharts:', error);\n",
              "      }\n",
              "      quickchartButtonEl.classList.remove('colab-df-spinner');\n",
              "      quickchartButtonEl.classList.add('colab-df-quickchart-complete');\n",
              "    }\n",
              "    (() => {\n",
              "      let quickchartButtonEl =\n",
              "        document.querySelector('#df-a47c904c-85ea-4549-bd03-b0d3eb95955e button');\n",
              "      quickchartButtonEl.style.display =\n",
              "        google.colab.kernel.accessAllowed ? 'block' : 'none';\n",
              "    })();\n",
              "  </script>\n",
              "</div>\n",
              "\n",
              "    </div>\n",
              "  </div>\n"
            ],
            "application/vnd.google.colaboratory.intrinsic+json": {
              "type": "dataframe",
              "variable_name": "Df",
              "summary": "{\n  \"name\": \"Df\",\n  \"rows\": 3843,\n  \"fields\": [\n    {\n      \"column\": \"Time\",\n      \"properties\": {\n        \"dtype\": \"date\",\n        \"min\": \"2011-04-12 00:00:00\",\n        \"max\": \"2022-06-30 00:00:00\",\n        \"num_unique_values\": 3843,\n        \"samples\": [\n          \"2015-03-20 00:00:00\",\n          \"2021-07-03 00:00:00\",\n          \"2015-09-15 00:00:00\"\n        ],\n        \"semantic_type\": \"\",\n        \"description\": \"\"\n      }\n    },\n    {\n      \"column\": \"Open\",\n      \"properties\": {\n        \"dtype\": \"number\",\n        \"std\": 13969.956176517144,\n        \"min\": 0.86,\n        \"max\": 67543.449,\n        \"num_unique_values\": 3622,\n        \"samples\": [\n          665.34,\n          239.7,\n          387.0\n        ],\n        \"semantic_type\": \"\",\n        \"description\": \"\"\n      }\n    },\n    {\n      \"column\": \"High\",\n      \"properties\": {\n        \"dtype\": \"number\",\n        \"std\": 14377.705109753657,\n        \"min\": 1.0,\n        \"max\": 68992.399,\n        \"num_unique_values\": 3580,\n        \"samples\": [\n          329.57,\n          13.5,\n          688.89\n        ],\n        \"semantic_type\": \"\",\n        \"description\": \"\"\n      }\n    },\n    {\n      \"column\": \"Low\",\n      \"properties\": {\n        \"dtype\": \"number\",\n        \"std\": 13498.661840512887,\n        \"min\": 0.86,\n        \"max\": 66252.644,\n        \"num_unique_values\": 3607,\n        \"samples\": [\n          9380.035,\n          12716.34,\n          2399.8\n        ],\n        \"semantic_type\": \"\",\n        \"description\": \"\"\n      }\n    },\n    {\n      \"column\": \"Close\",\n      \"properties\": {\n        \"dtype\": \"number\",\n        \"std\": 13983.603875438599,\n        \"min\": 0.92,\n        \"max\": 67542.949,\n        \"num_unique_values\": 3620,\n        \"samples\": [\n          9298.605,\n          5339.035,\n          386.97\n        ],\n        \"semantic_type\": \"\",\n        \"description\": \"\"\n      }\n    },\n    {\n      \"column\": \"Volume\",\n      \"properties\": {\n        \"dtype\": \"number\",\n        \"std\": 1042210,\n        \"min\": 477,\n        \"max\": 20428343,\n        \"num_unique_values\": 3762,\n        \"samples\": [\n          21509,\n          9028,\n          22727\n        ],\n        \"semantic_type\": \"\",\n        \"description\": \"\"\n      }\n    },\n    {\n      \"column\": \"quadrant\",\n      \"properties\": {\n        \"dtype\": \"number\",\n        \"std\": 1.7210706046027977,\n        \"min\": 0.0,\n        \"max\": 5.0,\n        \"num_unique_values\": 6,\n        \"samples\": [\n          2.0,\n          4.0,\n          5.0\n        ],\n        \"semantic_type\": \"\",\n        \"description\": \"\"\n      }\n    },\n    {\n      \"column\": \"ADX\",\n      \"properties\": {\n        \"dtype\": \"number\",\n        \"std\": 14.793750661176196,\n        \"min\": 7.704951027532303,\n        \"max\": 86.3495904658239,\n        \"num_unique_values\": 3843,\n        \"samples\": [\n          39.81209935566151,\n          26.075160001936876,\n          26.22994459709555\n        ],\n        \"semantic_type\": \"\",\n        \"description\": \"\"\n      }\n    },\n    {\n      \"column\": \"OO\",\n      \"properties\": {\n        \"dtype\": \"number\",\n        \"std\": 772.9915467122767,\n        \"min\": -27021.511000000002,\n        \"max\": 7564.715000000004,\n        \"num_unique_values\": 3315,\n        \"samples\": [\n          -459.887999999999,\n          228.47000000000025,\n          -0.14000000000000057\n        ],\n        \"semantic_type\": \"\",\n        \"description\": \"\"\n      }\n    }\n  ]\n}"
            }
          },
          "metadata": {},
          "execution_count": 4613
        }
      ],
      "source": [
        "Df = Df.dropna()\n",
        "Df.head()"
      ]
    },
    {
      "cell_type": "markdown",
      "metadata": {
        "id": "HYwItl1Vrf90"
      },
      "source": [
        "## Calculate returns\n",
        "Next, calculate the returns for every data point. We also save returns of past n minutes in n columns named as return1, return2 and so on. This will help the algorithm to understand the trend of the returns in the last n periods.  "
      ]
    },
    {
      "cell_type": "code",
      "execution_count": null,
      "metadata": {
        "id": "WfXpQM2Crf90",
        "colab": {
          "base_uri": "https://localhost:8080/"
        },
        "outputId": "f5b8bf27-53dd-4301-9902-3d2d056d84d5"
      },
      "outputs": [
        {
          "output_type": "stream",
          "name": "stderr",
          "text": [
            "<ipython-input-4614-f7ac7da202bd>:5: SettingWithCopyWarning: \n",
            "A value is trying to be set on a copy of a slice from a DataFrame.\n",
            "Try using .loc[row_indexer,col_indexer] = value instead\n",
            "\n",
            "See the caveats in the documentation: https://pandas.pydata.org/pandas-docs/stable/user_guide/indexing.html#returning-a-view-versus-a-copy\n",
            "  Df['Ret'] = (Df['Open'].shift(-pred_horizon)-Df['Open'])/Df['Open']\n"
          ]
        }
      ],
      "source": [
        "# Prediction horizon (candles)\n",
        "pred_horizon = 1\n",
        "\n",
        "# Create a column 'Fut_Ret' with the calculation of returns\n",
        "Df['Ret'] = (Df['Open'].shift(-pred_horizon)-Df['Open'])/Df['Open']\n",
        "\n",
        "# # Create n columns and assign\n",
        "# for i in range(1, n):\n",
        "#     Df['return%i' % i] = Df['Ret'].shift(i)\n",
        "\n",
        "Df = Df.dropna()"
      ]
    },
    {
      "cell_type": "markdown",
      "metadata": {
        "id": "EEb4EjJerf90"
      },
      "source": [
        "## Train and test data\n",
        "\n",
        "We will be using 80% of the data to train and the rest 20% to test. To do this, you will create a split parameter which will divide the dataframe in an 80-20 ratio.\n",
        "\n",
        "This can be changed as per your choice, but it is advisable to give at least 70% data as train data for good results. \"split\" is the integer index value for the row corresponding to test-train split."
      ]
    },
    {
      "cell_type": "code",
      "execution_count": null,
      "metadata": {
        "id": "kM7tsFeDrf90"
      },
      "outputs": [],
      "source": [
        "pct_brincar = 1\n",
        "#Para rodar da base inteira, comentar a linha abaixo e habilitar a linha de cima, com valor = 1\n",
        "# Df = Df[:1000]\n",
        "Df = Df[:int(pct_brincar*len(Df))]"
      ]
    },
    {
      "cell_type": "code",
      "execution_count": null,
      "metadata": {
        "id": "BfRv1BK_rf91",
        "colab": {
          "base_uri": "https://localhost:8080/"
        },
        "outputId": "c0849257-6a30-4dfe-8b0e-7bea59da3855"
      },
      "outputs": [
        {
          "output_type": "execute_result",
          "data": {
            "text/plain": [
              "3457"
            ]
          },
          "metadata": {},
          "execution_count": 4616
        }
      ],
      "source": [
        "# Create a variable split which is 80% of the length of the Dataframe\n",
        "t = .9\n",
        "split = int(t*len(Df))\n",
        "split"
      ]
    },
    {
      "cell_type": "markdown",
      "metadata": {
        "id": "OjmyNIAArf91"
      },
      "source": [
        "## Create output signals\n",
        "\n",
        "Next, assign signal values corresponding to 'returns' that were calculated earlier. To do this, you will split the data into three equal parts, using the split on 'Ret' column.\n",
        "1. Highest returns’ quantile is assigned Signal '1' or \"Buy\".\n",
        "2. Middle quantile is assigned Signal '0' or 'Do nothing'.\n",
        "3. Lowest quantile is assigned Signal '-1' or 'Sell'."
      ]
    },
    {
      "cell_type": "code",
      "execution_count": null,
      "metadata": {
        "id": "p1awiDqIrf92",
        "colab": {
          "base_uri": "https://localhost:8080/",
          "height": 615
        },
        "outputId": "a9fc713f-4ff4-443f-b543-5e60b3379b2b"
      },
      "outputs": [
        {
          "output_type": "display_data",
          "data": {
            "text/plain": [
              "<Figure size 3000x1500 with 1 Axes>"
            ],
            "image/png": "[encoded data removed]"
          },
          "metadata": {}
        }
      ],
      "source": [
        "Retdf = Df.copy()\n",
        "Retdf.set_index(\"Time\", inplace=True)\n",
        "\n",
        "# Plot the strategy returns\n",
        "plt.figure(figsize=(30,15))\n",
        "plt.plot(((Retdf['Ret']+1).cumprod()),color='r',label='Market Returns')\n",
        "plt.legend()\n",
        "plt.show()"
      ]
    },
    {
      "cell_type": "code",
      "execution_count": null,
      "metadata": {
        "id": "TdB_FHr1rf92"
      },
      "outputs": [],
      "source": [
        "# Create a column by name, 'Signal' and initialize with 0\n",
        "Df['Signal']=0\n",
        "\n",
        "# Assign a value of 1 to 'Signal' column for the quantile with highest returns\n",
        "Df.loc[Df['Ret']>Df['Ret'][:split].quantile(q=0.66),'Signal']=1\n",
        "\n",
        "# Assign a value of -1 to 'Signal' column for the quantile with lowest returns\n",
        "Df.loc[Df['Ret']<Df['Ret'][:split].quantile(q=0.33),'Signal']=-1"
      ]
    },
    {
      "cell_type": "code",
      "execution_count": null,
      "metadata": {
        "id": "0vlYtwL_rf93"
      },
      "outputs": [],
      "source": [
        "# # # It is necessary for daytrade only. If you are using daily candles, please comment the lines below\n",
        "\n",
        "# # # Assign a value of 0 to 'Signal' column after 17h\n",
        "# Df.loc[(Df['Time'].dt.hour>16), 'Signal']=0\n",
        "\n",
        "# # Assign a value of 0 to 'Ret' column after 17h\n",
        "# Df.loc[(Df['Time'].dt.hour>16), 'Ret']=0"
      ]
    },
    {
      "cell_type": "markdown",
      "metadata": {
        "id": "ejsQDmBNrf94"
      },
      "source": [
        "One last step and then we will be ready with our data!  \n",
        "### Creating the features and values\n",
        "\n",
        "Drop the columns 'Close', 'Signal', 'Time', 'High', 'Low', 'Volume', and 'Ret' since the algorithm will not be trained on these features. Next, we assign 'Signal' to 'y' which is the output variable that you will predict using test data.   "
      ]
    },
    {
      "cell_type": "code",
      "execution_count": null,
      "metadata": {
        "id": "1z2zxL3trf95",
        "colab": {
          "base_uri": "https://localhost:8080/",
          "height": 206
        },
        "outputId": "c7e48539-7efc-4840-e34a-17b0036bea9e"
      },
      "outputs": [
        {
          "output_type": "execute_result",
          "data": {
            "text/plain": [
              "    quadrant        ADX    OO\n",
              "20       2.0  69.901930  0.09\n",
              "21       2.0  66.266222  0.06\n",
              "22       2.0  62.994085  0.08\n",
              "23       2.0  61.572050 -0.02\n",
              "24       2.0  60.433157  0.07"
            ],
            "text/html": [
              "\n",
              "  <div id=\"df-09bfe7c8-b86e-4d58-b180-b7e038a7dc0b\" class=\"colab-df-container\">\n",
              "    <div>\n",
              "<style scoped>\n",
              "    .dataframe tbody tr th:only-of-type {\n",
              "        vertical-align: middle;\n",
              "    }\n",
              "\n",
              "    .dataframe tbody tr th {\n",
              "        vertical-align: top;\n",
              "    }\n",
              "\n",
              "    .dataframe thead th {\n",
              "        text-align: right;\n",
              "    }\n",
              "</style>\n",
              "<table border=\"1\" class=\"dataframe\">\n",
              "  <thead>\n",
              "    <tr style=\"text-align: right;\">\n",
              "      <th></th>\n",
              "      <th>quadrant</th>\n",
              "      <th>ADX</th>\n",
              "      <th>OO</th>\n",
              "    </tr>\n",
              "  </thead>\n",
              "  <tbody>\n",
              "    <tr>\n",
              "      <th>20</th>\n",
              "      <td>2.0</td>\n",
              "      <td>69.901930</td>\n",
              "      <td>0.09</td>\n",
              "    </tr>\n",
              "    <tr>\n",
              "      <th>21</th>\n",
              "      <td>2.0</td>\n",
              "      <td>66.266222</td>\n",
              "      <td>0.06</td>\n",
              "    </tr>\n",
              "    <tr>\n",
              "      <th>22</th>\n",
              "      <td>2.0</td>\n",
              "      <td>62.994085</td>\n",
              "      <td>0.08</td>\n",
              "    </tr>\n",
              "    <tr>\n",
              "      <th>23</th>\n",
              "      <td>2.0</td>\n",
              "      <td>61.572050</td>\n",
              "      <td>-0.02</td>\n",
              "    </tr>\n",
              "    <tr>\n",
              "      <th>24</th>\n",
              "      <td>2.0</td>\n",
              "      <td>60.433157</td>\n",
              "      <td>0.07</td>\n",
              "    </tr>\n",
              "  </tbody>\n",
              "</table>\n",
              "</div>\n",
              "    <div class=\"colab-df-buttons\">\n",
              "\n",
              "  <div class=\"colab-df-container\">\n",
              "    <button class=\"colab-df-convert\" onclick=\"convertToInteractive('df-09bfe7c8-b86e-4d58-b180-b7e038a7dc0b')\"\n",
              "            title=\"Convert this dataframe to an interactive table.\"\n",
              "            style=\"display:none;\">\n",
              "\n",
              "  <svg xmlns=\"http://www.w3.org/2000/svg\" height=\"24px\" viewBox=\"0 -960 960 960\">\n",
              "    <path d=\"M120-120v-720h720v720H120Zm60-500h600v-160H180v160Zm220 220h160v-160H400v160Zm0 220h160v-160H400v160ZM180-400h160v-160H180v160Zm440 0h160v-160H620v160ZM180-180h160v-160H180v160Zm440 0h160v-160H620v160Z\"/>\n",
              "  </svg>\n",
              "    </button>\n",
              "\n",
              "  <style>\n",
              "    .colab-df-container {\n",
              "      display:flex;\n",
              "      gap: 12px;\n",
              "    }\n",
              "\n",
              "    .colab-df-convert {\n",
              "      background-color: #E8F0FE;\n",
              "      border: none;\n",
              "      border-radius: 50%;\n",
              "      cursor: pointer;\n",
              "      display: none;\n",
              "      fill: #1967D2;\n",
              "      height: 32px;\n",
              "      padding: 0 0 0 0;\n",
              "      width: 32px;\n",
              "    }\n",
              "\n",
              "    .colab-df-convert:hover {\n",
              "      background-color: #E2EBFA;\n",
              "      box-shadow: 0px 1px 2px rgba(60, 64, 67, 0.3), 0px 1px 3px 1px rgba(60, 64, 67, 0.15);\n",
              "      fill: #174EA6;\n",
              "    }\n",
              "\n",
              "    .colab-df-buttons div {\n",
              "      margin-bottom: 4px;\n",
              "    }\n",
              "\n",
              "    [theme=dark] .colab-df-convert {\n",
              "      background-color: #3B4455;\n",
              "      fill: #D2E3FC;\n",
              "    }\n",
              "\n",
              "    [theme=dark] .colab-df-convert:hover {\n",
              "      background-color: #434B5C;\n",
              "      box-shadow: 0px 1px 3px 1px rgba(0, 0, 0, 0.15);\n",
              "      filter: drop-shadow(0px 1px 2px rgba(0, 0, 0, 0.3));\n",
              "      fill: #FFFFFF;\n",
              "    }\n",
              "  </style>\n",
              "\n",
              "    <script>\n",
              "      const buttonEl =\n",
              "        document.querySelector('#df-09bfe7c8-b86e-4d58-b180-b7e038a7dc0b button.colab-df-convert');\n",
              "      buttonEl.style.display =\n",
              "        google.colab.kernel.accessAllowed ? 'block' : 'none';\n",
              "\n",
              "      async function convertToInteractive(key) {\n",
              "        const element = document.querySelector('#df-09bfe7c8-b86e-4d58-b180-b7e038a7dc0b');\n",
              "        const dataTable =\n",
              "          await google.colab.kernel.invokeFunction('convertToInteractive',\n",
              "                                                    [key], {});\n",
              "        if (!dataTable) return;\n",
              "\n",
              "        const docLinkHtml = 'Like what you see? Visit the ' +\n",
              "          '<a target=\"_blank\" href=https://colab.research.google.com/notebooks/data_table.ipynb>data table notebook</a>'\n",
              "          + ' to learn more about interactive tables.';\n",
              "        element.innerHTML = '';\n",
              "        dataTable['output_type'] = 'display_data';\n",
              "        await google.colab.output.renderOutput(dataTable, element);\n",
              "        const docLink = document.createElement('div');\n",
              "        docLink.innerHTML = docLinkHtml;\n",
              "        element.appendChild(docLink);\n",
              "      }\n",
              "    </script>\n",
              "  </div>\n",
              "\n",
              "\n",
              "<div id=\"df-7c67fb48-bf28-420a-8c8b-dbd545bdb9e7\">\n",
              "  <button class=\"colab-df-quickchart\" onclick=\"quickchart('df-7c67fb48-bf28-420a-8c8b-dbd545bdb9e7')\"\n",
              "            title=\"Suggest charts\"\n",
              "            style=\"display:none;\">\n",
              "\n",
              "<svg xmlns=\"http://www.w3.org/2000/svg\" height=\"24px\"viewBox=\"0 0 24 24\"\n",
              "     width=\"24px\">\n",
              "    <g>\n",
              "        <path d=\"M19 3H5c-1.1 0-2 .9-2 2v14c0 1.1.9 2 2 2h14c1.1 0 2-.9 2-2V5c0-1.1-.9-2-2-2zM9 17H7v-7h2v7zm4 0h-2V7h2v10zm4 0h-2v-4h2v4z\"/>\n",
              "    </g>\n",
              "</svg>\n",
              "  </button>\n",
              "\n",
              "<style>\n",
              "  .colab-df-quickchart {\n",
              "      --bg-color: #E8F0FE;\n",
              "      --fill-color: #1967D2;\n",
              "      --hover-bg-color: #E2EBFA;\n",
              "      --hover-fill-color: #174EA6;\n",
              "      --disabled-fill-color: #AAA;\n",
              "      --disabled-bg-color: #DDD;\n",
              "  }\n",
              "\n",
              "  [theme=dark] .colab-df-quickchart {\n",
              "      --bg-color: #3B4455;\n",
              "      --fill-color: #D2E3FC;\n",
              "      --hover-bg-color: #434B5C;\n",
              "      --hover-fill-color: #FFFFFF;\n",
              "      --disabled-bg-color: #3B4455;\n",
              "      --disabled-fill-color: #666;\n",
              "  }\n",
              "\n",
              "  .colab-df-quickchart {\n",
              "    background-color: var(--bg-color);\n",
              "    border: none;\n",
              "    border-radius: 50%;\n",
              "    cursor: pointer;\n",
              "    display: none;\n",
              "    fill: var(--fill-color);\n",
              "    height: 32px;\n",
              "    padding: 0;\n",
              "    width: 32px;\n",
              "  }\n",
              "\n",
              "  .colab-df-quickchart:hover {\n",
              "    background-color: var(--hover-bg-color);\n",
              "    box-shadow: 0 1px 2px rgba(60, 64, 67, 0.3), 0 1px 3px 1px rgba(60, 64, 67, 0.15);\n",
              "    fill: var(--button-hover-fill-color);\n",
              "  }\n",
              "\n",
              "  .colab-df-quickchart-complete:disabled,\n",
              "  .colab-df-quickchart-complete:disabled:hover {\n",
              "    background-color: var(--disabled-bg-color);\n",
              "    fill: var(--disabled-fill-color);\n",
              "    box-shadow: none;\n",
              "  }\n",
              "\n",
              "  .colab-df-spinner {\n",
              "    border: 2px solid var(--fill-color);\n",
              "    border-color: transparent;\n",
              "    border-bottom-color: var(--fill-color);\n",
              "    animation:\n",
              "      spin 1s steps(1) infinite;\n",
              "  }\n",
              "\n",
              "  @keyframes spin {\n",
              "    0% {\n",
              "      border-color: transparent;\n",
              "      border-bottom-color: var(--fill-color);\n",
              "      border-left-color: var(--fill-color);\n",
              "    }\n",
              "    20% {\n",
              "      border-color: transparent;\n",
              "      border-left-color: var(--fill-color);\n",
              "      border-top-color: var(--fill-color);\n",
              "    }\n",
              "    30% {\n",
              "      border-color: transparent;\n",
              "      border-left-color: var(--fill-color);\n",
              "      border-top-color: var(--fill-color);\n",
              "      border-right-color: var(--fill-color);\n",
              "    }\n",
              "    40% {\n",
              "      border-color: transparent;\n",
              "      border-right-color: var(--fill-color);\n",
              "      border-top-color: var(--fill-color);\n",
              "    }\n",
              "    60% {\n",
              "      border-color: transparent;\n",
              "      border-right-color: var(--fill-color);\n",
              "    }\n",
              "    80% {\n",
              "      border-color: transparent;\n",
              "      border-right-color: var(--fill-color);\n",
              "      border-bottom-color: var(--fill-color);\n",
              "    }\n",
              "    90% {\n",
              "      border-color: transparent;\n",
              "      border-bottom-color: var(--fill-color);\n",
              "    }\n",
              "  }\n",
              "</style>\n",
              "\n",
              "  <script>\n",
              "    async function quickchart(key) {\n",
              "      const quickchartButtonEl =\n",
              "        document.querySelector('#' + key + ' button');\n",
              "      quickchartButtonEl.disabled = true;  // To prevent multiple clicks.\n",
              "      quickchartButtonEl.classList.add('colab-df-spinner');\n",
              "      try {\n",
              "        const charts = await google.colab.kernel.invokeFunction(\n",
              "            'suggestCharts', [key], {});\n",
              "      } catch (error) {\n",
              "        console.error('Error during call to suggestCharts:', error);\n",
              "      }\n",
              "      quickchartButtonEl.classList.remove('colab-df-spinner');\n",
              "      quickchartButtonEl.classList.add('colab-df-quickchart-complete');\n",
              "    }\n",
              "    (() => {\n",
              "      let quickchartButtonEl =\n",
              "        document.querySelector('#df-7c67fb48-bf28-420a-8c8b-dbd545bdb9e7 button');\n",
              "      quickchartButtonEl.style.display =\n",
              "        google.colab.kernel.accessAllowed ? 'block' : 'none';\n",
              "    })();\n",
              "  </script>\n",
              "</div>\n",
              "\n",
              "    </div>\n",
              "  </div>\n"
            ],
            "application/vnd.google.colaboratory.intrinsic+json": {
              "type": "dataframe",
              "variable_name": "X",
              "summary": "{\n  \"name\": \"X\",\n  \"rows\": 3842,\n  \"fields\": [\n    {\n      \"column\": \"quadrant\",\n      \"properties\": {\n        \"dtype\": \"number\",\n        \"std\": 1.7208000242359458,\n        \"min\": 0.0,\n        \"max\": 5.0,\n        \"num_unique_values\": 6,\n        \"samples\": [\n          2.0,\n          4.0,\n          5.0\n        ],\n        \"semantic_type\": \"\",\n        \"description\": \"\"\n      }\n    },\n    {\n      \"column\": \"ADX\",\n      \"properties\": {\n        \"dtype\": \"number\",\n        \"std\": 14.794851123294722,\n        \"min\": 7.704951027532303,\n        \"max\": 86.3495904658239,\n        \"num_unique_values\": 3842,\n        \"samples\": [\n          21.13885490346612,\n          26.938169579742556,\n          23.041075453805867\n        ],\n        \"semantic_type\": \"\",\n        \"description\": \"\"\n      }\n    },\n    {\n      \"column\": \"OO\",\n      \"properties\": {\n        \"dtype\": \"number\",\n        \"std\": 638.3192834536602,\n        \"min\": -7230.231,\n        \"max\": 7564.715000000004,\n        \"num_unique_values\": 3314,\n        \"samples\": [\n          -459.887999999999,\n          228.47000000000025,\n          -0.14000000000000057\n        ],\n        \"semantic_type\": \"\",\n        \"description\": \"\"\n      }\n    }\n  ]\n}"
            }
          },
          "metadata": {},
          "execution_count": 4620
        }
      ],
      "source": [
        "# Use df.drop() to drop the columns\n",
        "X = Df.drop(['Ret',\"Time\",\"Signal\"],axis=1)\n",
        "\n",
        "X = Df.drop(['Ret',\"Time\",\"Signal\", 'Close', 'Signal', 'High',\n",
        "             'Low', 'Open', 'Volume', 'Ret'], axis=1)\n",
        "\n",
        "# Create a variable which contains all the 'Signal' values\n",
        "y = Df['Signal']\n",
        "X.head()"
      ]
    },
    {
      "cell_type": "markdown",
      "metadata": {
        "id": "rwjWXppBrf96"
      },
      "source": [
        "## Create the Machine Learning Model"
      ]
    },
    {
      "cell_type": "markdown",
      "metadata": {
        "id": "b8YU625frf96"
      },
      "source": [
        "### Create the new Machine Leaning Model\n",
        "\n",
        "In this line of code we instantiate a new machine learning model."
      ]
    },
    {
      "cell_type": "code",
      "execution_count": null,
      "metadata": {
        "id": "uK27Ws5prf96"
      },
      "outputs": [],
      "source": [
        "# Create a new QDA\n",
        "cls = QuadraticDiscriminantAnalysis()\n",
        "\n",
        "# Create a new MLP classifier\n",
        "# cls = MLPClassifier(random_state=7, hidden_layer_sizes=(15,15,15), alpha=0.0001, activation='relu', max_iter=1000)\n",
        "\n",
        "# Create a new Naive Bayes\n",
        "# cls = GaussianNB()"
      ]
    },
    {
      "cell_type": "markdown",
      "metadata": {
        "id": "FOGbmwVErf96"
      },
      "source": [
        "### Train the data\n",
        "\n",
        "We will first scale the data before you fit it to the classifier to train on. To do this, you need to first instantiate the Standard Scaler function."
      ]
    },
    {
      "cell_type": "code",
      "execution_count": null,
      "metadata": {
        "id": "Mwfz6qPqrf96"
      },
      "outputs": [],
      "source": [
        "# Instantiate the StandardScaler\n",
        "ss1 = StandardScaler()\n",
        "\n",
        "# Instantiate the QuantileTransformer\n",
        "# ss1 = QuantileTransformer()"
      ]
    },
    {
      "cell_type": "markdown",
      "metadata": {
        "id": "ZoUbmDPMrf97"
      },
      "source": [
        "You will use the scaled training data to train the classifier algorithm."
      ]
    },
    {
      "cell_type": "code",
      "execution_count": null,
      "metadata": {
        "scrolled": true,
        "id": "00WYaM5mrf97",
        "colab": {
          "base_uri": "https://localhost:8080/",
          "height": 74
        },
        "outputId": "e7fd7543-c4dc-4728-af15-479e016d08b7"
      },
      "outputs": [
        {
          "output_type": "execute_result",
          "data": {
            "text/plain": [
              "QuadraticDiscriminantAnalysis()"
            ],
            "text/html": [
              "<style>#sk-container-id-107 {color: black;background-color: white;}#sk-container-id-107 pre{padding: 0;}#sk-container-id-107 div.sk-toggleable {background-color: white;}#sk-container-id-107 label.sk-toggleable__label {cursor: pointer;display: block;width: 100%;margin-bottom: 0;padding: 0.3em;box-sizing: border-box;text-align: center;}#sk-container-id-107 label.sk-toggleable__label-arrow:before {content: \"▸\";float: left;margin-right: 0.25em;color: #696969;}#sk-container-id-107 label.sk-toggleable__label-arrow:hover:before {color: black;}#sk-container-id-107 div.sk-estimator:hover label.sk-toggleable__label-arrow:before {color: black;}#sk-container-id-107 div.sk-toggleable__content {max-height: 0;max-width: 0;overflow: hidden;text-align: left;background-color: #f0f8ff;}#sk-container-id-107 div.sk-toggleable__content pre {margin: 0.2em;color: black;border-radius: 0.25em;background-color: #f0f8ff;}#sk-container-id-107 input.sk-toggleable__control:checked~div.sk-toggleable__content {max-height: 200px;max-width: 100%;overflow: auto;}#sk-container-id-107 input.sk-toggleable__control:checked~label.sk-toggleable__label-arrow:before {content: \"▾\";}#sk-container-id-107 div.sk-estimator input.sk-toggleable__control:checked~label.sk-toggleable__label {background-color: #d4ebff;}#sk-container-id-107 div.sk-label input.sk-toggleable__control:checked~label.sk-toggleable__label {background-color: #d4ebff;}#sk-container-id-107 input.sk-hidden--visually {border: 0;clip: rect(1px 1px 1px 1px);clip: rect(1px, 1px, 1px, 1px);height: 1px;margin: -1px;overflow: hidden;padding: 0;position: absolute;width: 1px;}#sk-container-id-107 div.sk-estimator {font-family: monospace;background-color: #f0f8ff;border: 1px dotted black;border-radius: 0.25em;box-sizing: border-box;margin-bottom: 0.5em;}#sk-container-id-107 div.sk-estimator:hover {background-color: #d4ebff;}#sk-container-id-107 div.sk-parallel-item::after {content: \"\";width: 100%;border-bottom: 1px solid gray;flex-grow: 1;}#sk-container-id-107 div.sk-label:hover label.sk-toggleable__label {background-color: #d4ebff;}#sk-container-id-107 div.sk-serial::before {content: \"\";position: absolute;border-left: 1px solid gray;box-sizing: border-box;top: 0;bottom: 0;left: 50%;z-index: 0;}#sk-container-id-107 div.sk-serial {display: flex;flex-direction: column;align-items: center;background-color: white;padding-right: 0.2em;padding-left: 0.2em;position: relative;}#sk-container-id-107 div.sk-item {position: relative;z-index: 1;}#sk-container-id-107 div.sk-parallel {display: flex;align-items: stretch;justify-content: center;background-color: white;position: relative;}#sk-container-id-107 div.sk-item::before, #sk-container-id-107 div.sk-parallel-item::before {content: \"\";position: absolute;border-left: 1px solid gray;box-sizing: border-box;top: 0;bottom: 0;left: 50%;z-index: -1;}#sk-container-id-107 div.sk-parallel-item {display: flex;flex-direction: column;z-index: 1;position: relative;background-color: white;}#sk-container-id-107 div.sk-parallel-item:first-child::after {align-self: flex-end;width: 50%;}#sk-container-id-107 div.sk-parallel-item:last-child::after {align-self: flex-start;width: 50%;}#sk-container-id-107 div.sk-parallel-item:only-child::after {width: 0;}#sk-container-id-107 div.sk-dashed-wrapped {border: 1px dashed gray;margin: 0 0.4em 0.5em 0.4em;box-sizing: border-box;padding-bottom: 0.4em;background-color: white;}#sk-container-id-107 div.sk-label label {font-family: monospace;font-weight: bold;display: inline-block;line-height: 1.2em;}#sk-container-id-107 div.sk-label-container {text-align: center;}#sk-container-id-107 div.sk-container {/* jupyter's `normalize.less` sets `[hidden] { display: none; }` but bootstrap.min.css set `[hidden] { display: none !important; }` so we also need the `!important` here to be able to override the default hidden behavior on the sphinx rendered scikit-learn.org. See: https://github.com/scikit-learn/scikit-learn/issues/21755 */display: inline-block !important;position: relative;}#sk-container-id-107 div.sk-text-repr-fallback {display: none;}</style><div id=\"sk-container-id-107\" class=\"sk-top-container\"><div class=\"sk-text-repr-fallback\"><pre>QuadraticDiscriminantAnalysis()</pre><b>In a Jupyter environment, please rerun this cell to show the HTML representation or trust the notebook. <br />On GitHub, the HTML representation is unable to render, please try loading this page with nbviewer.org.</b></div><div class=\"sk-container\" hidden><div class=\"sk-item\"><div class=\"sk-estimator sk-toggleable\"><input class=\"sk-toggleable__control sk-hidden--visually\" id=\"sk-estimator-id-107\" type=\"checkbox\" checked><label for=\"sk-estimator-id-107\" class=\"sk-toggleable__label sk-toggleable__label-arrow\">QuadraticDiscriminantAnalysis</label><div class=\"sk-toggleable__content\"><pre>QuadraticDiscriminantAnalysis()</pre></div></div></div></div></div>"
            ]
          },
          "metadata": {},
          "execution_count": 4623
        }
      ],
      "source": [
        "# Pass the scaled train data to the SVC classifier\n",
        "cls.fit(ss1.fit_transform(X.iloc[:split]),y.iloc[:split])"
      ]
    },
    {
      "cell_type": "code",
      "source": [
        "# Training the PyTorch NN model\n",
        "\n",
        "num_features = X.shape[1]\n",
        "model = Model(in_features=num_features, h1=50, h2=50, out_features=3)\n",
        "\n",
        "# Convert X features to float tensors\n",
        "X_train = torch.FloatTensor(ss1.fit_transform(X.iloc[:split].to_numpy()))\n",
        "y_train = torch.LongTensor(y.iloc[:split].to_numpy()+1)\n",
        "\n",
        "\n",
        "# Set the criterion of model to measure the error, how far off the predictions are from the data\n",
        "criterion = nn.CrossEntropyLoss()\n",
        "# Chose Adam Optimizer, lr = learning rate (if error doesn't go sown after a bunch of iterations (epochs), lower our learning rate)\n",
        "optimizer = torch.optim.Adam(model.parameters(), lr=0.01)\n",
        "\n",
        "\n",
        "# Train our model!\n",
        "# Epochs? (one run thry all the training data in our network)\n",
        "epochs = 50\n",
        "losses = []\n",
        "for i in range(epochs):\n",
        "  # Go forward and get prediction\n",
        "  y_pred = model.forward(X_train) # Get predicted results\n",
        "\n",
        "  # Measure the loss/errorm gonna be right at first\n",
        "  loss = criterion(y_pred, y_train) # predicted values vs the y_train\n",
        "\n",
        "  # Keep Track of our losses\n",
        "  losses.append(loss.detach().numpy()) # transform the loss format to arr\n",
        "\n",
        "  # print every 10 epoch\n",
        "  if i % 10 == 0:\n",
        "    print(f'Epoch: {i} and loss: {loss}')\n",
        "\n",
        "  # Do some back propagation: take the error rate of the forward propagation and feed it back\n",
        "  # thru the network to fine tune the weight\n",
        "  optimizer.zero_grad()\n",
        "  loss.backward()\n",
        "  optimizer.step()\n",
        "\n",
        "\n",
        "# Graph it out!\n",
        "plt.plot(range(epochs), losses)\n",
        "plt.ylabel(\"loss/error\")\n",
        "plt.xlabel(\"Epoch\")"
      ],
      "metadata": {
        "id": "sY3wY5K0t2I3",
        "colab": {
          "base_uri": "https://localhost:8080/",
          "height": 553
        },
        "outputId": "09305e64-6e31-4fdd-d784-7989ffdec656"
      },
      "execution_count": null,
      "outputs": [
        {
          "output_type": "stream",
          "name": "stdout",
          "text": [
            "Epoch: 0 and loss: 1.162779688835144\n",
            "Epoch: 10 and loss: 1.0952329635620117\n",
            "Epoch: 20 and loss: 1.0914231538772583\n",
            "Epoch: 30 and loss: 1.0928778648376465\n",
            "Epoch: 40 and loss: 1.0909825563430786\n"
          ]
        },
        {
          "output_type": "execute_result",
          "data": {
            "text/plain": [
              "Text(0.5, 0, 'Epoch')"
            ]
          },
          "metadata": {},
          "execution_count": 4624
        },
        {
          "output_type": "display_data",
          "data": {
            "text/plain": [
              "<Figure size 640x480 with 1 Axes>"
            ],
            "image/png": "[encoded data removed]"
          },
          "metadata": {}
        }
      ]
    },
    {
      "cell_type": "code",
      "source": [],
      "metadata": {
        "id": "SYfwnBsA5Msv"
      },
      "execution_count": null,
      "outputs": []
    },
    {
      "cell_type": "markdown",
      "metadata": {
        "id": "auXVziZsrf97"
      },
      "source": [
        "Congratulations, your prediction model is ready!"
      ]
    },
    {
      "cell_type": "code",
      "execution_count": null,
      "metadata": {
        "id": "YFDyUjdJrf98",
        "colab": {
          "base_uri": "https://localhost:8080/"
        },
        "outputId": "cae70a22-44ba-4849-8c2b-10cafbda454c"
      },
      "outputs": [
        {
          "output_type": "execute_result",
          "data": {
            "text/plain": [
              "['cls.joblib']"
            ]
          },
          "metadata": {},
          "execution_count": 4625
        }
      ],
      "source": [
        "joblib.dump(ss1,'ss1.joblib')\n",
        "joblib.dump(cls,'cls.joblib')"
      ]
    },
    {
      "cell_type": "markdown",
      "metadata": {
        "id": "mxuoM_b9rf98"
      },
      "source": [
        "## Predict the signals"
      ]
    },
    {
      "cell_type": "markdown",
      "metadata": {
        "id": "_krnGaWYrf98"
      },
      "source": [
        "Now, you can use the test data to make predictions and save the value of output 'y' in a list called 'y_predict'. This list will have the predicted values of 'Signal' for the test data.  "
      ]
    },
    {
      "cell_type": "code",
      "execution_count": null,
      "metadata": {
        "id": "xpie4tzirf98"
      },
      "outputs": [],
      "source": [
        "ss1 = joblib.load('ss1.joblib')\n",
        "cls = joblib.load('cls.joblib')"
      ]
    },
    {
      "cell_type": "code",
      "execution_count": null,
      "metadata": {
        "id": "mjs5ucl6rf98",
        "colab": {
          "base_uri": "https://localhost:8080/"
        },
        "outputId": "55d88b7d-31e1-477f-99bd-ba3f3c32791d"
      },
      "outputs": [
        {
          "output_type": "stream",
          "name": "stderr",
          "text": [
            "/usr/local/lib/python3.10/dist-packages/sklearn/base.py:432: UserWarning: X has feature names, but StandardScaler was fitted without feature names\n",
            "  warnings.warn(\n"
          ]
        }
      ],
      "source": [
        "# Pass the test data to the predict function and store the values into 'y_predict'\n",
        "y_predict = cls.predict(ss1.transform(X.iloc[split:]))"
      ]
    },
    {
      "cell_type": "code",
      "execution_count": null,
      "metadata": {
        "id": "4uwRlRtxrf98",
        "colab": {
          "base_uri": "https://localhost:8080/"
        },
        "outputId": "603d1891-c4e1-41b8-d3f8-3a2b5af609b4"
      },
      "outputs": [
        {
          "output_type": "stream",
          "name": "stderr",
          "text": [
            "/usr/local/lib/python3.10/dist-packages/sklearn/base.py:432: UserWarning: X has feature names, but StandardScaler was fitted without feature names\n",
            "  warnings.warn(\n"
          ]
        }
      ],
      "source": [
        "# This is an alternative approach to generate the predictions.\n",
        "# It uses the same method used in the ML framework, generates predictions based on a list of probability\n",
        "# Please, uncomment the last line of this code block if you want to use it\n",
        "\n",
        "y_prob = cls.predict_proba(ss1.transform(X.iloc[split:]))\n",
        "\n",
        "def GetPredFromProb(y_prob, pred_threshold=0.56, pred_threshold2=1.0, mode=0):\n",
        "    \"\"\"This functions generates predictions based on a list of probability\n",
        "    (e.g., we only buy if the probability of going up is very high)\"\"\"\n",
        "\n",
        "    #--- In case we have only 2 classes\n",
        "    if len(y_prob[0])==2: # in case we cave only 2 classes\n",
        "        y_pred = [0 for y in y_prob]\n",
        "        for i in range(0, len(y_pred)):\n",
        "            prob_up = y_prob[i][1] / (y_prob[i][0]  + y_prob[i][1])\n",
        "            prob_down = y_prob[i][0] / (y_prob[i][1] + y_prob[i][0])\n",
        "            if prob_up >= pred_threshold:\n",
        "                y_pred[i] = 1\n",
        "            elif prob_down >= pred_threshold:\n",
        "                y_pred[i] = -1\n",
        "            else:\n",
        "                y_pred[i] = 0\n",
        "        return y_pred\n",
        "\n",
        "    #--- In case we have 3 classes\n",
        "    y_pred = [0 for y in y_prob]\n",
        "    for i in range(0, len(y_pred)):\n",
        "\n",
        "        if mode==0:\n",
        "            # this way of calculating the probability yielded to much better results.\n",
        "            # the prob of going up in the next few candles,\n",
        "            # is the ArgMax() of the probability of being label 0 (going down)\n",
        "            # and probability of being label 2 (going up), without taking\n",
        "            # into account the probability of being label 1 (side)\n",
        "            if (y_prob[i][0] + y_prob[i][2] != 0):\n",
        "                prob_up = y_prob[i][2] / (y_prob[i][0] + y_prob[i][2])\n",
        "            else:\n",
        "                prob_up = 0\n",
        "\n",
        "            if (y_prob[i][2] + y_prob[i][0]) != 0:\n",
        "                prob_down = y_prob[i][0] / (y_prob[i][2] + y_prob[i][0])\n",
        "            else:\n",
        "                prob_down = 0\n",
        "        else:\n",
        "            prob_up = y_prob[i][2] / (y_prob[i][0] + y_prob[i][1] + y_prob[i][2])\n",
        "            prob_down = y_prob[i][0] / (y_prob[i][2] + y_prob[i][1] + y_prob[i][0])\n",
        "\n",
        "        if prob_up >= pred_threshold and y_prob[i][1] < pred_threshold2:  y_pred[i] = 1\n",
        "        elif prob_down >= pred_threshold and y_prob[i][1] < pred_threshold2:  y_pred[i] = -1\n",
        "        else:   y_pred[i] = 0\n",
        "    return y_pred\n",
        "\n",
        "# y_predict = GetPredFromProb(y_prob, pred_threshold=0.7)"
      ]
    },
    {
      "cell_type": "code",
      "source": [
        "# Predict the test using the PyTorch NN model\n",
        "\n",
        "# Convert X features to float tensors\n",
        "X_test = torch.FloatTensor(ss1.fit_transform(X.iloc[split:].to_numpy()))\n",
        "y_test = torch.FloatTensor(y.iloc[split:].to_numpy())\n",
        "y_predict = []\n",
        "y_prob = []\n",
        "correct = 0\n",
        "with torch.no_grad():\n",
        "  for i, data in enumerate(X_test):\n",
        "    y_val = model.forward(data)\n",
        "    y_predict.append(y_val.argmax().item() - 1)\n",
        "\n",
        "    idx = y_val.argmax().item()\n",
        "    y_prob.append( (1.6**y_val[idx]) / (1.6**y_val[0] + 1.6**y_val[1] + 1.6**y_val[2]) )\n",
        "    if y_prob[-1] < 0.35:\n",
        "      y_predict[-1] = 0\n",
        "\n",
        "    # print(y_prob[-1])\n",
        "    # Will tell us what type of flower class our network think it is\n",
        "    # print(f'{i+1}: \\t{str(y_val)} \\t {y_val.argmax().item()} \\t {y_test[i]}')\n",
        "\n",
        "    # Correct or not\n",
        "    if y_val.argmax().item() - 1 == y_test[i]:\n",
        "      correct += 1\n",
        "\n",
        "  print(f'We got {correct} correct of {len(X_test)}!')\n",
        "\n",
        "y_predict = np.array(y_predict)\n",
        "print(y_predict, len(y_predict))"
      ],
      "metadata": {
        "id": "qipLE7deuI11",
        "colab": {
          "base_uri": "https://localhost:8080/"
        },
        "outputId": "afffe9f4-1956-459e-a6ce-72093ee0b136"
      },
      "execution_count": null,
      "outputs": [
        {
          "output_type": "stream",
          "name": "stdout",
          "text": [
            "We got 124 correct of 385!\n",
            "[0 0 0 0 0 0 0 0 0 0 0 0 0 0 0 1 0 0 0 1 0 1 1 1 1 0 0 0 1 0 1 1 0 0 0 0 0\n",
            " 0 0 0 0 0 0 0 0 0 0 0 0 0 0 0 0 0 0 0 0 0 0 0 0 1 0 0 1 0 0 0 1 1 1 1 1 0\n",
            " 1 0 0 0 0 0 0 0 0 0 0 0 0 0 0 0 0 0 0 0 0 0 0 0 0 0 0 0 0 0 0 0 0 0 0 0 0\n",
            " 0 0 0 0 0 0 0 0 0 0 0 0 0 0 0 0 0 1 0 0 0 1 0 0 1 0 0 0 0 0 0 0 0 0 0 0 0\n",
            " 0 0 0 0 0 0 0 1 0 1 0 1 0 1 1 0 1 1 1 1 1 1 1 1 1 1 1 1 0 1 1 1 0 0 0 1 0\n",
            " 0 0 0 0 0 0 0 0 0 0 0 1 0 0 0 0 0 0 0 0 0 0 0 0 0 0 0 0 0 0 0 0 0 0 0 0 0\n",
            " 0 0 0 0 0 0 0 0 0 0 0 1 1 1 0 0 0 0 1 0 1 0 0 0 0 0 0 0 0 0 1 0 0 0 0 0 1\n",
            " 0 0 0 0 0 0 0 0 0 0 0 0 0 0 0 0 0 0 0 0 0 0 0 0 0 0 0 0 1 1 0 0 0 0 0 0 0\n",
            " 0 0 0 0 1 0 0 1 0 1 0 0 1 1 1 1 1 0 1 1 1 1 0 1 0 0 0 0 0 0 0 0 0 0 0 0 0\n",
            " 0 0 0 0 0 0 0 0 0 0 0 0 0 0 0 0 0 0 0 0 0 0 0 0 0 1 0 0 0 0 1 0 0 0 1 0 0\n",
            " 1 0 0 1 0 0 0 0 0 0 0 0 0 0 0] 385\n"
          ]
        }
      ]
    },
    {
      "cell_type": "code",
      "source": [
        "# Predict the test using the PyTorch NN model - TRAINING\n",
        "\n",
        "# Convert X features to float tensors\n",
        "\n",
        "y_predict_train = []\n",
        "y_prob_train = []\n",
        "correct = 0\n",
        "with torch.no_grad():\n",
        "  for i, data in enumerate(X_train):\n",
        "    y_val = model.forward(data)\n",
        "    y_predict_train.append(y_val.argmax().item() - 1)\n",
        "\n",
        "    idx = y_val.argmax().item()\n",
        "    y_prob_train.append( (1.6**y_val[idx]) / (1.6**y_val[0] + 1.6**y_val[1] + 1.6**y_val[2]) )\n",
        "    if y_prob_train[-1] < 0.35:\n",
        "      y_predict_train[-1] = 0\n",
        "\n",
        "    # Will tell us what type of flower class our network think it is\n",
        "    # print(f'{i+1}: \\t{str(y_val)} \\t {y_val.argmax().item()} \\t {y_test[i]}')\n",
        "\n",
        "    # Correct or not\n",
        "    if y_val.argmax().item() - 1 == y_train[i]:\n",
        "      correct += 1\n",
        "\n",
        "  print(f'We got {correct} correct of {len(X_train)}!')\n",
        "\n",
        "y_predict_train = np.array(y_predict_train)\n",
        "print(y_predict_train, len(y_predict_train))"
      ],
      "metadata": {
        "colab": {
          "base_uri": "https://localhost:8080/"
        },
        "id": "3DUAc5p5EakM",
        "outputId": "5bd46f6f-310b-408a-9dfe-32ec65a5761f"
      },
      "execution_count": null,
      "outputs": [
        {
          "output_type": "stream",
          "name": "stdout",
          "text": [
            "We got 1071 correct of 3457!\n",
            "[1 0 1 ... 1 0 0] 3457\n"
          ]
        }
      ]
    },
    {
      "cell_type": "markdown",
      "metadata": {
        "id": "pjm64rTPrf99"
      },
      "source": [
        "Now create a new column 'Pred_Signal' in 'Df' to save all the predictions for both train data and test data."
      ]
    },
    {
      "cell_type": "code",
      "execution_count": null,
      "metadata": {
        "id": "c_w3ojXFrf99"
      },
      "outputs": [],
      "source": [
        "# Initiate a column by name, 'Pred_Signal' and assign 0 to it\n",
        "Df['Pred_Signal'] = 0"
      ]
    },
    {
      "cell_type": "markdown",
      "metadata": {
        "id": "Ey2ZqwTtrf99"
      },
      "source": [
        "### Save the predictions\n",
        "1. To save predicted 'y' values of test data, we can simply assign 'y_predict' to 'Pred_Signal' using the split.\n",
        "2. To save predicted 'y' values for train data, we make predictions for train data and save it similarly."
      ]
    },
    {
      "cell_type": "code",
      "execution_count": null,
      "metadata": {
        "id": "o20AJP76rf99"
      },
      "outputs": [],
      "source": [
        "# Save the predicted values for the train data\n",
        "# Df.iloc[:split,Df.columns.get_loc('Pred_Signal')] = pd.Series(cls.predict(ss1.transform(X.iloc[:split])).tolist())\n",
        "# Df.iloc[:split,Df.columns.get_loc('Pred_Signal')] = cls.predict(ss1.transform(X.iloc[:split]))\n",
        "Df.iloc[:split,Df.columns.get_loc('Pred_Signal')] = y_predict_train\n",
        "\n",
        "# Save the predicted values for the test data\n",
        "Df.iloc[split:,Df.columns.get_loc('Pred_Signal')] = y_predict\n",
        "\n",
        "Df['Profit'] = Df['Pred_Signal']*Df['Ret']"
      ]
    },
    {
      "cell_type": "code",
      "execution_count": null,
      "metadata": {
        "id": "Wblq7lXcrf9-"
      },
      "outputs": [],
      "source": [
        "Df[\"Test_Set\"] = 0\n",
        "Df.loc[split:,\"Test_Set\"] = 1\n",
        "Df.to_csv(\"output_pred.csv\")"
      ]
    },
    {
      "cell_type": "markdown",
      "metadata": {
        "id": "EZ1iJsL8rf9-"
      },
      "source": [
        "Since, the algorithm was trained on the train data, it’s accuracy of prediction is expected to be better on this train data compared to the test data. You can print these two seperately to check the accuracies. (TRY ON YOUR OWN!)"
      ]
    },
    {
      "cell_type": "markdown",
      "metadata": {
        "id": "diagl-QYrf9-"
      },
      "source": [
        "## Use the model for trading strategy"
      ]
    },
    {
      "cell_type": "markdown",
      "metadata": {
        "id": "vbD6VzPwrf9_"
      },
      "source": [
        "### Trading strategy\n",
        "        \n",
        "Our trading strategy is simply to buy/sell/do-nothing at that period for which the Signal is generated by the algorithm. The strategy assumes that you always get a fill at the \"Open\" prices.\n",
        "\n",
        "You had already calculated and saved returns on 'Open' prices in 'Ret'. You will create a column named 'Ret1' to store the strategy's returns based on the Signal."
      ]
    },
    {
      "cell_type": "code",
      "execution_count": null,
      "metadata": {
        "id": "sTRc_DUArf9_"
      },
      "outputs": [],
      "source": [
        "# Calculate strategy returns and store them in 'Ret1' column\n",
        "Df['Ret1'] = Df['Ret']*Df['Pred_Signal']"
      ]
    },
    {
      "cell_type": "markdown",
      "metadata": {
        "id": "QW7Z58Sarf9_"
      },
      "source": [
        "## Analyze the performance"
      ]
    },
    {
      "cell_type": "markdown",
      "metadata": {
        "id": "QhDhadxwrf-A"
      },
      "source": [
        "Please note that here you are using only the test data to compare the performance of the strategy. You can pass the entire 'Ret1' column and check the performance on both the test and train data if you wish to."
      ]
    },
    {
      "cell_type": "code",
      "execution_count": null,
      "metadata": {
        "id": "-ez6XnsArf-B",
        "colab": {
          "base_uri": "https://localhost:8080/"
        },
        "outputId": "e9ef77ae-bf2c-4b06-b29c-931052f5a3f6"
      },
      "outputs": [
        {
          "output_type": "stream",
          "name": "stdout",
          "text": [
            "Sharpe 1.3605005048740053\n"
          ]
        }
      ],
      "source": [
        "# Calculate the annualized Sharpe ratio\n",
        "sharpe = np.sqrt(252) * Df['Ret1'][split:].mean() / Df['Ret1'][split:].std()\n",
        "\n",
        "print('Sharpe', sharpe)"
      ]
    },
    {
      "cell_type": "code",
      "execution_count": null,
      "metadata": {
        "id": "Jp-pOIcNrf-B",
        "colab": {
          "base_uri": "https://localhost:8080/"
        },
        "outputId": "86773153-193a-45fa-e0f7-79899cea56d3"
      },
      "outputs": [
        {
          "output_type": "stream",
          "name": "stdout",
          "text": [
            "\n",
            "Strategy results %: \n",
            "\n",
            " \tTotal return:  61.0369 % \n",
            " \tEntries:  69 \n",
            " \tReturn per entry:  0.8846 % \n",
            " \tSuccess:  52.11 % \n",
            " \tRatio:  1.73 \n",
            " \tTotal of days:  385 \n",
            " \tTotal of months:  18.3333 \n",
            " \tMonthly return:  3.3293 % \n",
            " \tMax drawdown:  -22.0633 % \n",
            " \tMean drawdown:  -2.984 % \n",
            " \tBuy signals 69 \n",
            " \tSell signals 0\n",
            "\n",
            "Strategy results: \n",
            "\n",
            " \tTotal return:  26231.024 \n",
            " \tEntries:  69 \n",
            " \tReturn per entry:  380.1598 \n",
            " \tSuccess:  52.11 % \n",
            " \tRatio:  1.74 \n",
            " \tTotal of days:  385 \n",
            " \tTotal of months:  18.3333 \n",
            " \tMonthly return:  1430.7831 \n",
            " \tMax drawdown:  -8471.267 \n",
            " \tMean drawdown:  -1472.0368 \n",
            " \tBuy signals 69 \n",
            " \tSell signals 0\n",
            "\n",
            "Buy Only (Baseline) results %: \n",
            "\n",
            " \tTotal return:  73.1703 % \n",
            " \tEntries:  385 \n",
            " \tReturn per entry:  0.1901 % \n",
            " \tSuccess:  52.45 % \n",
            " \tRatio:  1.12 \n",
            " \tTotal of days:  385 \n",
            " \tTotal of months:  18.3333 \n",
            " \tMonthly return:  3.9911 % \n",
            " \tMax drawdown:  -90.4179 % \n",
            " \tMean drawdown:  -19.4272 % \n",
            " \tBuy signals 385 \n",
            " \tSell signals 0\n",
            "\n",
            "Buy Only (Baseline) results: \n",
            "\n",
            " \tTotal return:  2071.893 \n",
            " \tEntries:  385 \n",
            " \tReturn per entry:  5.3815 \n",
            " \tSuccess:  52.45 % \n",
            " \tRatio:  1.01 \n",
            " \tTotal of days:  385 \n",
            " \tTotal of months:  18.3333 \n",
            " \tMonthly return:  113.0123 \n",
            " \tMax drawdown:  -47435.461 \n",
            " \tMean drawdown:  -12705.6359 \n",
            " \tBuy signals 385 \n",
            " \tSell signals 0\n"
          ]
        }
      ],
      "source": [
        "# Calculate other metrics\n",
        "\n",
        "def CalculateMetrics(returns,y_pred,dates,optimize=False,prediction_horizon=1,type_='percentual'):\n",
        "    #Receive the dates, predictions and returns, apply a simple trading strategy (exit position after n candles, without tp and sl), and show the results and graph\"\"\"\n",
        "\n",
        "    #--- get the returns if we follow the strategy (follow the prediction signals) - it is equivalent to buying or selling according to the signal, and keep the position for n candles. We can have multiple positions at the same time, without sl and tp\n",
        "    strategy_returns=[y_pred[i]*returns[i] for i in range(0,len(y_pred))]\n",
        "\n",
        "    #--- get the cumulative return of our strategy - increasing position - juros composto\n",
        "    strategy_accumulated_prod = 1\n",
        "    for i in range(1, len(strategy_returns)):\n",
        "        strategy_accumulated_prod *= (strategy_returns[i]+1)\n",
        "    strategy_accumulated_prod -= 1\n",
        "\n",
        "    #--- get the cumulative return of our strategy\n",
        "    strategy_accumulated = copy.copy(strategy_returns)\n",
        "    for i in range(1, len(strategy_accumulated)):\n",
        "        strategy_accumulated[i] = strategy_accumulated[i-1] + strategy_returns[i]\n",
        "\n",
        "    #--- get the cumulative return of the asset - where we buy only, at every candle, and keeps the position opened for n candles\n",
        "    asset_accumulated = copy.copy(returns)\n",
        "    for i in range(1, len(asset_accumulated)):\n",
        "        asset_accumulated[i] = asset_accumulated[i-1] + returns[i]\n",
        "\n",
        "\n",
        "    #--- get the cumulative loss of our strategy - draw down\n",
        "    strategy_drawdown = copy.copy(strategy_returns)\n",
        "    for i in range(1, len(strategy_drawdown)):\n",
        "        strategy_drawdown[i] = (strategy_drawdown[i-1] + strategy_returns[i] if strategy_drawdown[i-1] + strategy_returns[i] < 0 else 0)\n",
        "\n",
        "    drawdown_max = np.min(np.array(strategy_drawdown))\n",
        "    drawdown_mean = np.mean(np.array(strategy_drawdown))\n",
        "    total_return = strategy_accumulated[-1]\n",
        "    total_days = len(list(set([date.strftime(\"%Y-%m-%d\") for date in dates])))\n",
        "    total_months = total_days / 21\n",
        "    monthly_return = (total_return/total_months if total_months>0 else 0)\n",
        "    drawdown_max_by_monthly_return = (-drawdown_max/monthly_return if monthly_return != 0 else 0)\n",
        "    drawdown_mean_by_monthly_return = (-drawdown_mean/monthly_return if monthly_return != 0 else 0)\n",
        "\n",
        "\n",
        "    #--- calculating a few metrics\n",
        "\n",
        "    if optimize:\n",
        "        e = []\n",
        "        for i,pred in enumerate(y_pred):\n",
        "            if y_pred[max(0,i-prediction_horizon)] != pred: e.append(abs(pred))\n",
        "        entries = np.sum(np.array(e))\n",
        "    else:\n",
        "        entries = np.sum(np.array([abs(pred) for pred in y_pred]))\n",
        "        entries_buy = int(np.sum(np.array([abs(pred) for pred in y_pred if pred>0])))\n",
        "        entries_sell = int(np.sum(np.array([abs(pred) for pred in y_pred if pred<0])))\n",
        "    total_return = strategy_accumulated[-1]\n",
        "    if entries>0:\n",
        "        return_per_entry = total_return / entries\n",
        "    else:\n",
        "        return_per_entry = 0\n",
        "\n",
        "    poss = sum([1 for return_ in strategy_returns if return_ > 0])\n",
        "    negs = sum([1 for return_ in strategy_returns if return_ < 0])\n",
        "    success = (poss+1) / (poss + negs+2)\n",
        "\n",
        "    poss_ = sum([return_ for return_ in strategy_returns if return_ > 0])\n",
        "    negs_ = sum([return_ for return_ in strategy_returns if return_ < 0])\n",
        "    profitFactor = -((poss_+0.000001)/(negs_+0.000001))\n",
        "\n",
        "    if type_ == 'percentual':\n",
        "        print(\n",
        "              \"\\n \\tTotal return: \",round(total_return*100,4),\"%\",\n",
        "              \"\\n \\tEntries: \", entries,\n",
        "              \"\\n \\tReturn per entry: \", round(return_per_entry*100,4),\"%\",\n",
        "              \"\\n \\tSuccess: \", round(success*100,2),\"%\",\n",
        "              \"\\n \\tRatio: \", round(profitFactor,2),\n",
        "              \"\\n \\tTotal of days: \", total_days,\n",
        "              \"\\n \\tTotal of months: \", round(total_months,4),\n",
        "              \"\\n \\tMonthly return: \", round(monthly_return*100,4),\"%\",\n",
        "              \"\\n \\tMax drawdown: \", round(drawdown_max*100,4),\"%\",\n",
        "              \"\\n \\tMean drawdown: \", round(drawdown_mean*100,4),\"%\",\n",
        "              \"\\n \\tBuy signals\", entries_buy,\n",
        "              \"\\n \\tSell signals\", entries_sell,\n",
        "              )\n",
        "    else:\n",
        "        print(\n",
        "              \"\\n \\tTotal return: \",round(total_return,4),\n",
        "              \"\\n \\tEntries: \", entries,\n",
        "              \"\\n \\tReturn per entry: \", round(return_per_entry,4),\n",
        "              \"\\n \\tSuccess: \", round(success*100,2),\"%\",\n",
        "              \"\\n \\tRatio: \", round(profitFactor,2),\n",
        "              \"\\n \\tTotal of days: \", total_days,\n",
        "              \"\\n \\tTotal of months: \", round(total_months,4),\n",
        "              \"\\n \\tMonthly return: \", round(monthly_return,4),\n",
        "              \"\\n \\tMax drawdown: \", round(drawdown_max,4),\n",
        "              \"\\n \\tMean drawdown: \", round(drawdown_mean,4),\n",
        "              \"\\n \\tBuy signals\", entries_buy,\n",
        "              \"\\n \\tSell signals\", entries_sell,\n",
        "              )\n",
        "\n",
        "# Strategy Metrics\n",
        "returns = list(Df['Ret'][split:])\n",
        "y_pred = list(Df['Pred_Signal'][split:])\n",
        "dates = list(Df['Time'][split:])\n",
        "print(\"\\nStrategy results %: \")\n",
        "CalculateMetrics(returns,y_pred,dates,type_='percentual')\n",
        "\n",
        "returns_absolute = list((Df['Ret']*Df['Open'])[split:])\n",
        "print(\"\\nStrategy results: \")\n",
        "CalculateMetrics(returns_absolute,y_pred,dates,type_='points')\n",
        "\n",
        "\n",
        "\n",
        "# BuyOnlyBaseline\n",
        "returns = list(Df['Ret'][split:])\n",
        "y_pred = [1]*len(returns)\n",
        "dates = Df['Time'][split:]\n",
        "print(\"\\nBuy Only (Baseline) results %: \")\n",
        "CalculateMetrics(returns,y_pred,dates)\n",
        "\n",
        "returns_absolute = list((Df['Ret']*Df['Open'])[split:])\n",
        "print(\"\\nBuy Only (Baseline) results: \")\n",
        "CalculateMetrics(returns_absolute,y_pred,dates,type_='points')"
      ]
    },
    {
      "cell_type": "markdown",
      "metadata": {
        "id": "eNBZZfyXrf-B"
      },
      "source": [
        "## Plot the results\n",
        "\n",
        "Now you can plot the results to visualize the performance.\n"
      ]
    },
    {
      "cell_type": "code",
      "execution_count": null,
      "metadata": {
        "id": "2dg-UHrprf-C"
      },
      "outputs": [],
      "source": [
        "Df.set_index(\"Time\", inplace=True)"
      ]
    },
    {
      "cell_type": "markdown",
      "metadata": {
        "id": "155Ak8tVrf-C"
      },
      "source": [
        "### Traning period"
      ]
    },
    {
      "cell_type": "code",
      "execution_count": null,
      "metadata": {
        "id": "67j6rI4Wrf-C",
        "colab": {
          "base_uri": "https://localhost:8080/",
          "height": 851
        },
        "outputId": "b5c9b457-9cea-4dff-b956-f354ba3085e5"
      },
      "outputs": [
        {
          "output_type": "display_data",
          "data": {
            "text/plain": [
              "<Figure size 1000x1000 with 1 Axes>"
            ],
            "image/png": "[encoded data removed]"
          },
          "metadata": {}
        }
      ],
      "source": [
        "# Plot the strategy returns in the test period\n",
        "plt.figure(figsize=(10,10))\n",
        "# plt.plot(((Df['Ret'][:split]+1).cumprod()-1),color='r',label='Mini-índice')\n",
        "# plt.plot(((Df['Ret1'][:split]+1).cumprod()-1),color='g',label='Estratégia')\n",
        "plt.plot(((Df['Ret'][:split]).cumsum()),color='r',label='stock')\n",
        "plt.plot(((Df['Ret1'][:split]).cumsum()),color='g',label='strategy')\n",
        "plt.legend()\n",
        "plt.xticks(rotation=-45)\n",
        "plt.gca().yaxis.set_major_formatter(mtick.PercentFormatter(1.0))\n",
        "plt.show()"
      ]
    },
    {
      "cell_type": "markdown",
      "metadata": {
        "id": "4qdvqLggrf-D"
      },
      "source": [
        "### Testing period"
      ]
    },
    {
      "cell_type": "code",
      "execution_count": null,
      "metadata": {
        "id": "us1KeZsPrf-D",
        "colab": {
          "base_uri": "https://localhost:8080/",
          "height": 867
        },
        "outputId": "7ce3d814-abd1-454c-e956-ba18ae72618a"
      },
      "outputs": [
        {
          "output_type": "display_data",
          "data": {
            "text/plain": [
              "<Figure size 1000x1000 with 1 Axes>"
            ],
            "image/png": "[encoded data removed]"
          },
          "metadata": {}
        }
      ],
      "source": [
        "# Plot the strategy returns in the test period\n",
        "plt.figure(figsize=(10,10))\n",
        "# plt.plot(((Df['Ret'][split:]+1).cumprod()-1),color='r',label='Mini-índice')\n",
        "# plt.plot(((Df['Ret1'][split:]+1).cumprod()-1),color='g',label='Estratégia')\n",
        "plt.plot(((Df['Ret'][split:]).cumsum()),color='r',label='stock')\n",
        "plt.plot(((Df['Ret1'][split:]).cumsum()),color='g',label='strategy-test')\n",
        "plt.legend()\n",
        "plt.xticks(rotation=-45)\n",
        "plt.gca().yaxis.set_major_formatter(mtick.PercentFormatter(1.0))\n",
        "plt.show()"
      ]
    },
    {
      "cell_type": "markdown",
      "metadata": {
        "id": "v4kib4XUrf-D"
      },
      "source": [
        "## Now, it's your turn!"
      ]
    },
    {
      "cell_type": "markdown",
      "metadata": {
        "id": "Y5p6shmfrf-D"
      },
      "source": [
        "### Tweak the code\n",
        "\n",
        "You can tweak the code in the following ways:\n",
        "1. Use different data sets – backtest and try out the model on different data sets!\n",
        "2. Features – create your own features using different indicators that could improve the prediction accuracy\n",
        "\n"
      ]
    },
    {
      "cell_type": "markdown",
      "metadata": {
        "id": "F5egX6turf-E"
      },
      "source": [
        "### Prediction with a new data\n",
        "Getting new data"
      ]
    },
    {
      "cell_type": "code",
      "execution_count": null,
      "metadata": {
        "id": "AiNe8Uejrf-E",
        "colab": {
          "base_uri": "https://localhost:8080/"
        },
        "outputId": "947e8a60-a765-4ad7-f6c0-7e0f9f087ddb"
      },
      "outputs": [
        {
          "output_type": "stream",
          "name": "stdout",
          "text": [
            "       O        F1        F2        F3   F4        F5        F6        F7\n",
            "0  70100 -0.025238 -0.002561 -0.002987  0.0 -0.025238 -0.025238 -0.025238\n"
          ]
        }
      ],
      "source": [
        "# Pass the new data in the format of a dictionary, with the same keys and orders from the datased used for training\n",
        "new_data = {'O':[70100], 'F1':[-0.025238], 'F2':[-0.002561], 'F3':[-0.002987], 'F4':[0.00000], 'F5':[-0.025238],'F6':[-0.025238],'F7':[-0.025238]}\n",
        "\n",
        "# Transform the dictionary into a dataframe\n",
        "x = pd.DataFrame(new_data)\n",
        "print(x)"
      ]
    },
    {
      "cell_type": "markdown",
      "metadata": {
        "id": "jtt_gEzErf-F"
      },
      "source": [
        "Doing the prediction of the new data using the previously trained model"
      ]
    },
    {
      "cell_type": "code",
      "execution_count": null,
      "metadata": {
        "id": "aKVzb_mlrf-F",
        "colab": {
          "base_uri": "https://localhost:8080/",
          "height": 106
        },
        "outputId": "556eb999-f8c4-423a-f92e-b64261553ddc"
      },
      "outputs": [
        {
          "output_type": "error",
          "ename": "SyntaxError",
          "evalue": "invalid syntax (<ipython-input-4641-bff4d03351c7>, line 1)",
          "traceback": [
            "\u001b[0;36m  File \u001b[0;32m\"<ipython-input-4641-bff4d03351c7>\"\u001b[0;36m, line \u001b[0;32m1\u001b[0m\n\u001b[0;31m    Pass the new data to the predict function and store the values into 'y_predict'\u001b[0m\n\u001b[0m         ^\u001b[0m\n\u001b[0;31mSyntaxError\u001b[0m\u001b[0;31m:\u001b[0m invalid syntax\n"
          ]
        }
      ],
      "source": [
        "Pass the new data to the predict function and store the values into 'y_predict'\n",
        "y_predict = cls.predict(ss1.transform(x))\n",
        "print('Prediction: ', y_predict)"
      ]
    },
    {
      "cell_type": "code",
      "execution_count": null,
      "metadata": {
        "id": "hiS3pWrTrf-G"
      },
      "outputs": [],
      "source": []
    }
  ],
  "metadata": {
    "anaconda-cloud": {},
    "celltoolbar": "Raw Cell Format",
    "kernelspec": {
      "display_name": "Python 3",
      "language": "python",
      "name": "python3"
    },
    "language_info": {
      "codemirror_mode": {
        "name": "ipython",
        "version": 3
      },
      "file_extension": ".py",
      "mimetype": "text/x-python",
      "name": "python",
      "nbconvert_exporter": "python",
      "pygments_lexer": "ipython3",
      "version": "3.6.6"
    },
    "colab": {
      "provenance": [],
      "include_colab_link": true
    }
  },
  "nbformat": 4,
  "nbformat_minor": 0
}