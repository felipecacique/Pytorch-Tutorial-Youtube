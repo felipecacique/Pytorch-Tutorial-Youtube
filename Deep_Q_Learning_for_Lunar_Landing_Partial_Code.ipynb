{
  "cells": [
    {
      "cell_type": "markdown",
      "metadata": {
        "id": "view-in-github",
        "colab_type": "text"
      },
      "source": [
        "<a href=\"https://colab.research.google.com/github/felipecacique/Pytorch-Tutorial-Youtube/blob/main/Deep_Q_Learning_for_Lunar_Landing_Partial_Code.ipynb\" target=\"_parent\"><img src=\"https://colab.research.google.com/assets/colab-badge.svg\" alt=\"Open In Colab\"/></a>"
      ]
    },
    {
      "cell_type": "markdown",
      "metadata": {
        "id": "LbZcI9ZXHl3a"
      },
      "source": [
        "# Deep Q-Learning for Lunar Landing"
      ]
    },
    {
      "cell_type": "markdown",
      "metadata": {
        "id": "E8yPRjteXgPb"
      },
      "source": [
        "## Part 0 - Installing the required packages and importing the libraries"
      ]
    },
    {
      "cell_type": "markdown",
      "metadata": {
        "id": "slEm5teGWjWU"
      },
      "source": [
        "### Installing Gymnasium"
      ]
    },
    {
      "cell_type": "code",
      "execution_count": 24,
      "metadata": {
        "id": "dbnq3XpoKa_7"
      },
      "outputs": [],
      "source": [
        "# !pip install gymnasium\n",
        "# !pip install \"gymnasium[atari, accept-rom-license]\"\n",
        "# !apt-get install -y swig\n",
        "# !pip install gymnasium[box2d]"
      ]
    },
    {
      "cell_type": "markdown",
      "metadata": {
        "id": "brqiMN3UW9T9"
      },
      "source": [
        "### Importing the libraries"
      ]
    },
    {
      "cell_type": "code",
      "execution_count": 25,
      "metadata": {
        "id": "mZaKXP_aMl9O"
      },
      "outputs": [],
      "source": [
        "import os\n",
        "import random\n",
        "import numpy as np\n",
        "import torch\n",
        "import torch.nn as nn\n",
        "import torch.optim as optim\n",
        "import torch.nn.functional as F\n",
        "import torch.autograd as autograd\n",
        "from torch.autograd import Variable\n",
        "from collections import deque, namedtuple"
      ]
    },
    {
      "cell_type": "markdown",
      "metadata": {
        "id": "EzlDKXvkXzGI"
      },
      "source": [
        "## Part 1 - Building the AI"
      ]
    },
    {
      "cell_type": "markdown",
      "metadata": {
        "id": "UtG6Zc83YYy3"
      },
      "source": [
        "### Creating the architecture of the Neural Network"
      ]
    },
    {
      "cell_type": "code",
      "source": [
        "class Network(nn.Module):\n",
        "\n",
        "  def __init__(self, state_size, action_size, seed = 42):\n",
        "    super(Network, self).__init__()\n",
        "    self.seed = torch.manual_seed(seed)\n",
        "    self.fc1 = nn.Linear(state_size, 64)\n",
        "    self.fc2 = nn.Linear(64, 64)\n",
        "    self.fc3 = nn.Linear(64, action_size)\n",
        "\n",
        "  def forward(self, state):\n",
        "    x = self.fc1(state)\n",
        "    x = F.relu(x)\n",
        "    x = self.fc2(x)\n",
        "    x = F.relu(x)\n",
        "    return self.fc3(x)"
      ],
      "metadata": {
        "id": "wHDl-OboTW3I"
      },
      "execution_count": 26,
      "outputs": []
    },
    {
      "cell_type": "markdown",
      "metadata": {
        "id": "UxVrBnFWZKb1"
      },
      "source": [
        "## Part 2 - Training the AI"
      ]
    },
    {
      "cell_type": "markdown",
      "metadata": {
        "id": "T364fz9qZb2j"
      },
      "source": [
        "### Setting up the environment"
      ]
    },
    {
      "cell_type": "code",
      "source": [
        "import gymnasium as gym\n",
        "env = gym.make('LunarLander-v2')\n",
        "state_shape = env.observation_space.shape\n",
        "state_size = env.observation_space.shape[0]\n",
        "number_actions = env.action_space.n\n",
        "print('State shape: ', state_shape)\n",
        "print('State size: ', state_size)\n",
        "print('Number of actions: ', number_actions)"
      ],
      "metadata": {
        "colab": {
          "base_uri": "https://localhost:8080/"
        },
        "id": "mcVR9OMUWeZu",
        "outputId": "3de92a36-f6ab-4f25-aa3d-99841953ff60"
      },
      "execution_count": 27,
      "outputs": [
        {
          "output_type": "stream",
          "name": "stdout",
          "text": [
            "State shape:  (8,)\n",
            "State size:  8\n",
            "Number of actions:  4\n"
          ]
        }
      ]
    },
    {
      "cell_type": "markdown",
      "metadata": {
        "id": "c_dZmOIvZgj-"
      },
      "source": [
        "### Initializing the hyperparameters"
      ]
    },
    {
      "cell_type": "code",
      "source": [
        "learning_rate = 5e-4\n",
        "minibatch_size = 100\n",
        "discount_factor = 0.99\n",
        "replay_buffer_size = int(1e5)\n",
        "interpolation_parameter = 1e-3"
      ],
      "metadata": {
        "id": "oI-W2CNwcXMG"
      },
      "execution_count": 28,
      "outputs": []
    },
    {
      "cell_type": "markdown",
      "metadata": {
        "id": "8hD_Vs-bYnip"
      },
      "source": [
        "### Implementing Experience Replay"
      ]
    },
    {
      "cell_type": "code",
      "source": [
        "from collections import deque\n",
        "\n",
        "class ReplayMemory(object):\n",
        "\n",
        "  def __init__(self, capacity):\n",
        "    self.device = torch.device(\"cuda:0\" if torch.cuda.is_available() else \"cpu\")\n",
        "    self.capacity = capacity\n",
        "    # self.memory = []\n",
        "    self.memory = deque()\n",
        "\n",
        "  def push(self, event):\n",
        "    self.memory.append(event)\n",
        "    if len(self.memory) > self.capacity:\n",
        "      # del self.memory[0]\n",
        "      self.memory.popleft()\n",
        "\n",
        "  def sample(self, batch_size):\n",
        "    experiences = random.sample(self.memory, k = batch_size)\n",
        "    states = torch.from_numpy(np.vstack([e[0] for e in experiences if e is not None])).float().to(self.device) # transform into torch tensors, float and move it to the device\n",
        "    actions = torch.from_numpy(np.vstack([e[1] for e in experiences if e is not None])).long().to(self.device)\n",
        "    rewards = torch.from_numpy(np.vstack([e[2] for e in experiences if e is not None])).float().to(self.device)\n",
        "    next_states = torch.from_numpy(np.vstack([e[3] for e in experiences if e is not None])).float().to(self.device)\n",
        "    dones = torch.from_numpy(np.vstack([e[4] for e in experiences if e is not None]).astype(np.uint8)).float().to(self.device)\n",
        "    return states, next_states, actions, rewards, dones"
      ],
      "metadata": {
        "id": "2iTYbkxxdOmH"
      },
      "execution_count": 29,
      "outputs": []
    },
    {
      "cell_type": "markdown",
      "metadata": {
        "id": "JmEkbFbUY6Jt"
      },
      "source": [
        "### Implementing the DQN class"
      ]
    },
    {
      "cell_type": "code",
      "source": [
        "class Agent():\n",
        "\n",
        "  def __init__(self, state_size, action_size):\n",
        "    self.device = torch.device(\"cuda:0\" if torch.cuda.is_available() else \"cpu\")\n",
        "    self.state_size = state_size\n",
        "    self.action_size = action_size\n",
        "    self.local_qnetwork = Network(state_size, action_size).to(self.device)\n",
        "    self.target_qnetwork = Network(state_size, action_size).to(self.device)\n",
        "    self.optimizer = optim.Adam(self.local_qnetwork.parameters(), lr = learning_rate)\n",
        "    self.memory = ReplayMemory(replay_buffer_size)\n",
        "    self.t_step = 0\n",
        "\n",
        "  def step(self, state, action, reward, next_state, done):\n",
        "    self.memory.push((state, action, reward, next_state, done))\n",
        "    self.t_step = (self.t_step + 1) % 4\n",
        "    if self.t_step == 0:\n",
        "      if len(self.memory.memory) > minibatch_size:\n",
        "        experiences = self.memory.sample(100)\n",
        "        self.learn(experiences, discount_factor)\n",
        "\n",
        "  def act(self, state, epsilon = 0.):\n",
        "    state = torch.from_numpy(state).float().unsqueeze(0).to(self.device)\n",
        "    self.local_qnetwork.eval()\n",
        "    with torch.no_grad():\n",
        "      action_values = self.local_qnetwork.forward(state)\n",
        "    self.local_qnetwork.train()\n",
        "    if random.random() > epsilon:\n",
        "      return np.argmax(action_values.cpu().data.numpy())\n",
        "    else:\n",
        "      return random.choice(np.arange(self.action_size))\n",
        "\n",
        "  def learn(self, experiences, discount_factor):\n",
        "    states, next_states, actions, rewards, dones = experiences\n",
        "    next_q_targets = self.target_qnetwork(next_states).detach().max(1)[0].unsqueeze(1)\n",
        "    q_targets = rewards + (discount_factor * next_q_targets * (1 - dones))\n",
        "    q_expected = self.local_qnetwork(states).gather(1, actions)\n",
        "    loss = F.mse_loss(q_expected, q_targets)\n",
        "    self.optimizer.zero_grad()\n",
        "    loss.backward()\n",
        "    self.optimizer.step()\n",
        "    self.soft_update(self.local_qnetwork, self.target_qnetwork, interpolation_parameter)\n",
        "\n",
        "  def soft_update(self, local_model, target_model, interpolation_parameter):\n",
        "    for target_param, local_param in zip(target_model.parameters(), local_model.parameters()):\n",
        "      target_param.data.copy_(interpolation_parameter * local_param.data + (1.0 - interpolation_parameter) * target_param.data)\n"
      ],
      "metadata": {
        "id": "49XiJrNgua7k"
      },
      "execution_count": 30,
      "outputs": []
    },
    {
      "cell_type": "markdown",
      "metadata": {
        "id": "o1tZElccZmf6"
      },
      "source": [
        "### Initializing the DQN agent"
      ]
    },
    {
      "cell_type": "code",
      "source": [
        "agent = Agent(state_size, number_actions)"
      ],
      "metadata": {
        "id": "2NZscyyt-9OB"
      },
      "execution_count": 31,
      "outputs": []
    },
    {
      "cell_type": "markdown",
      "metadata": {
        "id": "E8v0PtUfaVQp"
      },
      "source": [
        "### Training the DQN agent"
      ]
    },
    {
      "cell_type": "code",
      "source": [
        "number_episodes = 2000\n",
        "maximum_number_timesteps_per_episode = 1000\n",
        "epsilon_starting_value = 1.0\n",
        "epsilon_ending_value = 0.01\n",
        "epsilon_decay_value = 0.995\n",
        "epsilon = epsilon_starting_value\n",
        "scores_on_100_episodes = deque(maxlen = 100)\n",
        "\n",
        "for episode in range(1, number_episodes + 1):\n",
        "  state, _ = env.reset()\n",
        "  score = 0\n",
        "  for t in range(maximum_number_timesteps_per_episode):\n",
        "    action = agent.act(state, epsilon)\n",
        "    next_state, reward, done, _, _ = env.step(action)\n",
        "    agent.step(state, action, reward, next_state, done)\n",
        "    state = next_state\n",
        "    score += reward\n",
        "    if done:\n",
        "      break\n",
        "  scores_on_100_episodes.append(score)\n",
        "  epsilon = max(epsilon_ending_value, epsilon_decay_value * epsilon)\n",
        "  print('\\rEpisode {}\\tAverage Score: {:.2f}'.format(episode, np.mean(scores_on_100_episodes)), end = \"\")\n",
        "  if episode % 100 == 0:\n",
        "    print('\\rEpisode {}\\tAverage Score: {:.2f}'.format(episode, np.mean(scores_on_100_episodes)))\n",
        "  if np.mean(scores_on_100_episodes) >= 200.0:\n",
        "    print('\\rEnvironment solved in {:d} episodes\\tAverage Score: {:.2f}'.format(episode - 100, np.mean(scores_on_100_episodes)))\n",
        "    torch.save(agent.local_qnetwork.state_dict(), 'checkpoint.pth')\n",
        "    break"
      ],
      "metadata": {
        "colab": {
          "base_uri": "https://localhost:8080/"
        },
        "id": "LOY3DF2CAsQj",
        "outputId": "2d5f59eb-e38d-4442-cd48-463a5e549a5c"
      },
      "execution_count": 32,
      "outputs": [
        {
          "output_type": "stream",
          "name": "stdout",
          "text": [
            "Episode 100\tAverage Score: -148.56\n",
            "Episode 200\tAverage Score: -99.01\n",
            "Episode 300\tAverage Score: -39.21\n",
            "Episode 400\tAverage Score: -21.99\n",
            "Episode 500\tAverage Score: -5.22\n",
            "Episode 600\tAverage Score: 117.22\n",
            "Episode 700\tAverage Score: 231.32\n",
            "Episode 800\tAverage Score: 242.76\n",
            "Episode 900\tAverage Score: 247.60\n",
            "Episode 1000\tAverage Score: 262.73\n",
            "Episode 1100\tAverage Score: 266.84\n",
            "Episode 1200\tAverage Score: 253.06\n",
            "Episode 1300\tAverage Score: 251.81\n",
            "Episode 1400\tAverage Score: 253.59\n",
            "Episode 1500\tAverage Score: 249.10\n",
            "Episode 1600\tAverage Score: 261.44\n",
            "Episode 1700\tAverage Score: 260.08\n",
            "Episode 1800\tAverage Score: 261.24\n",
            "Episode 1900\tAverage Score: 261.65\n",
            "Episode 2000\tAverage Score: 267.63\n"
          ]
        }
      ]
    },
    {
      "cell_type": "markdown",
      "metadata": {
        "id": "O8CNwdOTcCoP"
      },
      "source": [
        "## Part 3 - Visualizing the results"
      ]
    },
    {
      "cell_type": "code",
      "execution_count": 33,
      "metadata": {
        "id": "cb9nVvU2Okhk",
        "colab": {
          "base_uri": "https://localhost:8080/",
          "height": 459
        },
        "outputId": "dfe0d0db-052d-4c78-9051-e25a2b9e52f2"
      },
      "outputs": [
        {
          "output_type": "stream",
          "name": "stderr",
          "text": [
            "WARNING:imageio_ffmpeg:IMAGEIO FFMPEG_WRITER WARNING: input image is not divisible by macro_block_size=16, resizing from (600, 400) to (608, 400) to ensure video compatibility with most codecs and players. To prevent resizing, make your input image divisible by the macro_block_size or set the macro_block_size to 1 (risking incompatibility).\n"
          ]
        },
        {
          "output_type": "display_data",
          "data": {
            "text/plain": [
              "<IPython.core.display.HTML object>"
            ],
            "text/html": [
              "<video alt=\"test\" autoplay\n",
              "                loop controls style=\"height: 400px;\">\n",
              "                <source src=\"data:video/mp4;base64,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\" type=\"video/mp4\" />\n",
              "             </video>"
            ]
          },
          "metadata": {}
        }
      ],
      "source": [
        "import glob\n",
        "import io\n",
        "import base64\n",
        "import imageio\n",
        "from IPython.display import HTML, display\n",
        "from gym.wrappers.monitoring.video_recorder import VideoRecorder\n",
        "\n",
        "def show_video_of_model(agent, env_name):\n",
        "    env = gym.make(env_name, render_mode='rgb_array')\n",
        "    state, _ = env.reset()\n",
        "    done = False\n",
        "    frames = []\n",
        "    while not done:\n",
        "        frame = env.render()\n",
        "        frames.append(frame)\n",
        "        action = agent.act(state)\n",
        "        state, reward, done, _, _ = env.step(action.item())\n",
        "    env.close()\n",
        "    imageio.mimsave('video.mp4', frames, fps=30)\n",
        "\n",
        "show_video_of_model(agent, 'LunarLander-v2')\n",
        "\n",
        "def show_video():\n",
        "    mp4list = glob.glob('*.mp4')\n",
        "    if len(mp4list) > 0:\n",
        "        mp4 = mp4list[0]\n",
        "        video = io.open(mp4, 'r+b').read()\n",
        "        encoded = base64.b64encode(video)\n",
        "        display(HTML(data='''<video alt=\"test\" autoplay\n",
        "                loop controls style=\"height: 400px;\">\n",
        "                <source src=\"data:video/mp4;base64,{0}\" type=\"video/mp4\" />\n",
        "             </video>'''.format(encoded.decode('ascii'))))\n",
        "    else:\n",
        "        print(\"Could not find video\")\n",
        "\n",
        "show_video()"
      ]
    }
  ],
  "metadata": {
    "colab": {
      "provenance": [],
      "gpuType": "T4",
      "include_colab_link": true
    },
    "kernelspec": {
      "display_name": "Python 3",
      "name": "python3"
    },
    "language_info": {
      "name": "python"
    },
    "accelerator": "GPU"
  },
  "nbformat": 4,
  "nbformat_minor": 0
}