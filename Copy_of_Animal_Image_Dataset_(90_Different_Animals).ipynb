{
  "metadata": {
    "accelerator": "TPU",
    "colab": {
      "gpuType": "V28",
      "provenance": [],
      "include_colab_link": true
    },
    "kaggle": {
      "accelerator": "gpu",
      "dataSources": [
        {
          "sourceId": 3952946,
          "sourceType": "datasetVersion",
          "datasetId": 1554380
        }
      ],
      "dockerImageVersionId": 30699,
      "isInternetEnabled": true,
      "language": "python",
      "sourceType": "notebook",
      "isGpuEnabled": true
    },
    "kernelspec": {
      "name": "python3",
      "display_name": "Python 3",
      "language": "python"
    },
    "language_info": {
      "name": "python",
      "version": "3.10.13",
      "mimetype": "text/x-python",
      "codemirror_mode": {
        "name": "ipython",
        "version": 3
      },
      "pygments_lexer": "ipython3",
      "nbconvert_exporter": "python",
      "file_extension": ".py"
    }
  },
  "nbformat_minor": 0,
  "nbformat": 4,
  "cells": [
    {
      "cell_type": "markdown",
      "metadata": {
        "id": "view-in-github",
        "colab_type": "text"
      },
      "source": [
        "<a href=\"https://colab.research.google.com/github/felipecacique/Pytorch-Tutorial-Youtube/blob/main/Copy_of_Animal_Image_Dataset_(90_Different_Animals).ipynb\" target=\"_parent\"><img src=\"https://colab.research.google.com/assets/colab-badge.svg\" alt=\"Open In Colab\"/></a>"
      ]
    },
    {
      "source": [
        "\n",
        "# IMPORTANT: RUN THIS CELL IN ORDER TO IMPORT YOUR KAGGLE DATA SOURCES\n",
        "# TO THE CORRECT LOCATION (/kaggle/input) IN YOUR NOTEBOOK,\n",
        "# THEN FEEL FREE TO DELETE THIS CELL.\n",
        "# NOTE: THIS NOTEBOOK ENVIRONMENT DIFFERS FROM KAGGLE'S PYTHON\n",
        "# ENVIRONMENT SO THERE MAY BE MISSING LIBRARIES USED BY YOUR\n",
        "# NOTEBOOK.\n",
        "\n",
        "import os\n",
        "import sys\n",
        "from tempfile import NamedTemporaryFile\n",
        "from urllib.request import urlopen\n",
        "from urllib.parse import unquote, urlparse\n",
        "from urllib.error import HTTPError\n",
        "from zipfile import ZipFile\n",
        "import tarfile\n",
        "import shutil\n",
        "\n",
        "CHUNK_SIZE = 40960\n",
        "DATA_SOURCE_MAPPING = 'animal-image-dataset-90-different-animals:https%3A%2F%2Fstorage.googleapis.com%2Fkaggle-data-sets%2F1554380%2F3952946%2Fbundle%2Farchive.zip%3FX-Goog-Algorithm%3DGOOG4-RSA-SHA256%26X-Goog-Credential%3Dgcp-kaggle-com%2540kaggle-161607.iam.gserviceaccount.com%252F20240430%252Fauto%252Fstorage%252Fgoog4_request%26X-Goog-Date%3D20240430T220144Z%26X-Goog-Expires%3D259200%26X-Goog-SignedHeaders%3Dhost%26X-Goog-Signature%3D1c18538cfaf7f49648831da23772732d12f2eb637af47eff3aadf483bd520f3c693653d34acb2e2379f256fe8ecb6a65aba83fc6c1152fa01d90112bdba9cb4ba58b92615573f0a8814bc6c9605f1ad19795ca53e3c25b81b985e31f09d9f758f3b6f664691807fb0c9147d5f233acfdb321d93eff4480755594728717c7ee5b19815e2e829987c3b98f48f94ee1cbfaf15be4c92e464ac706523ba0122687b149983140fe7760c60cf3d319eb810d7cb631cdecfc0b77c36960170590cf072c52c85a37e6ff20d4f3f953ee3181dbbebc82422aa4a9f7e506c0f372939fc3786726176c88a0bd9e29350b5960ca6ec2e2aa8585b5df924227fd7bb421eb0e2a'\n",
        "\n",
        "KAGGLE_INPUT_PATH='/kaggle/input'\n",
        "KAGGLE_WORKING_PATH='/kaggle/working'\n",
        "KAGGLE_SYMLINK='kaggle'\n",
        "\n",
        "!umount /kaggle/input/ 2> /dev/null\n",
        "shutil.rmtree('/kaggle/input', ignore_errors=True)\n",
        "os.makedirs(KAGGLE_INPUT_PATH, 0o777, exist_ok=True)\n",
        "os.makedirs(KAGGLE_WORKING_PATH, 0o777, exist_ok=True)\n",
        "\n",
        "try:\n",
        "  os.symlink(KAGGLE_INPUT_PATH, os.path.join(\"..\", 'input'), target_is_directory=True)\n",
        "except FileExistsError:\n",
        "  pass\n",
        "try:\n",
        "  os.symlink(KAGGLE_WORKING_PATH, os.path.join(\"..\", 'working'), target_is_directory=True)\n",
        "except FileExistsError:\n",
        "  pass\n",
        "\n",
        "for data_source_mapping in DATA_SOURCE_MAPPING.split(','):\n",
        "    directory, download_url_encoded = data_source_mapping.split(':')\n",
        "    download_url = unquote(download_url_encoded)\n",
        "    filename = urlparse(download_url).path\n",
        "    destination_path = os.path.join(KAGGLE_INPUT_PATH, directory)\n",
        "    try:\n",
        "        with urlopen(download_url) as fileres, NamedTemporaryFile() as tfile:\n",
        "            total_length = fileres.headers['content-length']\n",
        "            print(f'Downloading {directory}, {total_length} bytes compressed')\n",
        "            dl = 0\n",
        "            data = fileres.read(CHUNK_SIZE)\n",
        "            while len(data) > 0:\n",
        "                dl += len(data)\n",
        "                tfile.write(data)\n",
        "                done = int(50 * dl / int(total_length))\n",
        "                sys.stdout.write(f\"\\r[{'=' * done}{' ' * (50-done)}] {dl} bytes downloaded\")\n",
        "                sys.stdout.flush()\n",
        "                data = fileres.read(CHUNK_SIZE)\n",
        "            if filename.endswith('.zip'):\n",
        "              with ZipFile(tfile) as zfile:\n",
        "                zfile.extractall(destination_path)\n",
        "            else:\n",
        "              with tarfile.open(tfile.name) as tarfile:\n",
        "                tarfile.extractall(destination_path)\n",
        "            print(f'\\nDownloaded and uncompressed: {directory}')\n",
        "    except HTTPError as e:\n",
        "        print(f'Failed to load (likely expired) {download_url} to path {destination_path}')\n",
        "        continue\n",
        "    except OSError as e:\n",
        "        print(f'Failed to load {download_url} to path {destination_path}')\n",
        "        continue\n",
        "\n",
        "print('Data source import complete.')\n"
      ],
      "metadata": {
        "id": "P_xovr85Bzdd"
      },
      "cell_type": "code",
      "outputs": [],
      "execution_count": null
    },
    {
      "cell_type": "code",
      "source": [
        "# This Python 3 environment comes with many helpful analytics libraries installed\n",
        "# It is defined by the kaggle/python Docker image: https://github.com/kaggle/docker-python\n",
        "# For example, here's several helpful packages to load\n",
        "\n",
        "import numpy as np # linear algebra\n",
        "import pandas as pd # data processing, CSV file I/O (e.g. pd.read_csv)\n",
        "\n",
        "# Input data files are available in the read-only \"../input/\" directory\n",
        "# For example, running this (by clicking run or pressing Shift+Enter) will list all files under the input directory\n",
        "\n",
        "import os\n",
        "for dirname, _, filenames in os.walk('/kaggle/input'):\n",
        "    for filename in filenames:\n",
        "        print(os.path.join(dirname, filename))\n",
        "\n",
        "# You can write up to 20GB to the current directory (/kaggle/working/) that gets preserved as output when you create a version using \"Save & Run All\"\n",
        "# You can also write temporary files to /kaggle/temp/, but they won't be saved outside of the current session"
      ],
      "metadata": {
        "id": "2tIZBSIts8s_",
        "execution": {
          "iopub.status.busy": "2024-04-30T18:04:52.614239Z",
          "iopub.execute_input": "2024-04-30T18:04:52.614566Z",
          "iopub.status.idle": "2024-04-30T18:04:52.742918Z",
          "shell.execute_reply.started": "2024-04-30T18:04:52.614538Z",
          "shell.execute_reply": "2024-04-30T18:04:52.741938Z"
        },
        "collapsed": true,
        "jupyter": {
          "outputs_hidden": true
        },
        "trusted": true
      },
      "execution_count": null,
      "outputs": []
    },
    {
      "cell_type": "code",
      "source": [
        "import numpy as np\n",
        "import pandas as pd\n",
        "import os\n",
        "import matplotlib.pyplot as plt\n",
        "from sklearn.preprocessing import LabelEncoder\n",
        "from sklearn.model_selection import train_test_split\n",
        "from PIL import Image\n",
        "from sklearn.metrics import classification_report, f1_score, confusion_matrix\n",
        "import random\n",
        "\n",
        "import torch\n",
        "import torch.nn as nn\n",
        "import torch.nn.functional as F\n",
        "from torch.utils.data import Dataset, DataLoader\n",
        "from torchvision import datasets, transforms\n",
        "from torchvision.utils import make_grid\n",
        "%matplotlib inline"
      ],
      "metadata": {
        "id": "ILBM_rsctq8N",
        "execution": {
          "iopub.status.busy": "2024-04-30T18:04:52.744433Z",
          "iopub.execute_input": "2024-04-30T18:04:52.744845Z",
          "iopub.status.idle": "2024-04-30T18:04:52.755915Z",
          "shell.execute_reply.started": "2024-04-30T18:04:52.7448Z",
          "shell.execute_reply": "2024-04-30T18:04:52.754794Z"
        },
        "trusted": true
      },
      "execution_count": null,
      "outputs": []
    },
    {
      "cell_type": "code",
      "source": [
        "# Set the device\n",
        "device = \"cuda\" if torch.cuda.is_available() else \"cpu\"\n",
        "\n",
        "# Set the device globally\n",
        "torch.set_default_device(device)"
      ],
      "metadata": {
        "id": "CEFPiw4zXhae",
        "execution": {
          "iopub.status.busy": "2024-04-30T18:04:52.757148Z",
          "iopub.execute_input": "2024-04-30T18:04:52.757506Z",
          "iopub.status.idle": "2024-04-30T18:04:52.769468Z",
          "shell.execute_reply.started": "2024-04-30T18:04:52.757474Z",
          "shell.execute_reply": "2024-04-30T18:04:52.768415Z"
        },
        "trusted": true
      },
      "execution_count": null,
      "outputs": []
    },
    {
      "cell_type": "markdown",
      "source": [
        "### Loading Dataset"
      ],
      "metadata": {
        "id": "LW2scd3WuYri"
      }
    },
    {
      "cell_type": "code",
      "source": [
        "# Loading Dataset\n",
        "path = \"/kaggle/input/animal-image-dataset-90-different-animals/animals/animals\"\n",
        "\n",
        "data = {\"imgpath\": [], \"labels\": []}\n",
        "\n",
        "category = os.listdir(path)\n",
        "for folder in category:\n",
        "  folderpath = os.path.join(path, folder)\n",
        "  filelist = os.listdir(folderpath)\n",
        "  for file in filelist:\n",
        "    fpath = os.path.join(folderpath, file)\n",
        "    data[\"imgpath\"].append(fpath)\n",
        "    data[\"labels\"].append(folder)\n",
        "\n",
        "df = pd.DataFrame(data)\n"
      ],
      "metadata": {
        "id": "AJkKKORbuXoF",
        "execution": {
          "iopub.status.busy": "2024-04-30T18:04:52.770868Z",
          "iopub.execute_input": "2024-04-30T18:04:52.77128Z",
          "iopub.status.idle": "2024-04-30T18:04:52.851627Z",
          "shell.execute_reply.started": "2024-04-30T18:04:52.771228Z",
          "shell.execute_reply": "2024-04-30T18:04:52.850683Z"
        },
        "trusted": true
      },
      "execution_count": null,
      "outputs": []
    },
    {
      "cell_type": "code",
      "source": [
        "# from sklearn.utils import shuffle\n",
        "# df = shuffle(df)\n",
        "# df = df[:300]\n",
        "# df"
      ],
      "metadata": {
        "id": "PtSxy4CxZlWr",
        "execution": {
          "iopub.status.busy": "2024-04-30T18:04:52.852807Z",
          "iopub.execute_input": "2024-04-30T18:04:52.853076Z",
          "iopub.status.idle": "2024-04-30T18:04:52.857625Z",
          "shell.execute_reply.started": "2024-04-30T18:04:52.853052Z",
          "shell.execute_reply": "2024-04-30T18:04:52.856415Z"
        },
        "trusted": true
      },
      "execution_count": null,
      "outputs": []
    },
    {
      "cell_type": "code",
      "source": [
        "# Convert labels to numbers\n",
        "lb = LabelEncoder()\n",
        "df[\"encoded_labels\"] = lb.fit_transform(df['labels'])\n",
        "num_classes = len(df[\"encoded_labels\"].unique())\n",
        "num_classes\n",
        "\n",
        "# # decode\n",
        "# df[\"decoded_labels\"] = lb.inverse_transform(df['encoded_labels'])\n",
        "# df"
      ],
      "metadata": {
        "id": "bbQw3R1Uwe5F",
        "execution": {
          "iopub.status.busy": "2024-04-30T18:04:52.85896Z",
          "iopub.execute_input": "2024-04-30T18:04:52.85986Z",
          "iopub.status.idle": "2024-04-30T18:04:52.872861Z",
          "shell.execute_reply.started": "2024-04-30T18:04:52.859831Z",
          "shell.execute_reply": "2024-04-30T18:04:52.871932Z"
        },
        "trusted": true
      },
      "execution_count": null,
      "outputs": []
    },
    {
      "cell_type": "markdown",
      "source": [
        "### Show sample from data\n"
      ],
      "metadata": {
        "id": "WgZUpW5ixP0Z"
      }
    },
    {
      "cell_type": "code",
      "source": [
        "plt.figure(figsize=(15,12))\n",
        "for i, row in df.sample(n=16).reset_index().iterrows():\n",
        "  plt.subplot(4, 4, i+1)\n",
        "  image_path = row[\"imgpath\"]\n",
        "  image = Image.open(image_path)\n",
        "  plt.imshow(image)\n",
        "  plt.title(row[\"labels\"])\n",
        "  plt.axis(\"off\")\n",
        "plt.show()"
      ],
      "metadata": {
        "id": "GScnp2NrubY0",
        "execution": {
          "iopub.status.busy": "2024-04-30T18:04:52.87383Z",
          "iopub.execute_input": "2024-04-30T18:04:52.874093Z",
          "iopub.status.idle": "2024-04-30T18:04:55.424953Z",
          "shell.execute_reply.started": "2024-04-30T18:04:52.87407Z",
          "shell.execute_reply": "2024-04-30T18:04:55.423835Z"
        },
        "trusted": true
      },
      "execution_count": null,
      "outputs": []
    },
    {
      "cell_type": "markdown",
      "source": [
        "### Split the dataset into train and test"
      ],
      "metadata": {
        "id": "1__W0bMg_slh"
      }
    },
    {
      "cell_type": "code",
      "source": [
        "# Split into train, valid and test\n",
        "train_df, temp_df = train_test_split(df, train_size=0.70, shuffle=True, random_state=42)\n",
        "valid_df, test_df = train_test_split(temp_df, train_size=0.70, shuffle=True, random_state=42)\n",
        "train_df = train_df.reset_index(drop=True)\n",
        "valid_df = valid_df.reset_index(drop=True)\n",
        "test_df = test_df.reset_index(drop=True)\n",
        "train_df"
      ],
      "metadata": {
        "id": "cqUzuUof_vWH",
        "execution": {
          "iopub.status.busy": "2024-04-30T18:04:55.426454Z",
          "iopub.execute_input": "2024-04-30T18:04:55.426825Z",
          "iopub.status.idle": "2024-04-30T18:04:55.450282Z",
          "shell.execute_reply.started": "2024-04-30T18:04:55.426793Z",
          "shell.execute_reply": "2024-04-30T18:04:55.449305Z"
        },
        "trusted": true
      },
      "execution_count": null,
      "outputs": []
    },
    {
      "cell_type": "markdown",
      "source": [
        "### Image augmentation\n"
      ],
      "metadata": {
        "id": "HIGAuPKjEZTZ"
      }
    },
    {
      "cell_type": "code",
      "source": [
        "# Define data augmentation transformations\n",
        "augmentation_transform = transforms.Compose([\n",
        "    transforms.Resize((224, 224)),\n",
        "    transforms.RandomResizedCrop(224, scale=(0.8, 1.0)),\n",
        "    transforms.RandomHorizontalFlip(),\n",
        "    transforms.RandomVerticalFlip(),\n",
        "    transforms.ColorJitter(brightness=0.2, contrast=0.2, saturation=0.2, hue=0.2),\n",
        "    transforms.RandomRotation(20),\n",
        "    transforms.RandomAffine(0, shear=10, scale=(0.8, 1.2)),\n",
        "    transforms.RandomPerspective(distortion_scale=0.2, p=0.5, interpolation=3),\n",
        "    transforms.ToTensor(),\n",
        "])\n",
        "\n",
        "# augmentation_transform = transforms.Compose([\n",
        "#     transforms.Resize((224, 224)),\n",
        "#     transforms.RandomHorizontalFlip(),\n",
        "#     transforms.RandomVerticalFlip(),\n",
        "#     transforms.RandomRotation(15),\n",
        "#     transforms.ColorJitter(brightness=0.15, contrast=0.15, saturation=0.15, hue=0.15),\n",
        "#     transforms.RandomResizedCrop(224, scale=(0.8, 1.0)),\n",
        "#     transforms.ToTensor(),\n",
        "# ])\n",
        "\n",
        "\n",
        "data_transform = transforms.Compose([\n",
        "    transforms.Resize((224, 224)),\n",
        "    transforms.ToTensor(),\n",
        "])"
      ],
      "metadata": {
        "id": "05bIJNojDkas",
        "execution": {
          "iopub.status.busy": "2024-04-30T18:04:55.452036Z",
          "iopub.execute_input": "2024-04-30T18:04:55.452899Z",
          "iopub.status.idle": "2024-04-30T18:04:55.46521Z",
          "shell.execute_reply.started": "2024-04-30T18:04:55.452854Z",
          "shell.execute_reply": "2024-04-30T18:04:55.464152Z"
        },
        "trusted": true
      },
      "execution_count": null,
      "outputs": []
    },
    {
      "cell_type": "markdown",
      "source": [
        "### Create the data loaders"
      ],
      "metadata": {
        "id": "iKd6xvvAKXoW"
      }
    },
    {
      "cell_type": "code",
      "source": [
        "# Define the dataset class - encapsulate in a class allows for memory data efficiency during training\n",
        "class AnimalDataset(Dataset):\n",
        "  def __init__(self, df, transform=None):\n",
        "    self.df = df\n",
        "    self.transform = transform\n",
        "\n",
        "  def __len__(self):\n",
        "    return len(self.df)\n",
        "\n",
        "  def __getitem__(self, idx):\n",
        "    img_path = self.df.iloc[idx]['imgpath']\n",
        "    label = self.df.iloc[idx]['encoded_labels']\n",
        "    img = Image.open(img_path)\n",
        "    if self.transform:\n",
        "      img = self.transform(img)\n",
        "    label = torch.tensor(label)\n",
        "\n",
        "    # # Plot the image\n",
        "    # plt.figure(figsize=(4, 4))\n",
        "    # plt.imshow(img.permute(1, 2, 0))  # Assuming images are in format (C, H, W)\n",
        "    # plt.title(f\"Label: {label.item()}\")\n",
        "    # plt.axis('off')\n",
        "    # plt.show()\n",
        "\n",
        "    return img, label\n",
        "\n",
        "#     def shuffle(self):\n",
        "#             random.shuffle(self.indices)"
      ],
      "metadata": {
        "id": "NS8JqWtrPi8F",
        "execution": {
          "iopub.status.busy": "2024-04-30T18:04:55.466651Z",
          "iopub.execute_input": "2024-04-30T18:04:55.467002Z",
          "iopub.status.idle": "2024-04-30T18:04:55.481536Z",
          "shell.execute_reply.started": "2024-04-30T18:04:55.466971Z",
          "shell.execute_reply": "2024-04-30T18:04:55.480425Z"
        },
        "trusted": true
      },
      "execution_count": null,
      "outputs": []
    },
    {
      "cell_type": "code",
      "source": [
        "# Create custom datasets with data augmentation\n",
        "train_dataset = AnimalDataset(train_df, transform = augmentation_transform)\n",
        "valid_dataset = AnimalDataset(valid_df, transform = data_transform)\n",
        "test_dataset = AnimalDataset(test_df, transform = data_transform)"
      ],
      "metadata": {
        "id": "TqqJ40w_KaMI",
        "execution": {
          "iopub.status.busy": "2024-04-30T18:04:55.482913Z",
          "iopub.execute_input": "2024-04-30T18:04:55.483253Z",
          "iopub.status.idle": "2024-04-30T18:04:55.492161Z",
          "shell.execute_reply.started": "2024-04-30T18:04:55.483225Z",
          "shell.execute_reply": "2024-04-30T18:04:55.491092Z"
        },
        "trusted": true
      },
      "execution_count": null,
      "outputs": []
    },
    {
      "cell_type": "code",
      "source": [
        "# Create DataLoader instances for training and test\n",
        "batch_size = 32\n",
        "train_loader = DataLoader(train_dataset, batch_size=batch_size, shuffle=False)\n",
        "valid_loader = DataLoader(valid_dataset, batch_size=batch_size, shuffle=False)\n",
        "test_loader = DataLoader(test_dataset, batch_size=batch_size, shuffle=False)"
      ],
      "metadata": {
        "id": "CWbIOPVsLC3r",
        "execution": {
          "iopub.status.busy": "2024-04-30T18:04:55.49358Z",
          "iopub.execute_input": "2024-04-30T18:04:55.493909Z",
          "iopub.status.idle": "2024-04-30T18:04:55.507158Z",
          "shell.execute_reply.started": "2024-04-30T18:04:55.493874Z",
          "shell.execute_reply": "2024-04-30T18:04:55.506334Z"
        },
        "trusted": true
      },
      "execution_count": null,
      "outputs": []
    },
    {
      "cell_type": "markdown",
      "source": [
        "### Model Structure"
      ],
      "metadata": {
        "id": "G2giF8ZRSbVo"
      }
    },
    {
      "cell_type": "code",
      "source": [
        "# Model Class\n",
        "class ConvolutionalNetwork(nn.Module):\n",
        "  def __init__(self):\n",
        "    super().__init__()\n",
        "    self.conv1 = nn.Conv2d(3, 64, kernel_size=3, padding=1)\n",
        "    self.conv2 = nn.Conv2d(64, 128, kernel_size=3, padding=1)\n",
        "    self.conv3 = nn.Conv2d(128, 256, kernel_size=3, padding=1)\n",
        "    # Fully connected layer\n",
        "    self.fc1 = nn.Linear(256 * 28 * 28, 512)\n",
        "    self.fc2 = nn.Linear(512, 256)\n",
        "    self.fc3 = nn.Linear(256, num_classes)\n",
        "\n",
        "  def forward(self, X):\n",
        "    X = F.relu(self.conv1(X))\n",
        "    X = F.max_pool2d(X,2,2) # 2x2 kernel and stride 2\n",
        "    # Second Pass\n",
        "    X = F.relu(self.conv2(X))\n",
        "    X = F.max_pool2d(X,2,2) # 2x2 kernel and stride 2\n",
        "    # Third Pass\n",
        "    X = F.relu(self.conv3(X))\n",
        "    X = F.max_pool2d(X,2,2) # 2x2 kernel and stride 2\n",
        "\n",
        "    # Re-View to flatten it out\n",
        "    X = X.view(-1, 256 * 28 * 28)\n",
        "\n",
        "    # Fully connected layers\n",
        "    X = F.relu(self.fc1(X))\n",
        "    X = F.relu(self.fc2(X))\n",
        "    X = self.fc3(X)\n",
        "    return F.log_softmax(X, dim=1)\n"
      ],
      "metadata": {
        "id": "klx4awfbSKMH",
        "execution": {
          "iopub.status.busy": "2024-04-30T18:04:55.508447Z",
          "iopub.execute_input": "2024-04-30T18:04:55.508771Z",
          "iopub.status.idle": "2024-04-30T18:04:55.520228Z",
          "shell.execute_reply.started": "2024-04-30T18:04:55.508744Z",
          "shell.execute_reply": "2024-04-30T18:04:55.519127Z"
        },
        "trusted": true
      },
      "execution_count": null,
      "outputs": []
    },
    {
      "cell_type": "code",
      "source": [
        "import torch\n",
        "import torch.nn as nn\n",
        "import torch.nn.functional as F\n",
        "from torchvision import models, transforms\n",
        "\n",
        "class ConvolutionalNetwork(nn.Module):\n",
        "    def __init__(self):\n",
        "        super(ConvolutionalNetwork, self).__init__()\n",
        "        # Load the pretrained model\n",
        "        self.pretrained_model = models.efficientnet_b3(weights=models.EfficientNet_B3_Weights.IMAGENET1K_V1)\n",
        "        # Freezing the layers of the pretrained model\n",
        "        for param in self.pretrained_model.parameters():\n",
        "            param.requires_grad = False\n",
        "        # Modify the final layers\n",
        "        self.pretrained_model._fc = nn.Identity()  # Remove the final fully connected layer\n",
        "\n",
        "        # # Data Augmentation Layers\n",
        "        # self.augment = nn.Sequential(\n",
        "        #     transforms.RandomHorizontalFlip(),\n",
        "        #     transforms.RandomVerticalFlip(),\n",
        "        #     transforms.RandomRotation(15),\n",
        "        #     transforms.ColorJitter(brightness=0.15, contrast=0.15, saturation=0.15, hue=0.15),\n",
        "        #     transforms.RandomResizedCrop(224, scale=(0.8, 1.0))\n",
        "        # )\n",
        "\n",
        "        # New classifier layers\n",
        "        self.fc1 = nn.Linear(1000, 256)  # Adjusted input size to match the output size of the backbone\n",
        "        self.relu = nn.ReLU()\n",
        "        self.batch_norm = nn.BatchNorm1d(256)  # Adjusted batch norm size\n",
        "        self.dropout = nn.Dropout(0.45)\n",
        "        self.fc2 = nn.Linear(256, num_classes)  # Adjusted output size to match the number of classes\n",
        "\n",
        "    def forward(self, x):\n",
        "        # x = self.augment(x)\n",
        "        x = self.pretrained_model(x)\n",
        "        x = self.fc1(x)\n",
        "        x = self.relu(x)\n",
        "        x = self.batch_norm(x)\n",
        "        x = self.dropout(x)\n",
        "        x = self.fc2(x)\n",
        "        return x"
      ],
      "metadata": {
        "id": "JBlpfyPbiYPN",
        "execution": {
          "iopub.status.busy": "2024-04-30T18:04:55.528657Z",
          "iopub.execute_input": "2024-04-30T18:04:55.528968Z",
          "iopub.status.idle": "2024-04-30T18:04:55.540202Z",
          "shell.execute_reply.started": "2024-04-30T18:04:55.52893Z",
          "shell.execute_reply": "2024-04-30T18:04:55.538959Z"
        },
        "trusted": true
      },
      "execution_count": null,
      "outputs": []
    },
    {
      "cell_type": "code",
      "source": [
        "# Create an instance of our model\n",
        "torch.manual_seed(42)\n",
        "model = ConvolutionalNetwork().to(device)\n",
        "# model"
      ],
      "metadata": {
        "id": "Gq1WRY-6SdwM",
        "execution": {
          "iopub.status.busy": "2024-04-30T18:04:55.541623Z",
          "iopub.execute_input": "2024-04-30T18:04:55.541927Z",
          "iopub.status.idle": "2024-04-30T18:04:55.791654Z",
          "shell.execute_reply.started": "2024-04-30T18:04:55.5419Z",
          "shell.execute_reply": "2024-04-30T18:04:55.790694Z"
        },
        "trusted": true
      },
      "execution_count": null,
      "outputs": []
    },
    {
      "cell_type": "markdown",
      "source": [
        "### Training the model"
      ],
      "metadata": {
        "id": "-lsrmagjWolZ"
      }
    },
    {
      "cell_type": "code",
      "source": [
        "# Loss function optimizer\n",
        "criterion = nn.CrossEntropyLoss()\n",
        "optimizer = torch.optim.Adam(model.parameters(), lr=0.001)"
      ],
      "metadata": {
        "id": "ka9GAyGpWiDc",
        "execution": {
          "iopub.status.busy": "2024-04-30T18:04:55.793008Z",
          "iopub.execute_input": "2024-04-30T18:04:55.793351Z",
          "iopub.status.idle": "2024-04-30T18:04:55.803761Z",
          "shell.execute_reply.started": "2024-04-30T18:04:55.793318Z",
          "shell.execute_reply": "2024-04-30T18:04:55.802645Z"
        },
        "trusted": true
      },
      "execution_count": null,
      "outputs": []
    },
    {
      "cell_type": "code",
      "source": [
        "import time\n",
        "start_time = time.time()\n",
        "\n",
        "# Create Variable to track things\n",
        "epochs = 5\n",
        "train_losses = []\n",
        "valid_losses = []\n",
        "test_losses = []\n",
        "train_correct = []\n",
        "valid_correct = []\n",
        "test_correct = []\n",
        "\n",
        "# For Loop Epochs\n",
        "for i in range(epochs):\n",
        "  trn_corr = 0\n",
        "  vld_corr = 0\n",
        "  tst_corr = 0\n",
        "\n",
        "  # Train\n",
        "  for b, (X_train, y_train) in enumerate(train_loader):\n",
        "    b += 1 # start out batches at 1\n",
        "    X_train, y_train = X_train.to(device), y_train.to(device)\n",
        "    y_pred = model.forward(X_train)\n",
        "    loss = criterion(y_pred, y_train)\n",
        "\n",
        "    predicted = torch.max(y_pred.data, 1)[1]\n",
        "    batch_corr = (predicted == y_train).sum()\n",
        "    trn_corr += batch_corr\n",
        "\n",
        "    # Update our parameters\n",
        "    optimizer.zero_grad()\n",
        "    loss.backward()\n",
        "    optimizer.step()\n",
        "\n",
        "    train_losses.append(loss)\n",
        "    # train_correct.append(trn_corr)\n",
        "    train_correct.append(batch_corr/batch_size)\n",
        "\n",
        "\n",
        "    # Test/Validation\n",
        "    with torch.no_grad():\n",
        "      for b_valid, (X_valid, y_valid) in enumerate(valid_loader):\n",
        "        X_valid, y_valid = X_valid.to(device), y_valid.to(device)\n",
        "        y_val = model.forward(X_valid)\n",
        "        predicted = torch.max(y_val.data, 1)[1]\n",
        "        # vld_corr += (predicted == y_valid).sum()\n",
        "        vld_corr = (predicted == y_valid).sum()\n",
        "        break\n",
        "\n",
        "      loss_valid = criterion(y_val, y_valid)\n",
        "      valid_losses.append(loss_valid)\n",
        "      valid_correct.append(vld_corr/batch_size)\n",
        "\n",
        "    # Print out some results\n",
        "    if b%10==0:\n",
        "      print(f'Epoch: {i} Batch: {b} Loss: {loss.item()} Corr: {batch_corr/batch_size} | LossValid: {loss_valid.item()} CorrValid: {vld_corr/batch_size}')\n",
        "\n",
        "print(f'Trainig took: {(time.time() - start_time)/60} minutes')"
      ],
      "metadata": {
        "id": "E68uQPKmWqeL",
        "execution": {
          "iopub.status.busy": "2024-04-30T18:04:55.805029Z",
          "iopub.execute_input": "2024-04-30T18:04:55.805358Z",
          "iopub.status.idle": "2024-04-30T18:19:23.384953Z",
          "shell.execute_reply.started": "2024-04-30T18:04:55.805321Z",
          "shell.execute_reply": "2024-04-30T18:19:23.383864Z"
        },
        "trusted": true
      },
      "execution_count": null,
      "outputs": []
    },
    {
      "cell_type": "code",
      "source": [
        "# Graph the loss at epoch\n",
        "train_losses = [tl.item() for tl in train_losses]\n",
        "valid_losses = [vl.item() for vl in valid_losses]  # Move to CPU\n",
        "plt.plot(train_losses, label=\"Training loss\")\n",
        "plt.plot(valid_losses, label=\"Validation loss\")\n",
        "plt.title(\"Loss at Epoch\")\n",
        "plt.legend()"
      ],
      "metadata": {
        "id": "_FnXFBPHsRL7",
        "execution": {
          "iopub.status.busy": "2024-04-30T18:19:23.386531Z",
          "iopub.execute_input": "2024-04-30T18:19:23.387236Z",
          "iopub.status.idle": "2024-04-30T18:19:23.821122Z",
          "shell.execute_reply.started": "2024-04-30T18:19:23.387195Z",
          "shell.execute_reply": "2024-04-30T18:19:23.820056Z"
        },
        "trusted": true
      },
      "execution_count": null,
      "outputs": []
    },
    {
      "cell_type": "code",
      "source": [
        "# graph the accuracy at the end of each epoch\n",
        "train_correct = [tl.item() for tl in train_correct]\n",
        "valid_correct = [vl.item() for vl in valid_correct]  # Move to CPU\n",
        "plt.plot(train_correct, label=\"Training Accuracy\")\n",
        "plt.plot(valid_correct, label=\"Validation Accuracy\")\n",
        "plt.title(\"Accuracy at the end of each Epoch\")\n",
        "plt.legend()\n"
      ],
      "metadata": {
        "id": "7ST0Ip7FZtlE",
        "execution": {
          "iopub.status.busy": "2024-04-30T18:19:23.822627Z",
          "iopub.execute_input": "2024-04-30T18:19:23.823023Z",
          "iopub.status.idle": "2024-04-30T18:19:24.20623Z",
          "shell.execute_reply.started": "2024-04-30T18:19:23.822987Z",
          "shell.execute_reply": "2024-04-30T18:19:24.205225Z"
        },
        "trusted": true
      },
      "execution_count": null,
      "outputs": []
    },
    {
      "cell_type": "code",
      "source": [
        "# Graph the loss at epoch\n",
        "fig, axs = plt.subplots(1, 2, figsize=(15, 5))\n",
        "\n",
        "# Plot Loss\n",
        "axs[0].plot(train_losses, label=\"Training loss\")\n",
        "axs[0].plot(valid_losses, label=\"Validation loss\")\n",
        "axs[0].set_title(\"Loss at Epoch\")\n",
        "axs[0].legend()\n",
        "\n",
        "# Plot Accuracy\n",
        "axs[1].plot(train_correct, label=\"Training Accuracy\")\n",
        "axs[1].plot(valid_correct, label=\"Validation Accuracy\")\n",
        "axs[1].set_title(\"Accuracy at the end of each Epoch\")\n",
        "axs[1].legend()\n",
        "\n",
        "plt.tight_layout()\n",
        "plt.show()"
      ],
      "metadata": {
        "id": "QnzLyvlcx7Hh",
        "execution": {
          "iopub.status.busy": "2024-04-30T18:19:24.208185Z",
          "iopub.execute_input": "2024-04-30T18:19:24.208582Z",
          "iopub.status.idle": "2024-04-30T18:19:24.995561Z",
          "shell.execute_reply.started": "2024-04-30T18:19:24.208545Z",
          "shell.execute_reply": "2024-04-30T18:19:24.994466Z"
        },
        "trusted": true
      },
      "execution_count": null,
      "outputs": []
    },
    {
      "cell_type": "markdown",
      "source": [
        "### Model Evaluate"
      ],
      "metadata": {
        "id": "dQx2P8ZsBYhh"
      }
    },
    {
      "cell_type": "code",
      "source": [
        "valid_predictions = []\n",
        "correct = 0\n",
        "# test_load_all =  DataLoader(valid_dataset, batch_size=100000, shuffle=False)\n",
        "with torch.no_grad():\n",
        "  for X_test, y_test in valid_loader:\n",
        "    X_test, y_test = X_test.to(device), y_test.to(device)\n",
        "    y_val = model.forward(X_test)\n",
        "    predicted = torch.max(y_val, 1)[1]\n",
        "    correct += (predicted == y_test).sum()\n",
        "    valid_predictions.append(predicted)\n",
        "\n",
        "# Correct\n",
        "test_acc = correct.item() / len(valid_dataset)\n",
        "print(f\"Test accuracy: {test_acc}\")"
      ],
      "metadata": {
        "id": "_GQ3P-s6BZ4r",
        "execution": {
          "iopub.status.busy": "2024-04-30T18:19:24.996997Z",
          "iopub.execute_input": "2024-04-30T18:19:24.997719Z",
          "iopub.status.idle": "2024-04-30T18:19:41.179741Z",
          "shell.execute_reply.started": "2024-04-30T18:19:24.997687Z",
          "shell.execute_reply": "2024-04-30T18:19:41.178594Z"
        },
        "trusted": true
      },
      "execution_count": null,
      "outputs": []
    },
    {
      "cell_type": "markdown",
      "source": [
        "Get Predictions"
      ],
      "metadata": {
        "id": "luLYnEiTV6wp"
      }
    },
    {
      "cell_type": "code",
      "source": [
        "# Concatenate the tensors\n",
        "valid_predictions = torch.cat(valid_predictions, dim=0)\n",
        "print(len(valid_df), len(valid_predictions))"
      ],
      "metadata": {
        "id": "U7X3ZtHZbHsx",
        "execution": {
          "iopub.status.busy": "2024-04-30T18:19:41.181017Z",
          "iopub.execute_input": "2024-04-30T18:19:41.181323Z",
          "iopub.status.idle": "2024-04-30T18:19:41.188008Z",
          "shell.execute_reply.started": "2024-04-30T18:19:41.181296Z",
          "shell.execute_reply": "2024-04-30T18:19:41.186853Z"
        },
        "trusted": true
      },
      "execution_count": null,
      "outputs": []
    },
    {
      "cell_type": "code",
      "source": [
        "predictions = valid_df\n",
        "predictions['prediction'] = valid_predictions.to('cpu')\n",
        "predictions['prediction_labels'] = lb.inverse_transform(predictions['prediction'])\n",
        "predictions"
      ],
      "metadata": {
        "id": "6QuUQ5UTJdua",
        "execution": {
          "iopub.status.busy": "2024-04-30T18:19:41.189334Z",
          "iopub.execute_input": "2024-04-30T18:19:41.189659Z",
          "iopub.status.idle": "2024-04-30T18:19:41.211186Z",
          "shell.execute_reply.started": "2024-04-30T18:19:41.189632Z",
          "shell.execute_reply": "2024-04-30T18:19:41.210149Z"
        },
        "trusted": true
      },
      "execution_count": null,
      "outputs": []
    },
    {
      "cell_type": "code",
      "source": [
        "# Plot some predictions\n",
        "plt.figure(figsize=(15,12))\n",
        "for i, row in predictions.head(20).reset_index().iterrows():\n",
        "  plt.subplot(5,4,i+1)\n",
        "  image = Image.open(row['imgpath'])\n",
        "  plt.imshow(image)\n",
        "  plt.title(f'label: {row[\"labels\"]} | pred: {row[\"prediction_labels\"]}', fontsize=8)\n",
        "  plt.axis(\"off\")\n",
        "plt.show()\n"
      ],
      "metadata": {
        "id": "44BRi4vEbAh_",
        "execution": {
          "iopub.status.busy": "2024-04-30T18:19:41.21257Z",
          "iopub.execute_input": "2024-04-30T18:19:41.212949Z",
          "iopub.status.idle": "2024-04-30T18:19:45.536378Z",
          "shell.execute_reply.started": "2024-04-30T18:19:41.212909Z",
          "shell.execute_reply": "2024-04-30T18:19:45.535326Z"
        },
        "trusted": true
      },
      "execution_count": null,
      "outputs": []
    },
    {
      "cell_type": "code",
      "source": [],
      "metadata": {
        "id": "FfzU_h-Wdysn"
      },
      "execution_count": null,
      "outputs": []
    }
  ]
}