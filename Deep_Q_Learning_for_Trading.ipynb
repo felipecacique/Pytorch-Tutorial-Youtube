{
  "cells": [
    {
      "cell_type": "markdown",
      "metadata": {
        "id": "view-in-github",
        "colab_type": "text"
      },
      "source": [
        "<a href=\"https://colab.research.google.com/github/felipecacique/Pytorch-Tutorial-Youtube/blob/main/Deep_Q_Learning_for_Trading.ipynb\" target=\"_parent\"><img src=\"https://colab.research.google.com/assets/colab-badge.svg\" alt=\"Open In Colab\"/></a>"
      ]
    },
    {
      "cell_type": "markdown",
      "metadata": {
        "id": "LbZcI9ZXHl3a"
      },
      "source": [
        "# Deep Q-Learning for Trading\n"
      ]
    },
    {
      "cell_type": "markdown",
      "source": [],
      "metadata": {
        "id": "0e-IC-iFSayL"
      }
    },
    {
      "cell_type": "markdown",
      "metadata": {
        "id": "E8yPRjteXgPb"
      },
      "source": [
        "## Part 0 - Installing the required packages and importing the libraries"
      ]
    },
    {
      "cell_type": "markdown",
      "metadata": {
        "id": "slEm5teGWjWU"
      },
      "source": [
        "### Installing TALib"
      ]
    },
    {
      "cell_type": "code",
      "source": [
        "# !wget http://prdownloads.sourceforge.net/ta-lib/ta-lib-0.4.0-src.tar.gz\n",
        "# !tar xvzf ta-lib-0.4.0-src.tar.gz\n",
        "# import os\n",
        "# os.chdir('ta-lib') # Can't use !cd in co-lab\n",
        "# !./configure --prefix=/usr\n",
        "# !make\n",
        "# !make install\n",
        "# os.chdir('../')\n",
        "# !pip install TA-Lib"
      ],
      "metadata": {
        "id": "XxG_YqQLLuUB"
      },
      "execution_count": null,
      "outputs": []
    },
    {
      "cell_type": "markdown",
      "source": [
        "### Create the trading environment class"
      ],
      "metadata": {
        "id": "M0PxtAxhSKWP"
      }
    },
    {
      "cell_type": "code",
      "source": [
        "import numpy as np\n",
        "import pandas as pd\n",
        "import talib as ta"
      ],
      "metadata": {
        "id": "MbvOxcVL1_EO"
      },
      "execution_count": null,
      "outputs": []
    },
    {
      "cell_type": "code",
      "source": [
        "class TradingEnvironment():\n",
        "  def __init__(self):\n",
        "    self.env = None\n",
        "    self.observation_space = {'shape':[4,]} #env.observation_space.shape[0]\n",
        "    self.action_space = {'n':4}\n",
        "    self.Df = None\n",
        "    self.i = 0\n",
        "    self.position = 0\n",
        "    self.split = 0\n",
        "    self.train = True\n",
        "    self.profit = 0\n",
        "    self.discounted_reward = True\n",
        "\n",
        "  def make(self, env, train=True, discounted_reward=True):\n",
        "    self.discounted_reward = discounted_reward\n",
        "    self.train = train\n",
        "    self.env = env\n",
        "    filename = \"./BTCUSD_Daily.csv\"\n",
        "    # filename = \"./WIN$N_M15.csv\"\n",
        "    # Read the CSV file\n",
        "    self.Df = pd.read_csv(filename, delimiter=\",\",decimal=\".\",dtype = {'Open': np.double, 'High': np.double, 'Low': np.double, 'Close': np.double}).dropna()\n",
        "    # Convert the 'Time' column into pandas datetime format\n",
        "    # self.Df['Time'] = pd.to_datetime(self.Df['Time'],dayfirst=True)\n",
        "    # print(self.Df)\n",
        "\n",
        "\n",
        "    # # Assuming 'Time' column is already a datetime format, if not, convert it\n",
        "    # self.Df['Time'] = pd.to_datetime(self.Df['Time'])\n",
        "    # # Set the 'Time' column as the index\n",
        "    # self.Df.set_index('Time', inplace=True)\n",
        "    # # Resample the DataFrame to a weekly frequency\n",
        "    # weekly_df = self.Df.resample('W').agg({'Open': 'first', 'High': 'max', 'Low': 'min', 'Close': 'last', 'Volume': 'sum'})\n",
        "    # # Reset the index to have 'Time' as a regular column\n",
        "    # weekly_df.reset_index(inplace=True)\n",
        "    # self.Df = weekly_df\n",
        "    # # print(self.Df)\n",
        "\n",
        "\n",
        "\n",
        "    # Calculate features\n",
        "    self.Df['OC'] = self.Df['Open'] / self.Df['Close'].shift(1)\n",
        "    self.Df['OC7'] = self.Df['Open'] / self.Df['Close'].shift(7)\n",
        "    self.Df['OC21'] = self.Df['Open'] / self.Df['Close'].shift(21)\n",
        "    # # Create a column by name, ADX and assign the ADX calculation to it\n",
        "    # self.Df['ADX'] = ta.ADX(np.array(self.Df['High'].shift(1)), np.array(self.Df['Low'].shift(1)),\n",
        "    #                   np.array(self.Df['Open']), timeperiod=10) / 100\n",
        "\n",
        "    # # # Create a column by name, RSI and assign the calculation of RSI to it\n",
        "    # self.Df['RSI'] = ta.RSI(np.array(self.Df['Close'].shift(1)), timeperiod=10)\n",
        "    self.Df = self.Df.dropna()\n",
        "\n",
        "    # Calculate returns\n",
        "    # Prediction horizon (candles)\n",
        "    pred_horizon = 1\n",
        "    # Create a column 'Fut_Ret' with the calculation of returns\n",
        "    self.Df['Ret'] = (self.Df['Open'].shift(-pred_horizon)-self.Df['Open'])/self.Df['Open']\n",
        "    self.Df = self.Df.dropna()\n",
        "\n",
        "    # Split into Train and Test\n",
        "    # Create a variable split which is 80% of the length of the Dataframe\n",
        "    train_size = .6\n",
        "    self.split = int(train_size*len(self.Df))\n",
        "\n",
        "    # It is necessary for daytrade only. If you are using daily candles, please comment the lines below\n",
        "    # Assign a value of 0 to 'Ret' column after 17h\n",
        "    # self.Df.loc[(self.Df['Time'].dt.hour>16), 'Ret']=0\n",
        "\n",
        "    # Creating the features and values\n",
        "    self.X = self.Df.drop(['Ret', \"Time\", 'Close', 'High','Low', 'Open', 'Volume', 'Ret'], axis=1)\n",
        "\n",
        "    # Create a variable which contains all the 'Signal' values\n",
        "    self.y = self.Df['Ret']\n",
        "\n",
        "    # print(self.X)\n",
        "    # print(self.y)\n",
        "\n",
        "\n",
        "  def reset(self):\n",
        "    if self.train == True:\n",
        "      self.i = 0\n",
        "    else:\n",
        "       self.i = self.split\n",
        "    self.position = 0\n",
        "    self.profit = 0\n",
        "    state = list(self.X.iloc[self.i])\n",
        "    state.append(self.position)\n",
        "    # state.append(self.profit)\n",
        "    return np.array(state), None\n",
        "\n",
        "\n",
        "  def step(self, action):\n",
        "\n",
        "    done = False\n",
        "    prev_pos = self.position\n",
        "\n",
        "    if self.position == 0 and action == 1: # we sell\n",
        "      self.position = -1 # sold\n",
        "    elif self.position == 0 and action == 2: # we buy\n",
        "      self.position = 1 # bought\n",
        "    elif action == 3: # we close all\n",
        "      self.position = 0 # no position\n",
        "      self.profit = 0\n",
        "\n",
        "    reward = self.y.iloc[self.i] * (self.position) # calculate the reward based on our current position\n",
        "\n",
        "    # reward = 0\n",
        "    # if action == 1: reward =  self.y.iloc[self.i] * -1\n",
        "    # if action == 2: reward =  self.y.iloc[self.i] * 1\n",
        "\n",
        "    if self.discounted_reward == True:\n",
        "      if self.position in [1,-1]:\n",
        "        reward -= 0.001\n",
        "      # if prev_pos == 0 and self.position in [1,-1]:\n",
        "      #   reward -= 0.01\n",
        "\n",
        "\n",
        "    # print(reward)\n",
        "    self.profit += reward\n",
        "\n",
        "    self.i += 1 # point to the next state\n",
        "    next_state = list(self.X.iloc[self.i])\n",
        "    next_state.append(self.position)\n",
        "    # next_state.append(self.profit)\n",
        "    # print(next_state)\n",
        "\n",
        "    if self.train == True and self.i >= self.split:\n",
        "      done = True\n",
        "    elif self.i >= len(self.Df)-1:\n",
        "      done = True\n",
        "\n",
        "    return np.array(next_state), reward, done, None, None\n",
        "\n"
      ],
      "metadata": {
        "id": "6CNZ7ieQ1_i-"
      },
      "execution_count": null,
      "outputs": []
    },
    {
      "cell_type": "code",
      "source": [
        "# Testing the traiding class\n",
        "env = TradingEnvironment()\n",
        "env.make(\"btcusd\")\n",
        "print(env.step(2))"
      ],
      "metadata": {
        "colab": {
          "base_uri": "https://localhost:8080/"
        },
        "id": "AY_9AFWBBW4-",
        "outputId": "5eec44be-0001-4725-e5eb-7bf7be5a67ff"
      },
      "execution_count": null,
      "outputs": [
        {
          "output_type": "stream",
          "name": "stdout",
          "text": [
            "(array([1.        , 1.33333333, 1.13636364, 1.        ]), 0.08595652173913039, False, None, None)\n"
          ]
        }
      ]
    },
    {
      "cell_type": "markdown",
      "metadata": {
        "id": "brqiMN3UW9T9"
      },
      "source": [
        "### Importing the libraries"
      ]
    },
    {
      "cell_type": "code",
      "execution_count": null,
      "metadata": {
        "id": "mZaKXP_aMl9O"
      },
      "outputs": [],
      "source": [
        "import os\n",
        "import random\n",
        "import numpy as np\n",
        "import pandas as pd\n",
        "import torch\n",
        "import torch.nn as nn\n",
        "import torch.optim as optim\n",
        "import torch.nn.functional as F\n",
        "import torch.autograd as autograd\n",
        "from torch.autograd import Variable\n",
        "from collections import deque, namedtuple"
      ]
    },
    {
      "cell_type": "markdown",
      "metadata": {
        "id": "EzlDKXvkXzGI"
      },
      "source": [
        "## Part 1 - Building the AI"
      ]
    },
    {
      "cell_type": "markdown",
      "metadata": {
        "id": "UtG6Zc83YYy3"
      },
      "source": [
        "### Creating the architecture of the Neural Network"
      ]
    },
    {
      "cell_type": "code",
      "source": [
        "class Network(nn.Module):\n",
        "\n",
        "  def __init__(self, state_size, action_size, seed = 42):\n",
        "    super(Network, self).__init__()\n",
        "    self.seed = torch.manual_seed(seed)\n",
        "    self.fc1 = nn.Linear(state_size, 64)\n",
        "    self.fc2 = nn.Linear(64, 64)\n",
        "    self.fc3 = nn.Linear(64, action_size)\n",
        "    # self.dropout = nn.Dropout(0.1)\n",
        "\n",
        "  def forward(self, state):\n",
        "    x = self.fc1(state)\n",
        "    x = F.relu(x)\n",
        "    # x = self.dropout(x)\n",
        "    x = self.fc2(x)\n",
        "    x = F.relu(x)\n",
        "    # x = self.dropout(x)\n",
        "    return self.fc3(x)"
      ],
      "metadata": {
        "id": "wHDl-OboTW3I"
      },
      "execution_count": null,
      "outputs": []
    },
    {
      "cell_type": "markdown",
      "metadata": {
        "id": "UxVrBnFWZKb1"
      },
      "source": [
        "## Part 2 - Training the AI"
      ]
    },
    {
      "cell_type": "markdown",
      "metadata": {
        "id": "T364fz9qZb2j"
      },
      "source": [
        "### Setting up the environment"
      ]
    },
    {
      "cell_type": "code",
      "source": [
        "# Loading the trading environment\n",
        "env = TradingEnvironment()\n",
        "env.make(\"btcusd\")\n",
        "state_shape = env.observation_space['shape']\n",
        "state_size = env.observation_space['shape'][0]\n",
        "number_actions = env.action_space['n']\n",
        "print('State shape: ', state_shape)\n",
        "print('State size: ', state_size)\n",
        "print('Number of actions: ', number_actions)"
      ],
      "metadata": {
        "colab": {
          "base_uri": "https://localhost:8080/"
        },
        "id": "qmC7R0crEUen",
        "outputId": "796edc27-bac4-409e-ae30-0c9b24a0a859"
      },
      "execution_count": null,
      "outputs": [
        {
          "output_type": "stream",
          "name": "stdout",
          "text": [
            "State shape:  [4]\n",
            "State size:  4\n",
            "Number of actions:  4\n"
          ]
        }
      ]
    },
    {
      "cell_type": "markdown",
      "metadata": {
        "id": "c_dZmOIvZgj-"
      },
      "source": [
        "### Initializing the hyperparameters"
      ]
    },
    {
      "cell_type": "code",
      "source": [
        "learning_rate = 5e-4\n",
        "minibatch_size = 100\n",
        "discount_factor = 0.99\n",
        "replay_buffer_size = int(1e5)\n",
        "interpolation_parameter = 1e-3"
      ],
      "metadata": {
        "id": "oI-W2CNwcXMG"
      },
      "execution_count": null,
      "outputs": []
    },
    {
      "cell_type": "markdown",
      "metadata": {
        "id": "8hD_Vs-bYnip"
      },
      "source": [
        "### Implementing Experience Replay"
      ]
    },
    {
      "cell_type": "code",
      "source": [
        "from collections import deque\n",
        "\n",
        "class ReplayMemory(object):\n",
        "\n",
        "  def __init__(self, capacity):\n",
        "    self.device = torch.device(\"cuda:0\" if torch.cuda.is_available() else \"cpu\")\n",
        "    self.capacity = capacity\n",
        "    # self.memory = []\n",
        "    self.memory = deque()\n",
        "\n",
        "  def push(self, event):\n",
        "    self.memory.append(event)\n",
        "    if len(self.memory) > self.capacity:\n",
        "      # del self.memory[0]\n",
        "      self.memory.popleft()\n",
        "\n",
        "  def sample(self, batch_size):\n",
        "    experiences = random.sample(self.memory, k = batch_size)\n",
        "    states = torch.from_numpy(np.vstack([e[0] for e in experiences if e is not None])).float().to(self.device) # transform into torch tensors, float and move it to the device\n",
        "    actions = torch.from_numpy(np.vstack([e[1] for e in experiences if e is not None])).long().to(self.device)\n",
        "    rewards = torch.from_numpy(np.vstack([e[2] for e in experiences if e is not None])).float().to(self.device)\n",
        "    next_states = torch.from_numpy(np.vstack([e[3] for e in experiences if e is not None])).float().to(self.device)\n",
        "    dones = torch.from_numpy(np.vstack([e[4] for e in experiences if e is not None]).astype(np.uint8)).float().to(self.device)\n",
        "    return states, next_states, actions, rewards, dones"
      ],
      "metadata": {
        "id": "2iTYbkxxdOmH"
      },
      "execution_count": null,
      "outputs": []
    },
    {
      "cell_type": "markdown",
      "metadata": {
        "id": "JmEkbFbUY6Jt"
      },
      "source": [
        "### Implementing the DQN class"
      ]
    },
    {
      "cell_type": "code",
      "source": [
        "class Agent():\n",
        "\n",
        "  def __init__(self, state_size, action_size):\n",
        "    self.device = torch.device(\"cuda:0\" if torch.cuda.is_available() else \"cpu\")\n",
        "    self.state_size = state_size\n",
        "    self.action_size = action_size\n",
        "    self.local_qnetwork = Network(state_size, action_size).to(self.device)\n",
        "    self.target_qnetwork = Network(state_size, action_size).to(self.device)\n",
        "    self.optimizer = optim.Adam(self.local_qnetwork.parameters(), lr = learning_rate)\n",
        "    self.memory = ReplayMemory(replay_buffer_size)\n",
        "    self.t_step = 0\n",
        "\n",
        "  def step(self, state, action, reward, next_state, done):\n",
        "    self.memory.push((state, action, reward, next_state, done))\n",
        "    self.t_step = (self.t_step + 1) % 4\n",
        "    if self.t_step == 0:\n",
        "      if len(self.memory.memory) > minibatch_size:\n",
        "        experiences = self.memory.sample(100)\n",
        "        self.learn(experiences, discount_factor)\n",
        "\n",
        "  def act(self, state, epsilon = 0.):\n",
        "    state = torch.from_numpy(state).float().unsqueeze(0).to(self.device)\n",
        "    self.local_qnetwork.eval()\n",
        "    with torch.no_grad():\n",
        "      action_values = self.local_qnetwork.forward(state)\n",
        "    self.local_qnetwork.train()\n",
        "    if random.random() > epsilon:\n",
        "      return np.argmax(action_values.cpu().data.numpy())\n",
        "    else:\n",
        "      return random.choice(np.arange(self.action_size))\n",
        "\n",
        "  def learn(self, experiences, discount_factor):\n",
        "    states, next_states, actions, rewards, dones = experiences\n",
        "    next_q_targets = self.target_qnetwork(next_states).detach().max(1)[0].unsqueeze(1)\n",
        "    q_targets = rewards + (discount_factor * next_q_targets * (1 - dones))\n",
        "    q_expected = self.local_qnetwork(states).gather(1, actions)\n",
        "    loss = F.mse_loss(q_expected, q_targets)\n",
        "    self.optimizer.zero_grad()\n",
        "    loss.backward()\n",
        "    self.optimizer.step()\n",
        "    self.soft_update(self.local_qnetwork, self.target_qnetwork, interpolation_parameter)\n",
        "\n",
        "  def soft_update(self, local_model, target_model, interpolation_parameter):\n",
        "    for target_param, local_param in zip(target_model.parameters(), local_model.parameters()):\n",
        "      target_param.data.copy_(interpolation_parameter * local_param.data + (1.0 - interpolation_parameter) * target_param.data)\n"
      ],
      "metadata": {
        "id": "49XiJrNgua7k"
      },
      "execution_count": null,
      "outputs": []
    },
    {
      "cell_type": "markdown",
      "metadata": {
        "id": "o1tZElccZmf6"
      },
      "source": [
        "### Initializing the DQN agent"
      ]
    },
    {
      "cell_type": "code",
      "source": [
        "agent = Agent(state_size, number_actions)"
      ],
      "metadata": {
        "id": "2NZscyyt-9OB"
      },
      "execution_count": null,
      "outputs": []
    },
    {
      "cell_type": "markdown",
      "metadata": {
        "id": "E8v0PtUfaVQp"
      },
      "source": [
        "### Training the DQN agent"
      ]
    },
    {
      "cell_type": "code",
      "source": [
        "number_episodes = 200\n",
        "maximum_number_timesteps_per_episode = 1000\n",
        "epsilon_starting_value = 1.0\n",
        "epsilon_ending_value = 0.01\n",
        "epsilon_decay_value = 0.995\n",
        "epsilon = epsilon_starting_value\n",
        "scores_on_100_episodes = deque(maxlen = 100)\n",
        "\n",
        "for episode in range(1, number_episodes + 1):\n",
        "  state, _ = env.reset()\n",
        "  score = 0\n",
        "  for t in range(maximum_number_timesteps_per_episode):\n",
        "    action = agent.act(state, epsilon)\n",
        "    next_state, reward, done, _, _ = env.step(action)\n",
        "    agent.step(state, action, reward, next_state, done)\n",
        "    state = next_state\n",
        "    score += reward\n",
        "    if done:\n",
        "      break\n",
        "  scores_on_100_episodes.append(score)\n",
        "  epsilon = max(epsilon_ending_value, epsilon_decay_value * epsilon)\n",
        "  print('\\rEpisode {}\\tAverage Score: {:.2f}'.format(episode, np.mean(scores_on_100_episodes)), end = \"\")\n",
        "  if episode % 100 == 0:\n",
        "    print('\\rEpisode {}\\tAverage Score: {:.2f}'.format(episode, np.mean(scores_on_100_episodes)))\n",
        "  if np.mean(scores_on_100_episodes) >= 200.0:\n",
        "    print('\\rEnvironment solved in {:d} episodes\\tAverage Score: {:.2f}'.format(episode - 100, np.mean(scores_on_100_episodes)))\n",
        "    torch.save(agent.local_qnetwork.state_dict(), 'checkpoint.pth')\n",
        "    break"
      ],
      "metadata": {
        "colab": {
          "base_uri": "https://localhost:8080/"
        },
        "id": "2d58p7IgGLNX",
        "outputId": "76fb63d5-3e34-4955-eaca-87f5df7eab6b"
      },
      "execution_count": null,
      "outputs": [
        {
          "output_type": "stream",
          "name": "stdout",
          "text": [
            "Episode 100\tAverage Score: 3.76\n",
            "Episode 200\tAverage Score: 8.77\n"
          ]
        }
      ]
    },
    {
      "cell_type": "markdown",
      "metadata": {
        "id": "O8CNwdOTcCoP"
      },
      "source": [
        "## Part 3 - Visualizing the results"
      ]
    },
    {
      "cell_type": "code",
      "source": [
        "# Run the trained agent in the testing set\n",
        "env = TradingEnvironment()\n",
        "env.make(\"btcusd\", train = False, discounted_reward = False)\n",
        "state, _ = env.reset()\n",
        "done = False\n",
        "frames = []\n",
        "rewards = []\n",
        "score = 0\n",
        "while not done:\n",
        "    action = agent.act(state)\n",
        "    state, reward, done, _, _ = env.step(action.item())\n",
        "    score += reward\n",
        "    rewards.append(reward)\n",
        "print(\"Test score: \", score)"
      ],
      "metadata": {
        "colab": {
          "base_uri": "https://localhost:8080/"
        },
        "id": "61OGGifqGYFg",
        "outputId": "715b4b91-ce2a-4ee0-cdb3-447ef77f758e"
      },
      "execution_count": null,
      "outputs": [
        {
          "output_type": "stream",
          "name": "stdout",
          "text": [
            "Test score:  4.1898284470460885\n"
          ]
        }
      ]
    },
    {
      "cell_type": "code",
      "source": [
        "# Plot the strategy returns in the test period\n",
        "import matplotlib.pyplot as plt\n",
        "plt.figure(figsize=(10,10))\n",
        "plt.plot(np.cumsum(rewards))\n",
        "plt.xticks(rotation=-45)\n",
        "plt.show()"
      ],
      "metadata": {
        "colab": {
          "base_uri": "https://localhost:8080/",
          "height": 851
        },
        "id": "JvbOo5DoHG2J",
        "outputId": "257b0e0d-b2bb-4d0b-a082-6fc950783a35"
      },
      "execution_count": null,
      "outputs": [
        {
          "output_type": "display_data",
          "data": {
            "text/plain": [
              "<Figure size 1000x1000 with 1 Axes>"
            ],
            "image/png": "[encoded data removed]"
          },
          "metadata": {}
        }
      ]
    },
    {
      "cell_type": "code",
      "source": [],
      "metadata": {
        "id": "eXR76rK0JD1v"
      },
      "execution_count": null,
      "outputs": []
    }
  ],
  "metadata": {
    "colab": {
      "provenance": [],
      "gpuType": "T4",
      "include_colab_link": true
    },
    "kernelspec": {
      "display_name": "Python 3",
      "name": "python3"
    },
    "language_info": {
      "name": "python"
    },
    "accelerator": "GPU"
  },
  "nbformat": 4,
  "nbformat_minor": 0
}