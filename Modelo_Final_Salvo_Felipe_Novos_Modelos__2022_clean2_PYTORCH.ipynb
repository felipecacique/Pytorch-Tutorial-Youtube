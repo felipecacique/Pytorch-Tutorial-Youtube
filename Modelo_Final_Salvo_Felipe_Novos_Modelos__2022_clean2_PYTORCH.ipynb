{
  "cells": [
    {
      "cell_type": "markdown",
      "metadata": {
        "id": "view-in-github",
        "colab_type": "text"
      },
      "source": [
        "<a href=\"https://colab.research.google.com/github/felipecacique/Pytorch-Tutorial-Youtube/blob/main/Modelo_Final_Salvo_Felipe_Novos_Modelos__2022_clean2_PYTORCH.ipynb\" target=\"_parent\"><img src=\"https://colab.research.google.com/assets/colab-badge.svg\" alt=\"Open In Colab\"/></a>"
      ]
    },
    {
      "cell_type": "markdown",
      "metadata": {
        "id": "rWyAlxgfeNXa"
      },
      "source": [
        "## Notebook Instructions\n",
        "<i>You can run the notebook document sequentially (one cell at a time) by pressing <b> shift + enter</b>. While a cell is running, a [*] will display on the left. When it has been run, a number will display indicating the order in which it was run in the notebook [8].</i>\n",
        "\n",
        "<i>Enter edit mode by pressing <b>`Enter`</b> or using the mouse to click on a cell's editor area. Edit mode is indicated by a green cell border and a prompt showing in the editor area.</i> <BR>"
      ]
    },
    {
      "cell_type": "markdown",
      "source": [
        "## Create a NN model using PyTorch"
      ],
      "metadata": {
        "id": "7OW0M-4ugAh3"
      }
    },
    {
      "cell_type": "code",
      "source": [
        "import torch\n",
        "import torch.nn as nn\n",
        "import torch.nn.functional as F\n",
        "import numpy as np"
      ],
      "metadata": {
        "id": "0rqlG07rgLDI"
      },
      "execution_count": 215,
      "outputs": []
    },
    {
      "cell_type": "code",
      "source": [
        "# Create a model class that inherit nn.Module\n",
        "class Model(nn.Module):\n",
        "  # Input layer (4 features of the flower) -->\n",
        "  # Hidden Layer1 (number of neurons) -->\n",
        "  # H2 (n) -- >\n",
        "  # output (3 classes of iris flowers)\n",
        "  def __init__(self, in_features=4, h1=8, h2=9, out_features=3, dropout_prob=0.5):\n",
        "    super().__init__() # instantiate our nn.Module\n",
        "    self.fc1 = nn.Linear(in_features, h1)\n",
        "    self.fc2 = nn.Linear(h1, h2)\n",
        "    self.out = nn.Linear(h2, out_features)\n",
        "    self.dropout = nn.Dropout(dropout_prob)\n",
        "\n",
        "  def forward(self, x):\n",
        "    x = F.relu(self.fc1(x))\n",
        "    x = self.dropout(x)\n",
        "    x = F.relu(self.fc2(x))\n",
        "    x = self.dropout(x)\n",
        "    x = self.out(x)\n",
        "\n",
        "    return x"
      ],
      "metadata": {
        "id": "qSLtNJ6IgNYG"
      },
      "execution_count": 216,
      "outputs": []
    },
    {
      "cell_type": "code",
      "source": [
        "# Pick a manual seed foro randomization\n",
        "torch.manual_seed(42)\n",
        "# Create and instance if model\n",
        "model = Model()"
      ],
      "metadata": {
        "id": "ddMpw-WEgRdo"
      },
      "execution_count": 217,
      "outputs": []
    },
    {
      "cell_type": "markdown",
      "metadata": {
        "id": "745wlYx0eNXo"
      },
      "source": [
        "## Trading Strategy using Classification\n",
        "\n",
        "The key steps involved in creating the strategy are:\n",
        "1. Import data\n",
        "2. Create indicators\n",
        "3. Calculate returns\n",
        "4. Train and test data\n",
        "5. Create output signals\n",
        "6. Create the Machine Learning Model\n",
        "7. Predict the signals\n",
        "8. Analyze the performance\n",
        "9. Plot the results"
      ]
    },
    {
      "cell_type": "markdown",
      "metadata": {
        "id": "4NkzIzYOeNXp"
      },
      "source": [
        "### Import libraries"
      ]
    },
    {
      "cell_type": "markdown",
      "metadata": {
        "id": "TWJrpLMdeNXp"
      },
      "source": [
        "Next, we will import the necessary libraries for the strategy."
      ]
    },
    {
      "cell_type": "code",
      "execution_count": 218,
      "metadata": {
        "id": "j62JuVJeeNXq"
      },
      "outputs": [],
      "source": [
        "# Import the libraries\n",
        "from sklearn.preprocessing import StandardScaler, QuantileTransformer\n",
        "from sklearn.model_selection import TimeSeriesSplit\n",
        "from sklearn.pipeline import Pipeline\n",
        "import pandas as pd\n",
        "import numpy as np\n",
        "import matplotlib.pyplot as plt\n",
        "import matplotlib.ticker as mtick\n",
        "import joblib\n",
        "import pickle\n",
        "from sklearn.neural_network import MLPClassifier\n",
        "from sklearn.discriminant_analysis import QuadraticDiscriminantAnalysis\n",
        "from sklearn.preprocessing import QuantileTransformer\n",
        "import copy"
      ]
    },
    {
      "cell_type": "markdown",
      "metadata": {
        "id": "VL6erkjoeNXq"
      },
      "source": [
        "## Import data"
      ]
    },
    {
      "cell_type": "markdown",
      "metadata": {
        "id": "9Nelh_Z6eNXq"
      },
      "source": [
        "The 1-minute OHLCV data for the ICICI bank futures required for backtesting is saved in a CSV file, 'ICICI Minute Data.csv'. You can read this file and save it in a dataframe, Df.\n",
        "\n",
        "To read a CSV file, you can use \"pandas.read_csv()\".\n",
        "\n",
        "Syntax: pd.read_csv(filename)\n",
        "\n",
        "filename: Name of the file in the string format"
      ]
    },
    {
      "cell_type": "code",
      "execution_count": 219,
      "metadata": {
        "id": "6gLptVRzeNXr",
        "outputId": "a3146b00-20aa-41d7-dfa0-9d64360aac97",
        "colab": {
          "base_uri": "https://localhost:8080/",
          "height": 206
        }
      },
      "outputs": [
        {
          "output_type": "execute_result",
          "data": {
            "text/plain": [
              "             Time      O       Ret       FH4       FL4       FH0       FL0  \\\n",
              "0  10/01/11 10:00  70100  0.000999 -0.025238 -0.002561 -0.002987  0.000000   \n",
              "1  10/01/11 10:15  70280  0.001494 -0.022735  0.000000 -0.000995  0.002568   \n",
              "2  10/01/11 10:30  70300  0.000996 -0.022457  0.000285 -0.000711  0.002853   \n",
              "3  10/01/11 10:45  70310  0.001280 -0.022318  0.001282 -0.000569  0.002996   \n",
              "4  10/01/11 11:00  70220  0.002136 -0.023569  0.000000 -0.003265  0.001712   \n",
              "\n",
              "     FOPEN0  \n",
              "0  0.000000  \n",
              "1  0.002568  \n",
              "2  0.002853  \n",
              "3  0.002996  \n",
              "4  0.001712  "
            ],
            "text/html": [
              "\n",
              "  <div id=\"df-b0ef5373-72a5-4e0f-9477-d8320f255f9b\" class=\"colab-df-container\">\n",
              "    <div>\n",
              "<style scoped>\n",
              "    .dataframe tbody tr th:only-of-type {\n",
              "        vertical-align: middle;\n",
              "    }\n",
              "\n",
              "    .dataframe tbody tr th {\n",
              "        vertical-align: top;\n",
              "    }\n",
              "\n",
              "    .dataframe thead th {\n",
              "        text-align: right;\n",
              "    }\n",
              "</style>\n",
              "<table border=\"1\" class=\"dataframe\">\n",
              "  <thead>\n",
              "    <tr style=\"text-align: right;\">\n",
              "      <th></th>\n",
              "      <th>Time</th>\n",
              "      <th>O</th>\n",
              "      <th>Ret</th>\n",
              "      <th>FH4</th>\n",
              "      <th>FL4</th>\n",
              "      <th>FH0</th>\n",
              "      <th>FL0</th>\n",
              "      <th>FOPEN0</th>\n",
              "    </tr>\n",
              "  </thead>\n",
              "  <tbody>\n",
              "    <tr>\n",
              "      <th>0</th>\n",
              "      <td>10/01/11 10:00</td>\n",
              "      <td>70100</td>\n",
              "      <td>0.000999</td>\n",
              "      <td>-0.025238</td>\n",
              "      <td>-0.002561</td>\n",
              "      <td>-0.002987</td>\n",
              "      <td>0.000000</td>\n",
              "      <td>0.000000</td>\n",
              "    </tr>\n",
              "    <tr>\n",
              "      <th>1</th>\n",
              "      <td>10/01/11 10:15</td>\n",
              "      <td>70280</td>\n",
              "      <td>0.001494</td>\n",
              "      <td>-0.022735</td>\n",
              "      <td>0.000000</td>\n",
              "      <td>-0.000995</td>\n",
              "      <td>0.002568</td>\n",
              "      <td>0.002568</td>\n",
              "    </tr>\n",
              "    <tr>\n",
              "      <th>2</th>\n",
              "      <td>10/01/11 10:30</td>\n",
              "      <td>70300</td>\n",
              "      <td>0.000996</td>\n",
              "      <td>-0.022457</td>\n",
              "      <td>0.000285</td>\n",
              "      <td>-0.000711</td>\n",
              "      <td>0.002853</td>\n",
              "      <td>0.002853</td>\n",
              "    </tr>\n",
              "    <tr>\n",
              "      <th>3</th>\n",
              "      <td>10/01/11 10:45</td>\n",
              "      <td>70310</td>\n",
              "      <td>0.001280</td>\n",
              "      <td>-0.022318</td>\n",
              "      <td>0.001282</td>\n",
              "      <td>-0.000569</td>\n",
              "      <td>0.002996</td>\n",
              "      <td>0.002996</td>\n",
              "    </tr>\n",
              "    <tr>\n",
              "      <th>4</th>\n",
              "      <td>10/01/11 11:00</td>\n",
              "      <td>70220</td>\n",
              "      <td>0.002136</td>\n",
              "      <td>-0.023569</td>\n",
              "      <td>0.000000</td>\n",
              "      <td>-0.003265</td>\n",
              "      <td>0.001712</td>\n",
              "      <td>0.001712</td>\n",
              "    </tr>\n",
              "  </tbody>\n",
              "</table>\n",
              "</div>\n",
              "    <div class=\"colab-df-buttons\">\n",
              "\n",
              "  <div class=\"colab-df-container\">\n",
              "    <button class=\"colab-df-convert\" onclick=\"convertToInteractive('df-b0ef5373-72a5-4e0f-9477-d8320f255f9b')\"\n",
              "            title=\"Convert this dataframe to an interactive table.\"\n",
              "            style=\"display:none;\">\n",
              "\n",
              "  <svg xmlns=\"http://www.w3.org/2000/svg\" height=\"24px\" viewBox=\"0 -960 960 960\">\n",
              "    <path d=\"M120-120v-720h720v720H120Zm60-500h600v-160H180v160Zm220 220h160v-160H400v160Zm0 220h160v-160H400v160ZM180-400h160v-160H180v160Zm440 0h160v-160H620v160ZM180-180h160v-160H180v160Zm440 0h160v-160H620v160Z\"/>\n",
              "  </svg>\n",
              "    </button>\n",
              "\n",
              "  <style>\n",
              "    .colab-df-container {\n",
              "      display:flex;\n",
              "      gap: 12px;\n",
              "    }\n",
              "\n",
              "    .colab-df-convert {\n",
              "      background-color: #E8F0FE;\n",
              "      border: none;\n",
              "      border-radius: 50%;\n",
              "      cursor: pointer;\n",
              "      display: none;\n",
              "      fill: #1967D2;\n",
              "      height: 32px;\n",
              "      padding: 0 0 0 0;\n",
              "      width: 32px;\n",
              "    }\n",
              "\n",
              "    .colab-df-convert:hover {\n",
              "      background-color: #E2EBFA;\n",
              "      box-shadow: 0px 1px 2px rgba(60, 64, 67, 0.3), 0px 1px 3px 1px rgba(60, 64, 67, 0.15);\n",
              "      fill: #174EA6;\n",
              "    }\n",
              "\n",
              "    .colab-df-buttons div {\n",
              "      margin-bottom: 4px;\n",
              "    }\n",
              "\n",
              "    [theme=dark] .colab-df-convert {\n",
              "      background-color: #3B4455;\n",
              "      fill: #D2E3FC;\n",
              "    }\n",
              "\n",
              "    [theme=dark] .colab-df-convert:hover {\n",
              "      background-color: #434B5C;\n",
              "      box-shadow: 0px 1px 3px 1px rgba(0, 0, 0, 0.15);\n",
              "      filter: drop-shadow(0px 1px 2px rgba(0, 0, 0, 0.3));\n",
              "      fill: #FFFFFF;\n",
              "    }\n",
              "  </style>\n",
              "\n",
              "    <script>\n",
              "      const buttonEl =\n",
              "        document.querySelector('#df-b0ef5373-72a5-4e0f-9477-d8320f255f9b button.colab-df-convert');\n",
              "      buttonEl.style.display =\n",
              "        google.colab.kernel.accessAllowed ? 'block' : 'none';\n",
              "\n",
              "      async function convertToInteractive(key) {\n",
              "        const element = document.querySelector('#df-b0ef5373-72a5-4e0f-9477-d8320f255f9b');\n",
              "        const dataTable =\n",
              "          await google.colab.kernel.invokeFunction('convertToInteractive',\n",
              "                                                    [key], {});\n",
              "        if (!dataTable) return;\n",
              "\n",
              "        const docLinkHtml = 'Like what you see? Visit the ' +\n",
              "          '<a target=\"_blank\" href=https://colab.research.google.com/notebooks/data_table.ipynb>data table notebook</a>'\n",
              "          + ' to learn more about interactive tables.';\n",
              "        element.innerHTML = '';\n",
              "        dataTable['output_type'] = 'display_data';\n",
              "        await google.colab.output.renderOutput(dataTable, element);\n",
              "        const docLink = document.createElement('div');\n",
              "        docLink.innerHTML = docLinkHtml;\n",
              "        element.appendChild(docLink);\n",
              "      }\n",
              "    </script>\n",
              "  </div>\n",
              "\n",
              "\n",
              "<div id=\"df-c26d9b24-4756-4755-8947-a332fdac7fbc\">\n",
              "  <button class=\"colab-df-quickchart\" onclick=\"quickchart('df-c26d9b24-4756-4755-8947-a332fdac7fbc')\"\n",
              "            title=\"Suggest charts\"\n",
              "            style=\"display:none;\">\n",
              "\n",
              "<svg xmlns=\"http://www.w3.org/2000/svg\" height=\"24px\"viewBox=\"0 0 24 24\"\n",
              "     width=\"24px\">\n",
              "    <g>\n",
              "        <path d=\"M19 3H5c-1.1 0-2 .9-2 2v14c0 1.1.9 2 2 2h14c1.1 0 2-.9 2-2V5c0-1.1-.9-2-2-2zM9 17H7v-7h2v7zm4 0h-2V7h2v10zm4 0h-2v-4h2v4z\"/>\n",
              "    </g>\n",
              "</svg>\n",
              "  </button>\n",
              "\n",
              "<style>\n",
              "  .colab-df-quickchart {\n",
              "      --bg-color: #E8F0FE;\n",
              "      --fill-color: #1967D2;\n",
              "      --hover-bg-color: #E2EBFA;\n",
              "      --hover-fill-color: #174EA6;\n",
              "      --disabled-fill-color: #AAA;\n",
              "      --disabled-bg-color: #DDD;\n",
              "  }\n",
              "\n",
              "  [theme=dark] .colab-df-quickchart {\n",
              "      --bg-color: #3B4455;\n",
              "      --fill-color: #D2E3FC;\n",
              "      --hover-bg-color: #434B5C;\n",
              "      --hover-fill-color: #FFFFFF;\n",
              "      --disabled-bg-color: #3B4455;\n",
              "      --disabled-fill-color: #666;\n",
              "  }\n",
              "\n",
              "  .colab-df-quickchart {\n",
              "    background-color: var(--bg-color);\n",
              "    border: none;\n",
              "    border-radius: 50%;\n",
              "    cursor: pointer;\n",
              "    display: none;\n",
              "    fill: var(--fill-color);\n",
              "    height: 32px;\n",
              "    padding: 0;\n",
              "    width: 32px;\n",
              "  }\n",
              "\n",
              "  .colab-df-quickchart:hover {\n",
              "    background-color: var(--hover-bg-color);\n",
              "    box-shadow: 0 1px 2px rgba(60, 64, 67, 0.3), 0 1px 3px 1px rgba(60, 64, 67, 0.15);\n",
              "    fill: var(--button-hover-fill-color);\n",
              "  }\n",
              "\n",
              "  .colab-df-quickchart-complete:disabled,\n",
              "  .colab-df-quickchart-complete:disabled:hover {\n",
              "    background-color: var(--disabled-bg-color);\n",
              "    fill: var(--disabled-fill-color);\n",
              "    box-shadow: none;\n",
              "  }\n",
              "\n",
              "  .colab-df-spinner {\n",
              "    border: 2px solid var(--fill-color);\n",
              "    border-color: transparent;\n",
              "    border-bottom-color: var(--fill-color);\n",
              "    animation:\n",
              "      spin 1s steps(1) infinite;\n",
              "  }\n",
              "\n",
              "  @keyframes spin {\n",
              "    0% {\n",
              "      border-color: transparent;\n",
              "      border-bottom-color: var(--fill-color);\n",
              "      border-left-color: var(--fill-color);\n",
              "    }\n",
              "    20% {\n",
              "      border-color: transparent;\n",
              "      border-left-color: var(--fill-color);\n",
              "      border-top-color: var(--fill-color);\n",
              "    }\n",
              "    30% {\n",
              "      border-color: transparent;\n",
              "      border-left-color: var(--fill-color);\n",
              "      border-top-color: var(--fill-color);\n",
              "      border-right-color: var(--fill-color);\n",
              "    }\n",
              "    40% {\n",
              "      border-color: transparent;\n",
              "      border-right-color: var(--fill-color);\n",
              "      border-top-color: var(--fill-color);\n",
              "    }\n",
              "    60% {\n",
              "      border-color: transparent;\n",
              "      border-right-color: var(--fill-color);\n",
              "    }\n",
              "    80% {\n",
              "      border-color: transparent;\n",
              "      border-right-color: var(--fill-color);\n",
              "      border-bottom-color: var(--fill-color);\n",
              "    }\n",
              "    90% {\n",
              "      border-color: transparent;\n",
              "      border-bottom-color: var(--fill-color);\n",
              "    }\n",
              "  }\n",
              "</style>\n",
              "\n",
              "  <script>\n",
              "    async function quickchart(key) {\n",
              "      const quickchartButtonEl =\n",
              "        document.querySelector('#' + key + ' button');\n",
              "      quickchartButtonEl.disabled = true;  // To prevent multiple clicks.\n",
              "      quickchartButtonEl.classList.add('colab-df-spinner');\n",
              "      try {\n",
              "        const charts = await google.colab.kernel.invokeFunction(\n",
              "            'suggestCharts', [key], {});\n",
              "      } catch (error) {\n",
              "        console.error('Error during call to suggestCharts:', error);\n",
              "      }\n",
              "      quickchartButtonEl.classList.remove('colab-df-spinner');\n",
              "      quickchartButtonEl.classList.add('colab-df-quickchart-complete');\n",
              "    }\n",
              "    (() => {\n",
              "      let quickchartButtonEl =\n",
              "        document.querySelector('#df-c26d9b24-4756-4755-8947-a332fdac7fbc button');\n",
              "      quickchartButtonEl.style.display =\n",
              "        google.colab.kernel.accessAllowed ? 'block' : 'none';\n",
              "    })();\n",
              "  </script>\n",
              "</div>\n",
              "\n",
              "    </div>\n",
              "  </div>\n"
            ],
            "application/vnd.google.colaboratory.intrinsic+json": {
              "type": "dataframe",
              "variable_name": "Df",
              "summary": "{\n  \"name\": \"Df\",\n  \"rows\": 77268,\n  \"fields\": [\n    {\n      \"column\": \"Time\",\n      \"properties\": {\n        \"dtype\": \"object\",\n        \"num_unique_values\": 77268,\n        \"samples\": [\n          \"03/10/16 14:30\",\n          \"01/06/16 15:45\",\n          \"07/01/13 16:45\"\n        ],\n        \"semantic_type\": \"\",\n        \"description\": \"\"\n      }\n    },\n    {\n      \"column\": \"O\",\n      \"properties\": {\n        \"dtype\": \"number\",\n        \"std\": 15400,\n        \"min\": 37300,\n        \"max\": 107210,\n        \"num_unique_values\": 12159,\n        \"samples\": [\n          85860,\n          47045,\n          86295\n        ],\n        \"semantic_type\": \"\",\n        \"description\": \"\"\n      }\n    },\n    {\n      \"column\": \"Ret\",\n      \"properties\": {\n        \"dtype\": \"number\",\n        \"std\": 0.004564695403870845,\n        \"min\": -0.100088183,\n        \"max\": 0.098533456,\n        \"num_unique_values\": 68991,\n        \"samples\": [\n          -0.003547459,\n          -0.001420959,\n          -0.004537986\n        ],\n        \"semantic_type\": \"\",\n        \"description\": \"\"\n      }\n    },\n    {\n      \"column\": \"FH4\",\n      \"properties\": {\n        \"dtype\": \"number\",\n        \"std\": 0.017402324624828908,\n        \"min\": -0.174477599,\n        \"max\": 0.020705599,\n        \"num_unique_values\": 63830,\n        \"samples\": [\n          -0.020817886,\n          -0.000178891,\n          -0.001016605\n        ],\n        \"semantic_type\": \"\",\n        \"description\": \"\"\n      }\n    },\n    {\n      \"column\": \"FL4\",\n      \"properties\": {\n        \"dtype\": \"number\",\n        \"std\": 0.019149156263743788,\n        \"min\": -0.034494279,\n        \"max\": 0.191342093,\n        \"num_unique_values\": 64389,\n        \"samples\": [\n          0.028770577,\n          0.030334728,\n          0.038768116\n        ],\n        \"semantic_type\": \"\",\n        \"description\": \"\"\n      }\n    },\n    {\n      \"column\": \"FH0\",\n      \"properties\": {\n        \"dtype\": \"number\",\n        \"std\": 0.006419906411767316,\n        \"min\": -0.076548673,\n        \"max\": 0.0,\n        \"num_unique_values\": 66221,\n        \"samples\": [\n          -0.005248374,\n          -0.011356634,\n          -0.003121557\n        ],\n        \"semantic_type\": \"\",\n        \"description\": \"\"\n      }\n    },\n    {\n      \"column\": \"FL0\",\n      \"properties\": {\n        \"dtype\": \"number\",\n        \"std\": 0.0066619612932037895,\n        \"min\": 0.0,\n        \"max\": 0.09068882,\n        \"num_unique_values\": 66163,\n        \"samples\": [\n          0.006645759,\n          0.004988914,\n          0.006894967\n        ],\n        \"semantic_type\": \"\",\n        \"description\": \"\"\n      }\n    },\n    {\n      \"column\": \"FOPEN0\",\n      \"properties\": {\n        \"dtype\": \"number\",\n        \"std\": 0.00964158123975734,\n        \"min\": -0.070127857,\n        \"max\": 0.066286307,\n        \"num_unique_values\": 62406,\n        \"samples\": [\n          0.011017941,\n          0.002242525,\n          0.008820513\n        ],\n        \"semantic_type\": \"\",\n        \"description\": \"\"\n      }\n    }\n  ]\n}"
            }
          },
          "metadata": {},
          "execution_count": 219
        }
      ],
      "source": [
        "# Read the CSV file\n",
        "Df = pd.read_csv(\"./win3.csv\",delimiter=\";\",decimal=\",\")\n",
        "Df.head()"
      ]
    },
    {
      "cell_type": "code",
      "source": [
        "# from google.colab import drive\n",
        "# drive.mount('/content/drive')"
      ],
      "metadata": {
        "id": "Z7VftzjOeyCx"
      },
      "execution_count": 220,
      "outputs": []
    },
    {
      "cell_type": "code",
      "execution_count": 221,
      "metadata": {
        "id": "ZW-YnnNWeNXr",
        "colab": {
          "base_uri": "https://localhost:8080/"
        },
        "outputId": "805bbf44-dc2b-41b5-ce96-0a055dd17e6e"
      },
      "outputs": [
        {
          "output_type": "execute_result",
          "data": {
            "text/plain": [
              "dtype('O')"
            ]
          },
          "metadata": {},
          "execution_count": 221
        }
      ],
      "source": [
        "Df[\"Time\"].dtype"
      ]
    },
    {
      "cell_type": "code",
      "execution_count": 222,
      "metadata": {
        "id": "XZDM-vMreNXr"
      },
      "outputs": [],
      "source": [
        "Df = Df.dropna()"
      ]
    },
    {
      "cell_type": "code",
      "execution_count": 223,
      "metadata": {
        "id": "Eddwg3STeNXr",
        "colab": {
          "base_uri": "https://localhost:8080/",
          "height": 261
        },
        "outputId": "78f2426d-f50f-4cfa-a3d2-1001fc7b19f3"
      },
      "outputs": [
        {
          "output_type": "stream",
          "name": "stderr",
          "text": [
            "<ipython-input-223-a53a9ba261cb>:2: UserWarning: Could not infer format, so each element will be parsed individually, falling back to `dateutil`. To ensure parsing is consistent and as-expected, please specify a format.\n",
            "  Df['Time'] = pd.to_datetime(Df['Time'],dayfirst=True)\n"
          ]
        },
        {
          "output_type": "execute_result",
          "data": {
            "text/plain": [
              "                 Time      O       Ret       FH4       FL4       FH0  \\\n",
              "0 2011-01-10 10:00:00  70100  0.000999 -0.025238 -0.002561 -0.002987   \n",
              "1 2011-01-10 10:15:00  70280  0.001494 -0.022735  0.000000 -0.000995   \n",
              "2 2011-01-10 10:30:00  70300  0.000996 -0.022457  0.000285 -0.000711   \n",
              "3 2011-01-10 10:45:00  70310  0.001280 -0.022318  0.001282 -0.000569   \n",
              "4 2011-01-10 11:00:00  70220  0.002136 -0.023569  0.000000 -0.003265   \n",
              "\n",
              "        FL0    FOPEN0  \n",
              "0  0.000000  0.000000  \n",
              "1  0.002568  0.002568  \n",
              "2  0.002853  0.002853  \n",
              "3  0.002996  0.002996  \n",
              "4  0.001712  0.001712  "
            ],
            "text/html": [
              "\n",
              "  <div id=\"df-c221756d-cf11-4301-b2bb-b92febb12a71\" class=\"colab-df-container\">\n",
              "    <div>\n",
              "<style scoped>\n",
              "    .dataframe tbody tr th:only-of-type {\n",
              "        vertical-align: middle;\n",
              "    }\n",
              "\n",
              "    .dataframe tbody tr th {\n",
              "        vertical-align: top;\n",
              "    }\n",
              "\n",
              "    .dataframe thead th {\n",
              "        text-align: right;\n",
              "    }\n",
              "</style>\n",
              "<table border=\"1\" class=\"dataframe\">\n",
              "  <thead>\n",
              "    <tr style=\"text-align: right;\">\n",
              "      <th></th>\n",
              "      <th>Time</th>\n",
              "      <th>O</th>\n",
              "      <th>Ret</th>\n",
              "      <th>FH4</th>\n",
              "      <th>FL4</th>\n",
              "      <th>FH0</th>\n",
              "      <th>FL0</th>\n",
              "      <th>FOPEN0</th>\n",
              "    </tr>\n",
              "  </thead>\n",
              "  <tbody>\n",
              "    <tr>\n",
              "      <th>0</th>\n",
              "      <td>2011-01-10 10:00:00</td>\n",
              "      <td>70100</td>\n",
              "      <td>0.000999</td>\n",
              "      <td>-0.025238</td>\n",
              "      <td>-0.002561</td>\n",
              "      <td>-0.002987</td>\n",
              "      <td>0.000000</td>\n",
              "      <td>0.000000</td>\n",
              "    </tr>\n",
              "    <tr>\n",
              "      <th>1</th>\n",
              "      <td>2011-01-10 10:15:00</td>\n",
              "      <td>70280</td>\n",
              "      <td>0.001494</td>\n",
              "      <td>-0.022735</td>\n",
              "      <td>0.000000</td>\n",
              "      <td>-0.000995</td>\n",
              "      <td>0.002568</td>\n",
              "      <td>0.002568</td>\n",
              "    </tr>\n",
              "    <tr>\n",
              "      <th>2</th>\n",
              "      <td>2011-01-10 10:30:00</td>\n",
              "      <td>70300</td>\n",
              "      <td>0.000996</td>\n",
              "      <td>-0.022457</td>\n",
              "      <td>0.000285</td>\n",
              "      <td>-0.000711</td>\n",
              "      <td>0.002853</td>\n",
              "      <td>0.002853</td>\n",
              "    </tr>\n",
              "    <tr>\n",
              "      <th>3</th>\n",
              "      <td>2011-01-10 10:45:00</td>\n",
              "      <td>70310</td>\n",
              "      <td>0.001280</td>\n",
              "      <td>-0.022318</td>\n",
              "      <td>0.001282</td>\n",
              "      <td>-0.000569</td>\n",
              "      <td>0.002996</td>\n",
              "      <td>0.002996</td>\n",
              "    </tr>\n",
              "    <tr>\n",
              "      <th>4</th>\n",
              "      <td>2011-01-10 11:00:00</td>\n",
              "      <td>70220</td>\n",
              "      <td>0.002136</td>\n",
              "      <td>-0.023569</td>\n",
              "      <td>0.000000</td>\n",
              "      <td>-0.003265</td>\n",
              "      <td>0.001712</td>\n",
              "      <td>0.001712</td>\n",
              "    </tr>\n",
              "  </tbody>\n",
              "</table>\n",
              "</div>\n",
              "    <div class=\"colab-df-buttons\">\n",
              "\n",
              "  <div class=\"colab-df-container\">\n",
              "    <button class=\"colab-df-convert\" onclick=\"convertToInteractive('df-c221756d-cf11-4301-b2bb-b92febb12a71')\"\n",
              "            title=\"Convert this dataframe to an interactive table.\"\n",
              "            style=\"display:none;\">\n",
              "\n",
              "  <svg xmlns=\"http://www.w3.org/2000/svg\" height=\"24px\" viewBox=\"0 -960 960 960\">\n",
              "    <path d=\"M120-120v-720h720v720H120Zm60-500h600v-160H180v160Zm220 220h160v-160H400v160Zm0 220h160v-160H400v160ZM180-400h160v-160H180v160Zm440 0h160v-160H620v160ZM180-180h160v-160H180v160Zm440 0h160v-160H620v160Z\"/>\n",
              "  </svg>\n",
              "    </button>\n",
              "\n",
              "  <style>\n",
              "    .colab-df-container {\n",
              "      display:flex;\n",
              "      gap: 12px;\n",
              "    }\n",
              "\n",
              "    .colab-df-convert {\n",
              "      background-color: #E8F0FE;\n",
              "      border: none;\n",
              "      border-radius: 50%;\n",
              "      cursor: pointer;\n",
              "      display: none;\n",
              "      fill: #1967D2;\n",
              "      height: 32px;\n",
              "      padding: 0 0 0 0;\n",
              "      width: 32px;\n",
              "    }\n",
              "\n",
              "    .colab-df-convert:hover {\n",
              "      background-color: #E2EBFA;\n",
              "      box-shadow: 0px 1px 2px rgba(60, 64, 67, 0.3), 0px 1px 3px 1px rgba(60, 64, 67, 0.15);\n",
              "      fill: #174EA6;\n",
              "    }\n",
              "\n",
              "    .colab-df-buttons div {\n",
              "      margin-bottom: 4px;\n",
              "    }\n",
              "\n",
              "    [theme=dark] .colab-df-convert {\n",
              "      background-color: #3B4455;\n",
              "      fill: #D2E3FC;\n",
              "    }\n",
              "\n",
              "    [theme=dark] .colab-df-convert:hover {\n",
              "      background-color: #434B5C;\n",
              "      box-shadow: 0px 1px 3px 1px rgba(0, 0, 0, 0.15);\n",
              "      filter: drop-shadow(0px 1px 2px rgba(0, 0, 0, 0.3));\n",
              "      fill: #FFFFFF;\n",
              "    }\n",
              "  </style>\n",
              "\n",
              "    <script>\n",
              "      const buttonEl =\n",
              "        document.querySelector('#df-c221756d-cf11-4301-b2bb-b92febb12a71 button.colab-df-convert');\n",
              "      buttonEl.style.display =\n",
              "        google.colab.kernel.accessAllowed ? 'block' : 'none';\n",
              "\n",
              "      async function convertToInteractive(key) {\n",
              "        const element = document.querySelector('#df-c221756d-cf11-4301-b2bb-b92febb12a71');\n",
              "        const dataTable =\n",
              "          await google.colab.kernel.invokeFunction('convertToInteractive',\n",
              "                                                    [key], {});\n",
              "        if (!dataTable) return;\n",
              "\n",
              "        const docLinkHtml = 'Like what you see? Visit the ' +\n",
              "          '<a target=\"_blank\" href=https://colab.research.google.com/notebooks/data_table.ipynb>data table notebook</a>'\n",
              "          + ' to learn more about interactive tables.';\n",
              "        element.innerHTML = '';\n",
              "        dataTable['output_type'] = 'display_data';\n",
              "        await google.colab.output.renderOutput(dataTable, element);\n",
              "        const docLink = document.createElement('div');\n",
              "        docLink.innerHTML = docLinkHtml;\n",
              "        element.appendChild(docLink);\n",
              "      }\n",
              "    </script>\n",
              "  </div>\n",
              "\n",
              "\n",
              "<div id=\"df-3013075d-7f63-42f9-8d45-d6db8243bb06\">\n",
              "  <button class=\"colab-df-quickchart\" onclick=\"quickchart('df-3013075d-7f63-42f9-8d45-d6db8243bb06')\"\n",
              "            title=\"Suggest charts\"\n",
              "            style=\"display:none;\">\n",
              "\n",
              "<svg xmlns=\"http://www.w3.org/2000/svg\" height=\"24px\"viewBox=\"0 0 24 24\"\n",
              "     width=\"24px\">\n",
              "    <g>\n",
              "        <path d=\"M19 3H5c-1.1 0-2 .9-2 2v14c0 1.1.9 2 2 2h14c1.1 0 2-.9 2-2V5c0-1.1-.9-2-2-2zM9 17H7v-7h2v7zm4 0h-2V7h2v10zm4 0h-2v-4h2v4z\"/>\n",
              "    </g>\n",
              "</svg>\n",
              "  </button>\n",
              "\n",
              "<style>\n",
              "  .colab-df-quickchart {\n",
              "      --bg-color: #E8F0FE;\n",
              "      --fill-color: #1967D2;\n",
              "      --hover-bg-color: #E2EBFA;\n",
              "      --hover-fill-color: #174EA6;\n",
              "      --disabled-fill-color: #AAA;\n",
              "      --disabled-bg-color: #DDD;\n",
              "  }\n",
              "\n",
              "  [theme=dark] .colab-df-quickchart {\n",
              "      --bg-color: #3B4455;\n",
              "      --fill-color: #D2E3FC;\n",
              "      --hover-bg-color: #434B5C;\n",
              "      --hover-fill-color: #FFFFFF;\n",
              "      --disabled-bg-color: #3B4455;\n",
              "      --disabled-fill-color: #666;\n",
              "  }\n",
              "\n",
              "  .colab-df-quickchart {\n",
              "    background-color: var(--bg-color);\n",
              "    border: none;\n",
              "    border-radius: 50%;\n",
              "    cursor: pointer;\n",
              "    display: none;\n",
              "    fill: var(--fill-color);\n",
              "    height: 32px;\n",
              "    padding: 0;\n",
              "    width: 32px;\n",
              "  }\n",
              "\n",
              "  .colab-df-quickchart:hover {\n",
              "    background-color: var(--hover-bg-color);\n",
              "    box-shadow: 0 1px 2px rgba(60, 64, 67, 0.3), 0 1px 3px 1px rgba(60, 64, 67, 0.15);\n",
              "    fill: var(--button-hover-fill-color);\n",
              "  }\n",
              "\n",
              "  .colab-df-quickchart-complete:disabled,\n",
              "  .colab-df-quickchart-complete:disabled:hover {\n",
              "    background-color: var(--disabled-bg-color);\n",
              "    fill: var(--disabled-fill-color);\n",
              "    box-shadow: none;\n",
              "  }\n",
              "\n",
              "  .colab-df-spinner {\n",
              "    border: 2px solid var(--fill-color);\n",
              "    border-color: transparent;\n",
              "    border-bottom-color: var(--fill-color);\n",
              "    animation:\n",
              "      spin 1s steps(1) infinite;\n",
              "  }\n",
              "\n",
              "  @keyframes spin {\n",
              "    0% {\n",
              "      border-color: transparent;\n",
              "      border-bottom-color: var(--fill-color);\n",
              "      border-left-color: var(--fill-color);\n",
              "    }\n",
              "    20% {\n",
              "      border-color: transparent;\n",
              "      border-left-color: var(--fill-color);\n",
              "      border-top-color: var(--fill-color);\n",
              "    }\n",
              "    30% {\n",
              "      border-color: transparent;\n",
              "      border-left-color: var(--fill-color);\n",
              "      border-top-color: var(--fill-color);\n",
              "      border-right-color: var(--fill-color);\n",
              "    }\n",
              "    40% {\n",
              "      border-color: transparent;\n",
              "      border-right-color: var(--fill-color);\n",
              "      border-top-color: var(--fill-color);\n",
              "    }\n",
              "    60% {\n",
              "      border-color: transparent;\n",
              "      border-right-color: var(--fill-color);\n",
              "    }\n",
              "    80% {\n",
              "      border-color: transparent;\n",
              "      border-right-color: var(--fill-color);\n",
              "      border-bottom-color: var(--fill-color);\n",
              "    }\n",
              "    90% {\n",
              "      border-color: transparent;\n",
              "      border-bottom-color: var(--fill-color);\n",
              "    }\n",
              "  }\n",
              "</style>\n",
              "\n",
              "  <script>\n",
              "    async function quickchart(key) {\n",
              "      const quickchartButtonEl =\n",
              "        document.querySelector('#' + key + ' button');\n",
              "      quickchartButtonEl.disabled = true;  // To prevent multiple clicks.\n",
              "      quickchartButtonEl.classList.add('colab-df-spinner');\n",
              "      try {\n",
              "        const charts = await google.colab.kernel.invokeFunction(\n",
              "            'suggestCharts', [key], {});\n",
              "      } catch (error) {\n",
              "        console.error('Error during call to suggestCharts:', error);\n",
              "      }\n",
              "      quickchartButtonEl.classList.remove('colab-df-spinner');\n",
              "      quickchartButtonEl.classList.add('colab-df-quickchart-complete');\n",
              "    }\n",
              "    (() => {\n",
              "      let quickchartButtonEl =\n",
              "        document.querySelector('#df-3013075d-7f63-42f9-8d45-d6db8243bb06 button');\n",
              "      quickchartButtonEl.style.display =\n",
              "        google.colab.kernel.accessAllowed ? 'block' : 'none';\n",
              "    })();\n",
              "  </script>\n",
              "</div>\n",
              "\n",
              "    </div>\n",
              "  </div>\n"
            ],
            "application/vnd.google.colaboratory.intrinsic+json": {
              "type": "dataframe",
              "variable_name": "Df",
              "summary": "{\n  \"name\": \"Df\",\n  \"rows\": 77268,\n  \"fields\": [\n    {\n      \"column\": \"Time\",\n      \"properties\": {\n        \"dtype\": \"date\",\n        \"min\": \"2011-01-10 10:00:00\",\n        \"max\": \"2019-10-15 16:45:00\",\n        \"num_unique_values\": 77268,\n        \"samples\": [\n          \"2016-10-03 14:30:00\",\n          \"2016-06-01 15:45:00\",\n          \"2013-01-07 16:45:00\"\n        ],\n        \"semantic_type\": \"\",\n        \"description\": \"\"\n      }\n    },\n    {\n      \"column\": \"O\",\n      \"properties\": {\n        \"dtype\": \"number\",\n        \"std\": 15400,\n        \"min\": 37300,\n        \"max\": 107210,\n        \"num_unique_values\": 12159,\n        \"samples\": [\n          85860,\n          47045,\n          86295\n        ],\n        \"semantic_type\": \"\",\n        \"description\": \"\"\n      }\n    },\n    {\n      \"column\": \"Ret\",\n      \"properties\": {\n        \"dtype\": \"number\",\n        \"std\": 0.004564695403870845,\n        \"min\": -0.100088183,\n        \"max\": 0.098533456,\n        \"num_unique_values\": 68991,\n        \"samples\": [\n          -0.003547459,\n          -0.001420959,\n          -0.004537986\n        ],\n        \"semantic_type\": \"\",\n        \"description\": \"\"\n      }\n    },\n    {\n      \"column\": \"FH4\",\n      \"properties\": {\n        \"dtype\": \"number\",\n        \"std\": 0.017402324624828908,\n        \"min\": -0.174477599,\n        \"max\": 0.020705599,\n        \"num_unique_values\": 63830,\n        \"samples\": [\n          -0.020817886,\n          -0.000178891,\n          -0.001016605\n        ],\n        \"semantic_type\": \"\",\n        \"description\": \"\"\n      }\n    },\n    {\n      \"column\": \"FL4\",\n      \"properties\": {\n        \"dtype\": \"number\",\n        \"std\": 0.019149156263743788,\n        \"min\": -0.034494279,\n        \"max\": 0.191342093,\n        \"num_unique_values\": 64389,\n        \"samples\": [\n          0.028770577,\n          0.030334728,\n          0.038768116\n        ],\n        \"semantic_type\": \"\",\n        \"description\": \"\"\n      }\n    },\n    {\n      \"column\": \"FH0\",\n      \"properties\": {\n        \"dtype\": \"number\",\n        \"std\": 0.006419906411767316,\n        \"min\": -0.076548673,\n        \"max\": 0.0,\n        \"num_unique_values\": 66221,\n        \"samples\": [\n          -0.005248374,\n          -0.011356634,\n          -0.003121557\n        ],\n        \"semantic_type\": \"\",\n        \"description\": \"\"\n      }\n    },\n    {\n      \"column\": \"FL0\",\n      \"properties\": {\n        \"dtype\": \"number\",\n        \"std\": 0.0066619612932037895,\n        \"min\": 0.0,\n        \"max\": 0.09068882,\n        \"num_unique_values\": 66163,\n        \"samples\": [\n          0.006645759,\n          0.004988914,\n          0.006894967\n        ],\n        \"semantic_type\": \"\",\n        \"description\": \"\"\n      }\n    },\n    {\n      \"column\": \"FOPEN0\",\n      \"properties\": {\n        \"dtype\": \"number\",\n        \"std\": 0.00964158123975734,\n        \"min\": -0.070127857,\n        \"max\": 0.066286307,\n        \"num_unique_values\": 62406,\n        \"samples\": [\n          0.011017941,\n          0.002242525,\n          0.008820513\n        ],\n        \"semantic_type\": \"\",\n        \"description\": \"\"\n      }\n    }\n  ]\n}"
            }
          },
          "metadata": {},
          "execution_count": 223
        }
      ],
      "source": [
        "#Convert the 'Time' column into pandas datetime format\n",
        "Df['Time'] = pd.to_datetime(Df['Time'],dayfirst=True)\n",
        "Df.head()"
      ]
    },
    {
      "cell_type": "code",
      "execution_count": 224,
      "metadata": {
        "id": "6DZZTkYZeNXs",
        "colab": {
          "base_uri": "https://localhost:8080/"
        },
        "outputId": "2e958f8b-4de2-4801-9c95-c4ccc5545a62"
      },
      "outputs": [
        {
          "output_type": "execute_result",
          "data": {
            "text/plain": [
              "dtype('<M8[ns]')"
            ]
          },
          "metadata": {},
          "execution_count": 224
        }
      ],
      "source": [
        "Df[\"Time\"].dtype"
      ]
    },
    {
      "cell_type": "markdown",
      "metadata": {
        "id": "iyR2jDyeeNXs"
      },
      "source": [
        "## Train and test data\n",
        "\n",
        "We will be using 80% of the data to train and the rest 20% to test. To do this, you will create a split parameter which will divide the dataframe in an 80-20 ratio.\n",
        "\n",
        "This can be changed as per your choice, but it is advisable to give at least 70% data as train data for good results. \"split\" is the integer index value for the row corresponding to test-train split."
      ]
    },
    {
      "cell_type": "code",
      "execution_count": 225,
      "metadata": {
        "id": "nlO7QpZEeNXs"
      },
      "outputs": [],
      "source": [
        "pct_brincar = 1\n",
        "#Para rodar da base inteira, comentar a linha abaixo e habilitar a linha de cima, com valor = 1\n",
        "# Df = Df[:1000]\n",
        "Df = Df[:int(pct_brincar*len(Df))]"
      ]
    },
    {
      "cell_type": "code",
      "execution_count": 226,
      "metadata": {
        "id": "9hNOV-jbeNXt",
        "colab": {
          "base_uri": "https://localhost:8080/"
        },
        "outputId": "e749cc14-9b9f-4e10-c9dc-6f168d2f2e0b"
      },
      "outputs": [
        {
          "output_type": "execute_result",
          "data": {
            "text/plain": [
              "61814"
            ]
          },
          "metadata": {},
          "execution_count": 226
        }
      ],
      "source": [
        "# Create a variable split which is 80% of the length of the Dataframe\n",
        "t = .8\n",
        "split = int(t*len(Df))\n",
        "split"
      ]
    },
    {
      "cell_type": "markdown",
      "metadata": {
        "id": "zd8bSEIieNXt"
      },
      "source": [
        "## Create output signals\n",
        "\n",
        "Next, assign signal values corresponding to 'returns' that were calculated earlier. To do this, you will split the data into three equal parts, using the split on 'Ret' column.\n",
        "1. Highest returns’ quantile is assigned Signal '1' or \"Buy\".\n",
        "2. Middle quantile is assigned Signal '0' or 'Do nothing'.\n",
        "3. Lowest quantile is assigned Signal '-1' or 'Sell'."
      ]
    },
    {
      "cell_type": "code",
      "execution_count": 227,
      "metadata": {
        "id": "1eWFMa66eNXt",
        "colab": {
          "base_uri": "https://localhost:8080/",
          "height": 581
        },
        "outputId": "974da358-cf9e-4eb2-c769-90799553362b"
      },
      "outputs": [
        {
          "output_type": "display_data",
          "data": {
            "text/plain": [
              "<Figure size 3000x1500 with 1 Axes>"
            ],
            "image/png": "[encoded data removed]"
          },
          "metadata": {}
        }
      ],
      "source": [
        "Retdf = Df.copy()\n",
        "Retdf.set_index(\"Time\", inplace=True)\n",
        "\n",
        "# Plot the strategy returns\n",
        "plt.figure(figsize=(30,15))\n",
        "plt.plot(((Retdf['Ret']+1).cumprod()),color='r',label='Market Returns')\n",
        "plt.legend()\n",
        "plt.show()"
      ]
    },
    {
      "cell_type": "code",
      "execution_count": 228,
      "metadata": {
        "id": "dVD_GPsVeNXu"
      },
      "outputs": [],
      "source": [
        "# Create a column by name, 'Signal' and initialize with 0\n",
        "Df['Signal']=0\n",
        "\n",
        "# Assign a value of 1 to 'Signal' column for the quantile with highest returns\n",
        "Df.loc[Df['Ret']>Df['Ret'][:split].quantile(q=0.66),'Signal']=1\n",
        "\n",
        "# Assign a value of -1 to 'Signal' column for the quantile with lowest returns\n",
        "Df.loc[Df['Ret']<Df['Ret'][:split].quantile(q=0.33),'Signal']=-1"
      ]
    },
    {
      "cell_type": "code",
      "execution_count": 229,
      "metadata": {
        "id": "EEXF17KdeNXu"
      },
      "outputs": [],
      "source": [
        "# # # It is necessary for daytrade only. If you are using daily candles, please comment the lines below\n",
        "\n",
        "# # # Assign a value of 0 to 'Signal' column after 17h\n",
        "# Df.loc[(Df['Time'].dt.hour>16), 'Signal']=0\n",
        "\n",
        "# # Assign a value of 0 to 'Ret' column after 17h\n",
        "# Df.loc[(Df['Time'].dt.hour>16), 'Ret']=0"
      ]
    },
    {
      "cell_type": "markdown",
      "metadata": {
        "id": "h3UmOGJCeNXu"
      },
      "source": [
        "One last step and then we will be ready with our data!  \n",
        "### Creating the features and values\n",
        "\n",
        "Drop the columns 'Close', 'Signal', 'Time', 'High', 'Low', 'Volume', and 'Ret' since the algorithm will not be trained on these features. Next, we assign 'Signal' to 'y' which is the output variable that you will predict using test data.   "
      ]
    },
    {
      "cell_type": "code",
      "execution_count": 230,
      "metadata": {
        "id": "LzpmYwwQeNXu"
      },
      "outputs": [],
      "source": [
        "# Use df.drop() to drop the columns\n",
        "X = Df.drop(['Ret',\"Time\",\"Signal\"],axis=1)\n",
        "\n",
        "# Create a variable which contains all the 'Signal' values\n",
        "y = Df['Signal']"
      ]
    },
    {
      "cell_type": "markdown",
      "metadata": {
        "id": "TpZgIcSzeNXu"
      },
      "source": [
        "## Create the Machine Learning Model"
      ]
    },
    {
      "cell_type": "markdown",
      "metadata": {
        "id": "xrpOcyjPeNXv"
      },
      "source": [
        "### Create the new Machine Leaning Model\n",
        "\n",
        "In this line of code we instantiate a new machine learning model."
      ]
    },
    {
      "cell_type": "code",
      "execution_count": 231,
      "metadata": {
        "id": "Ldj0XMxqeNXv"
      },
      "outputs": [],
      "source": [
        "# Create a new QDA\n",
        "cls = QuadraticDiscriminantAnalysis()\n",
        "\n",
        "# Create a new MLP classifier\n",
        "# cls = MLPClassifier(random_state=7, hidden_layer_sizes=(15,15,15), alpha=0.0001, activation='relu', max_iter=1000)"
      ]
    },
    {
      "cell_type": "markdown",
      "metadata": {
        "id": "j7KsboTVeNXv"
      },
      "source": [
        "### Train the data\n",
        "\n",
        "We will first scale the data before you fit it to the classifier to train on. To do this, you need to first instantiate the Standard Scaler function."
      ]
    },
    {
      "cell_type": "code",
      "execution_count": 232,
      "metadata": {
        "id": "agR5KysBeNXv"
      },
      "outputs": [],
      "source": [
        "# Instantiate the StandardScaler\n",
        "ss1 = StandardScaler()\n",
        "\n",
        "# Instantiate the QuantileTransformer\n",
        "# ss1 = QuantileTransformer()"
      ]
    },
    {
      "cell_type": "markdown",
      "metadata": {
        "id": "KdWFxXG8eNXv"
      },
      "source": [
        "You will use the scaled training data to train the classifier algorithm."
      ]
    },
    {
      "cell_type": "code",
      "execution_count": 233,
      "metadata": {
        "scrolled": true,
        "id": "RiHA3FGreNXv",
        "colab": {
          "base_uri": "https://localhost:8080/",
          "height": 74
        },
        "outputId": "0d86e0a0-40ec-42fc-c3cb-4170b82b0736"
      },
      "outputs": [
        {
          "output_type": "execute_result",
          "data": {
            "text/plain": [
              "QuadraticDiscriminantAnalysis()"
            ],
            "text/html": [
              "<style>#sk-container-id-6 {color: black;background-color: white;}#sk-container-id-6 pre{padding: 0;}#sk-container-id-6 div.sk-toggleable {background-color: white;}#sk-container-id-6 label.sk-toggleable__label {cursor: pointer;display: block;width: 100%;margin-bottom: 0;padding: 0.3em;box-sizing: border-box;text-align: center;}#sk-container-id-6 label.sk-toggleable__label-arrow:before {content: \"▸\";float: left;margin-right: 0.25em;color: #696969;}#sk-container-id-6 label.sk-toggleable__label-arrow:hover:before {color: black;}#sk-container-id-6 div.sk-estimator:hover label.sk-toggleable__label-arrow:before {color: black;}#sk-container-id-6 div.sk-toggleable__content {max-height: 0;max-width: 0;overflow: hidden;text-align: left;background-color: #f0f8ff;}#sk-container-id-6 div.sk-toggleable__content pre {margin: 0.2em;color: black;border-radius: 0.25em;background-color: #f0f8ff;}#sk-container-id-6 input.sk-toggleable__control:checked~div.sk-toggleable__content {max-height: 200px;max-width: 100%;overflow: auto;}#sk-container-id-6 input.sk-toggleable__control:checked~label.sk-toggleable__label-arrow:before {content: \"▾\";}#sk-container-id-6 div.sk-estimator input.sk-toggleable__control:checked~label.sk-toggleable__label {background-color: #d4ebff;}#sk-container-id-6 div.sk-label input.sk-toggleable__control:checked~label.sk-toggleable__label {background-color: #d4ebff;}#sk-container-id-6 input.sk-hidden--visually {border: 0;clip: rect(1px 1px 1px 1px);clip: rect(1px, 1px, 1px, 1px);height: 1px;margin: -1px;overflow: hidden;padding: 0;position: absolute;width: 1px;}#sk-container-id-6 div.sk-estimator {font-family: monospace;background-color: #f0f8ff;border: 1px dotted black;border-radius: 0.25em;box-sizing: border-box;margin-bottom: 0.5em;}#sk-container-id-6 div.sk-estimator:hover {background-color: #d4ebff;}#sk-container-id-6 div.sk-parallel-item::after {content: \"\";width: 100%;border-bottom: 1px solid gray;flex-grow: 1;}#sk-container-id-6 div.sk-label:hover label.sk-toggleable__label {background-color: #d4ebff;}#sk-container-id-6 div.sk-serial::before {content: \"\";position: absolute;border-left: 1px solid gray;box-sizing: border-box;top: 0;bottom: 0;left: 50%;z-index: 0;}#sk-container-id-6 div.sk-serial {display: flex;flex-direction: column;align-items: center;background-color: white;padding-right: 0.2em;padding-left: 0.2em;position: relative;}#sk-container-id-6 div.sk-item {position: relative;z-index: 1;}#sk-container-id-6 div.sk-parallel {display: flex;align-items: stretch;justify-content: center;background-color: white;position: relative;}#sk-container-id-6 div.sk-item::before, #sk-container-id-6 div.sk-parallel-item::before {content: \"\";position: absolute;border-left: 1px solid gray;box-sizing: border-box;top: 0;bottom: 0;left: 50%;z-index: -1;}#sk-container-id-6 div.sk-parallel-item {display: flex;flex-direction: column;z-index: 1;position: relative;background-color: white;}#sk-container-id-6 div.sk-parallel-item:first-child::after {align-self: flex-end;width: 50%;}#sk-container-id-6 div.sk-parallel-item:last-child::after {align-self: flex-start;width: 50%;}#sk-container-id-6 div.sk-parallel-item:only-child::after {width: 0;}#sk-container-id-6 div.sk-dashed-wrapped {border: 1px dashed gray;margin: 0 0.4em 0.5em 0.4em;box-sizing: border-box;padding-bottom: 0.4em;background-color: white;}#sk-container-id-6 div.sk-label label {font-family: monospace;font-weight: bold;display: inline-block;line-height: 1.2em;}#sk-container-id-6 div.sk-label-container {text-align: center;}#sk-container-id-6 div.sk-container {/* jupyter's `normalize.less` sets `[hidden] { display: none; }` but bootstrap.min.css set `[hidden] { display: none !important; }` so we also need the `!important` here to be able to override the default hidden behavior on the sphinx rendered scikit-learn.org. See: https://github.com/scikit-learn/scikit-learn/issues/21755 */display: inline-block !important;position: relative;}#sk-container-id-6 div.sk-text-repr-fallback {display: none;}</style><div id=\"sk-container-id-6\" class=\"sk-top-container\"><div class=\"sk-text-repr-fallback\"><pre>QuadraticDiscriminantAnalysis()</pre><b>In a Jupyter environment, please rerun this cell to show the HTML representation or trust the notebook. <br />On GitHub, the HTML representation is unable to render, please try loading this page with nbviewer.org.</b></div><div class=\"sk-container\" hidden><div class=\"sk-item\"><div class=\"sk-estimator sk-toggleable\"><input class=\"sk-toggleable__control sk-hidden--visually\" id=\"sk-estimator-id-6\" type=\"checkbox\" checked><label for=\"sk-estimator-id-6\" class=\"sk-toggleable__label sk-toggleable__label-arrow\">QuadraticDiscriminantAnalysis</label><div class=\"sk-toggleable__content\"><pre>QuadraticDiscriminantAnalysis()</pre></div></div></div></div></div>"
            ]
          },
          "metadata": {},
          "execution_count": 233
        }
      ],
      "source": [
        "# Pass the scaled train data to the SVC classifier\n",
        "cls.fit(ss1.fit_transform(X.iloc[:split]),y.iloc[:split])"
      ]
    },
    {
      "cell_type": "code",
      "source": [
        "# Training the PyTorch NN model\n",
        "\n",
        "num_features = X.shape[1]\n",
        "model = Model(in_features=num_features, h1=25, h2=25, out_features=3)\n",
        "\n",
        "# Convert X features to float tensors\n",
        "X_train = torch.FloatTensor(ss1.fit_transform(X.iloc[:split].to_numpy()))\n",
        "y_train = torch.LongTensor(y.iloc[:split].to_numpy()+1)\n",
        "\n",
        "\n",
        "# Set the criterion of model to measure the error, how far off the predictions are from the data\n",
        "criterion = nn.CrossEntropyLoss()\n",
        "# Chose Adam Optimizer, lr = learning rate (if error doesn't go sown after a bunch of iterations (epochs), lower our learning rate)\n",
        "optimizer = torch.optim.Adam(model.parameters(), lr=0.01)\n",
        "\n",
        "\n",
        "# Train our model!\n",
        "# Epochs? (one run thry all the training data in our network)\n",
        "epochs = 200\n",
        "losses = []\n",
        "for i in range(epochs):\n",
        "  # Go forward and get prediction\n",
        "  y_pred = model.forward(X_train) # Get predicted results\n",
        "\n",
        "  # Measure the loss/errorm gonna be right at first\n",
        "  loss = criterion(y_pred, y_train) # predicted values vs the y_train\n",
        "\n",
        "  # Keep Track of our losses\n",
        "  losses.append(loss.detach().numpy()) # transform the loss format to arr\n",
        "\n",
        "  # print every 10 epoch\n",
        "  if i % 10 == 0:\n",
        "    print(f'Epoch: {i} and loss: {loss}')\n",
        "\n",
        "  # Do some back propagation: take the error rate of the forward propagation and feed it back\n",
        "  # thru the network to fine tune the weight\n",
        "  optimizer.zero_grad()\n",
        "  loss.backward()\n",
        "  optimizer.step()\n",
        "\n",
        "\n",
        "# Graph it out!\n",
        "plt.plot(range(epochs), losses)\n",
        "plt.ylabel(\"loss/error\")\n",
        "plt.xlabel(\"Epoch\")"
      ],
      "metadata": {
        "colab": {
          "base_uri": "https://localhost:8080/",
          "height": 813
        },
        "id": "8bqIFfj1goTA",
        "outputId": "7f2af18d-3cdb-4270-e3d7-b80b0e3e1e5f"
      },
      "execution_count": 234,
      "outputs": [
        {
          "output_type": "stream",
          "name": "stdout",
          "text": [
            "Epoch: 0 and loss: 1.1113836765289307\n",
            "Epoch: 10 and loss: 1.0923619270324707\n",
            "Epoch: 20 and loss: 1.0914690494537354\n",
            "Epoch: 30 and loss: 1.0899888277053833\n",
            "Epoch: 40 and loss: 1.089892864227295\n",
            "Epoch: 50 and loss: 1.0894315242767334\n",
            "Epoch: 60 and loss: 1.088823914527893\n",
            "Epoch: 70 and loss: 1.087885856628418\n",
            "Epoch: 80 and loss: 1.0878959894180298\n",
            "Epoch: 90 and loss: 1.086369514465332\n",
            "Epoch: 100 and loss: 1.0860062837600708\n",
            "Epoch: 110 and loss: 1.0855634212493896\n",
            "Epoch: 120 and loss: 1.0842459201812744\n",
            "Epoch: 130 and loss: 1.0843247175216675\n",
            "Epoch: 140 and loss: 1.0838531255722046\n",
            "Epoch: 150 and loss: 1.0832219123840332\n",
            "Epoch: 160 and loss: 1.0836565494537354\n",
            "Epoch: 170 and loss: 1.0835336446762085\n",
            "Epoch: 180 and loss: 1.083135724067688\n",
            "Epoch: 190 and loss: 1.082776665687561\n"
          ]
        },
        {
          "output_type": "execute_result",
          "data": {
            "text/plain": [
              "Text(0.5, 0, 'Epoch')"
            ]
          },
          "metadata": {},
          "execution_count": 234
        },
        {
          "output_type": "display_data",
          "data": {
            "text/plain": [
              "<Figure size 640x480 with 1 Axes>"
            ],
            "image/png": "[encoded data removed]"
          },
          "metadata": {}
        }
      ]
    },
    {
      "cell_type": "markdown",
      "metadata": {
        "id": "KlGFjvgSeNXv"
      },
      "source": [
        "Congratulations, your prediction model is ready!"
      ]
    },
    {
      "cell_type": "code",
      "execution_count": 235,
      "metadata": {
        "id": "hcnRe7-3eNXw",
        "colab": {
          "base_uri": "https://localhost:8080/"
        },
        "outputId": "db07aace-9b86-48b3-8675-1f52e31504ed"
      },
      "outputs": [
        {
          "output_type": "execute_result",
          "data": {
            "text/plain": [
              "['cls.joblib']"
            ]
          },
          "metadata": {},
          "execution_count": 235
        }
      ],
      "source": [
        "joblib.dump(ss1,'ss1.joblib')\n",
        "joblib.dump(cls,'cls.joblib')"
      ]
    },
    {
      "cell_type": "markdown",
      "metadata": {
        "id": "944B1DjceNXw"
      },
      "source": [
        "## Predict the signals"
      ]
    },
    {
      "cell_type": "markdown",
      "metadata": {
        "id": "Lo4O99aReNXw"
      },
      "source": [
        "Now, you can use the test data to make predictions and save the value of output 'y' in a list called 'y_predict'. This list will have the predicted values of 'Signal' for the test data.  "
      ]
    },
    {
      "cell_type": "code",
      "execution_count": 236,
      "metadata": {
        "id": "tRFMYd0qeNXw"
      },
      "outputs": [],
      "source": [
        "ss1 = joblib.load('ss1.joblib')\n",
        "cls = joblib.load('cls.joblib')"
      ]
    },
    {
      "cell_type": "code",
      "execution_count": 237,
      "metadata": {
        "id": "Vcyiv2qkeNXw",
        "colab": {
          "base_uri": "https://localhost:8080/"
        },
        "outputId": "58de5b67-6013-45bb-d526-34a52f09f0ac"
      },
      "outputs": [
        {
          "output_type": "stream",
          "name": "stdout",
          "text": [
            "[0 0 0 ... 0 0 0] 15454\n"
          ]
        },
        {
          "output_type": "stream",
          "name": "stderr",
          "text": [
            "/usr/local/lib/python3.10/dist-packages/sklearn/base.py:432: UserWarning: X has feature names, but StandardScaler was fitted without feature names\n",
            "  warnings.warn(\n"
          ]
        }
      ],
      "source": [
        "# Pass the test data to the predict function and store the values into 'y_predict'\n",
        "y_predict = cls.predict(ss1.transform(X.iloc[split:]))\n",
        "print(y_predict, len(y_predict))"
      ]
    },
    {
      "cell_type": "code",
      "source": [
        "# Predict the test using the PyTorch NN model\n",
        "\n",
        "# Convert X features to float tensors\n",
        "X_test = torch.FloatTensor(ss1.fit_transform(X.iloc[split:].to_numpy()))\n",
        "y_test = torch.FloatTensor(y.iloc[split:].to_numpy())\n",
        "y_predict = []\n",
        "\n",
        "correct = 0\n",
        "with torch.no_grad():\n",
        "  for i, data in enumerate(X_test):\n",
        "    y_val = model.forward(data)\n",
        "    y_predict.append(y_val.argmax().item() - 1)\n",
        "\n",
        "    # Will tell us what type of flower class our network think it is\n",
        "    # print(f'{i+1}: \\t{str(y_val)} \\t {y_val.argmax().item()} \\t {y_test[i]}')\n",
        "\n",
        "    # Correct or not\n",
        "    if y_val.argmax().item() - 1 == y_test[i]:\n",
        "      correct += 1\n",
        "\n",
        "  print(f'We got {correct} correct of {len(X_test)}!')\n",
        "\n",
        "y_predict = np.array(y_predict)\n",
        "print(y_predict, len(y_predict))"
      ],
      "metadata": {
        "colab": {
          "base_uri": "https://localhost:8080/"
        },
        "id": "1jLDBmTDkehA",
        "outputId": "3e2e1fc8-7b8b-4a67-a71b-9fa381846d3f"
      },
      "execution_count": 238,
      "outputs": [
        {
          "output_type": "stream",
          "name": "stdout",
          "text": [
            "We got 5807 correct of 15454!\n",
            "[ 0  0  0 ...  0 -1  0] 15454\n"
          ]
        }
      ]
    },
    {
      "cell_type": "markdown",
      "metadata": {
        "id": "y2cEIDVQeNXx"
      },
      "source": [
        "Now create a new column 'Pred_Signal' in 'Df' to save all the predictions for both train data and test data."
      ]
    },
    {
      "cell_type": "code",
      "execution_count": 239,
      "metadata": {
        "id": "EYzy6boIeNXx"
      },
      "outputs": [],
      "source": [
        "# Initiate a column by name, 'Pred_Signal' and assign 0 to it\n",
        "Df['Pred_Signal'] = 0"
      ]
    },
    {
      "cell_type": "markdown",
      "metadata": {
        "id": "SnG34_GxeNXx"
      },
      "source": [
        "### Save the predictions\n",
        "1. To save predicted 'y' values of test data, we can simply assign 'y_predict' to 'Pred_Signal' using the split.\n",
        "2. To save predicted 'y' values for train data, we make predictions for train data and save it similarly."
      ]
    },
    {
      "cell_type": "code",
      "execution_count": 240,
      "metadata": {
        "id": "j1tP1HNaeNXx",
        "colab": {
          "base_uri": "https://localhost:8080/"
        },
        "outputId": "3bf582fa-5078-4ecc-ea02-d7021feefd60"
      },
      "outputs": [
        {
          "output_type": "stream",
          "name": "stderr",
          "text": [
            "/usr/local/lib/python3.10/dist-packages/sklearn/base.py:432: UserWarning: X has feature names, but StandardScaler was fitted without feature names\n",
            "  warnings.warn(\n"
          ]
        }
      ],
      "source": [
        "# Save the predicted values for the train data\n",
        "Df.iloc[:split,Df.columns.get_loc('Pred_Signal')] = pd.Series(cls.predict(ss1.transform(X.iloc[:split])).tolist())\n",
        "\n",
        "# Save the predicted values for the test data\n",
        "Df.iloc[split:,Df.columns.get_loc('Pred_Signal')] = y_predict\n",
        "\n",
        "Df['Profit'] = Df['Pred_Signal']*Df['Ret']"
      ]
    },
    {
      "cell_type": "code",
      "execution_count": 241,
      "metadata": {
        "id": "oeDNSeYPeNXy"
      },
      "outputs": [],
      "source": [
        "Df[\"Test_Set\"] = 0\n",
        "Df.loc[split:,\"Test_Set\"] = 1\n",
        "Df.to_csv(\"output_pred.csv\")"
      ]
    },
    {
      "cell_type": "markdown",
      "metadata": {
        "id": "2iILLVSneNXz"
      },
      "source": [
        "Since, the algorithm was trained on the train data, it’s accuracy of prediction is expected to be better on this train data compared to the test data. You can print these two seperately to check the accuracies. (TRY ON YOUR OWN!)"
      ]
    },
    {
      "cell_type": "markdown",
      "metadata": {
        "id": "SlVx4SD1eNXz"
      },
      "source": [
        "## Use the model for trading strategy"
      ]
    },
    {
      "cell_type": "markdown",
      "metadata": {
        "id": "rh0YXFxceNX0"
      },
      "source": [
        "### Trading strategy\n",
        "        \n",
        "Our trading strategy is simply to buy/sell/do-nothing at that period for which the Signal is generated by the algorithm. The strategy assumes that you always get a fill at the \"Open\" prices.\n",
        "\n",
        "You had already calculated and saved returns on 'Open' prices in 'Ret'. You will create a column named 'Ret1' to store the strategy's returns based on the Signal."
      ]
    },
    {
      "cell_type": "code",
      "execution_count": 242,
      "metadata": {
        "id": "9adkDRB5eNX0"
      },
      "outputs": [],
      "source": [
        "# Calculate strategy returns and store them in 'Ret1' column\n",
        "Df['Ret1'] = Df['Ret']*Df['Pred_Signal']"
      ]
    },
    {
      "cell_type": "markdown",
      "metadata": {
        "id": "FL2jB4dDeNX0"
      },
      "source": [
        "## Analyze the performance"
      ]
    },
    {
      "cell_type": "markdown",
      "metadata": {
        "id": "1fsiMrRGeNX0"
      },
      "source": [
        "Please note that here you are using only the test data to compare the performance of the strategy. You can pass the entire 'Ret1' column and check the performance on both the test and train data if you wish to."
      ]
    },
    {
      "cell_type": "code",
      "execution_count": 243,
      "metadata": {
        "id": "L2ICUiUIeNX0",
        "colab": {
          "base_uri": "https://localhost:8080/"
        },
        "outputId": "25cbe6df-fab8-4209-bc30-58c45dd0334e"
      },
      "outputs": [
        {
          "output_type": "stream",
          "name": "stdout",
          "text": [
            "Sharpe 0.8806366871374054\n"
          ]
        }
      ],
      "source": [
        "# Calculate the annualized Sharpe ratio\n",
        "sharpe = np.sqrt(252) * Df['Ret1'][split:].mean() / Df['Ret1'][split:].std()\n",
        "\n",
        "print('Sharpe', sharpe)"
      ]
    },
    {
      "cell_type": "code",
      "execution_count": 244,
      "metadata": {
        "id": "H8n9pktyeNX1",
        "colab": {
          "base_uri": "https://localhost:8080/"
        },
        "outputId": "9b9629b2-6aef-4083-fc29-c2558c41e401"
      },
      "outputs": [
        {
          "output_type": "stream",
          "name": "stdout",
          "text": [
            "\n",
            "Strategy results %: \n",
            "\n",
            " \tTotal return:  322.1006 % \n",
            " \tEntries:  9528 \n",
            " \tReturn per entry:  0.0338 % \n",
            " \tSuccess:  53.27 % \n",
            " \tRatio:  1.24 \n",
            " \tTotal of days:  428 \n",
            " \tTotal of months:  20.381 \n",
            " \tMonthly return:  15.804 % \n",
            " \tMax drawdown:  -18.8579 % \n",
            " \tMean drawdown:  -3.9059 % \n",
            " \tBuy signals 5388 \n",
            " \tSell signals 4140\n",
            "\n",
            "Strategy results: \n",
            "\n",
            " \tTotal return:  273801.2039 \n",
            " \tEntries:  9528 \n",
            " \tReturn per entry:  28.7365 \n",
            " \tSuccess:  53.27 % \n",
            " \tRatio:  1.24 \n",
            " \tTotal of days:  428 \n",
            " \tTotal of months:  20.381 \n",
            " \tMonthly return:  13434.1712 \n",
            " \tMax drawdown:  -15808.7432 \n",
            " \tMean drawdown:  -3364.7621 \n",
            " \tBuy signals 5388 \n",
            " \tSell signals 4140\n",
            "\n",
            "Buy Only (Baseline) results %: \n",
            "\n",
            " \tTotal return:  114.251 % \n",
            " \tEntries:  15454 \n",
            " \tReturn per entry:  0.0074 % \n",
            " \tSuccess:  50.82 % \n",
            " \tRatio:  1.05 \n",
            " \tTotal of days:  428 \n",
            " \tTotal of months:  20.381 \n",
            " \tMonthly return:  5.6058 % \n",
            " \tMax drawdown:  -90.1936 % \n",
            " \tMean drawdown:  -21.1319 % \n",
            " \tBuy signals 15454 \n",
            " \tSell signals 0\n",
            "\n",
            "Buy Only (Baseline) results: \n",
            "\n",
            " \tTotal return:  91760.3323 \n",
            " \tEntries:  15454 \n",
            " \tReturn per entry:  5.9376 \n",
            " \tSuccess:  50.82 % \n",
            " \tRatio:  1.05 \n",
            " \tTotal of days:  428 \n",
            " \tTotal of months:  20.381 \n",
            " \tMonthly return:  4502.2593 \n",
            " \tMax drawdown:  -73562.6938 \n",
            " \tMean drawdown:  -19797.81 \n",
            " \tBuy signals 15454 \n",
            " \tSell signals 0\n"
          ]
        }
      ],
      "source": [
        "# Calculate other metrics\n",
        "\n",
        "def CalculateMetrics(returns,y_pred,dates,optimize=False,prediction_horizon=1,type_='percentual'):\n",
        "    #Receive the dates, predictions and returns, apply a simple trading strategy (exit position after n candles, without tp and sl), and show the results and graph\"\"\"\n",
        "\n",
        "    #--- get the returns if we follow the strategy (follow the prediction signals) - it is equivalent to buying or selling according to the signal, and keep the position for n candles. We can have multiple positions at the same time, without sl and tp\n",
        "    strategy_returns=[y_pred[i]*returns[i] for i in range(0,len(y_pred))]\n",
        "\n",
        "    #--- get the cumulative return of our strategy - increasing position - juros composto\n",
        "    strategy_accumulated_prod = 1\n",
        "    for i in range(1, len(strategy_returns)):\n",
        "        strategy_accumulated_prod *= (strategy_returns[i]+1)\n",
        "    strategy_accumulated_prod -= 1\n",
        "\n",
        "    #--- get the cumulative return of our strategy\n",
        "    strategy_accumulated = copy.copy(strategy_returns)\n",
        "    for i in range(1, len(strategy_accumulated)):\n",
        "        strategy_accumulated[i] = strategy_accumulated[i-1] + strategy_returns[i]\n",
        "\n",
        "    #--- get the cumulative return of the asset - where we buy only, at every candle, and keeps the position opened for n candles\n",
        "    asset_accumulated = copy.copy(returns)\n",
        "    for i in range(1, len(asset_accumulated)):\n",
        "        asset_accumulated[i] = asset_accumulated[i-1] + returns[i]\n",
        "\n",
        "\n",
        "    #--- get the cumulative loss of our strategy - draw down\n",
        "    strategy_drawdown = copy.copy(strategy_returns)\n",
        "    for i in range(1, len(strategy_drawdown)):\n",
        "        strategy_drawdown[i] = (strategy_drawdown[i-1] + strategy_returns[i] if strategy_drawdown[i-1] + strategy_returns[i] < 0 else 0)\n",
        "\n",
        "    drawdown_max = np.min(np.array(strategy_drawdown))\n",
        "    drawdown_mean = np.mean(np.array(strategy_drawdown))\n",
        "    total_return = strategy_accumulated[-1]\n",
        "    total_days = len(list(set([date.strftime(\"%Y-%m-%d\") for date in dates])))\n",
        "    total_months = total_days / 21\n",
        "    monthly_return = (total_return/total_months if total_months>0 else 0)\n",
        "    drawdown_max_by_monthly_return = (-drawdown_max/monthly_return if monthly_return != 0 else 0)\n",
        "    drawdown_mean_by_monthly_return = (-drawdown_mean/monthly_return if monthly_return != 0 else 0)\n",
        "\n",
        "\n",
        "    #--- calculating a few metrics\n",
        "\n",
        "    if optimize:\n",
        "        e = []\n",
        "        for i,pred in enumerate(y_pred):\n",
        "            if y_pred[max(0,i-prediction_horizon)] != pred: e.append(abs(pred))\n",
        "        entries = np.sum(np.array(e))\n",
        "    else:\n",
        "        entries = np.sum(np.array([abs(pred) for pred in y_pred]))\n",
        "        entries_buy = int(np.sum(np.array([abs(pred) for pred in y_pred if pred>0])))\n",
        "        entries_sell = int(np.sum(np.array([abs(pred) for pred in y_pred if pred<0])))\n",
        "    total_return = strategy_accumulated[-1]\n",
        "    if entries>0:\n",
        "        return_per_entry = total_return / entries\n",
        "    else:\n",
        "        return_per_entry = 0\n",
        "\n",
        "    poss = sum([1 for return_ in strategy_returns if return_ > 0])\n",
        "    negs = sum([1 for return_ in strategy_returns if return_ < 0])\n",
        "    success = (poss+1) / (poss + negs+2)\n",
        "\n",
        "    poss_ = sum([return_ for return_ in strategy_returns if return_ > 0])\n",
        "    negs_ = sum([return_ for return_ in strategy_returns if return_ < 0])\n",
        "    profitFactor = -((poss_+0.000001)/(negs_+0.000001))\n",
        "\n",
        "    if type_ == 'percentual':\n",
        "        print(\n",
        "              \"\\n \\tTotal return: \",round(total_return*100,4),\"%\",\n",
        "              \"\\n \\tEntries: \", entries,\n",
        "              \"\\n \\tReturn per entry: \", round(return_per_entry*100,4),\"%\",\n",
        "              \"\\n \\tSuccess: \", round(success*100,2),\"%\",\n",
        "              \"\\n \\tRatio: \", round(profitFactor,2),\n",
        "              \"\\n \\tTotal of days: \", total_days,\n",
        "              \"\\n \\tTotal of months: \", round(total_months,4),\n",
        "              \"\\n \\tMonthly return: \", round(monthly_return*100,4),\"%\",\n",
        "              \"\\n \\tMax drawdown: \", round(drawdown_max*100,4),\"%\",\n",
        "              \"\\n \\tMean drawdown: \", round(drawdown_mean*100,4),\"%\",\n",
        "              \"\\n \\tBuy signals\", entries_buy,\n",
        "              \"\\n \\tSell signals\", entries_sell,\n",
        "              )\n",
        "    else:\n",
        "        print(\n",
        "              \"\\n \\tTotal return: \",round(total_return,4),\n",
        "              \"\\n \\tEntries: \", entries,\n",
        "              \"\\n \\tReturn per entry: \", round(return_per_entry,4),\n",
        "              \"\\n \\tSuccess: \", round(success*100,2),\"%\",\n",
        "              \"\\n \\tRatio: \", round(profitFactor,2),\n",
        "              \"\\n \\tTotal of days: \", total_days,\n",
        "              \"\\n \\tTotal of months: \", round(total_months,4),\n",
        "              \"\\n \\tMonthly return: \", round(monthly_return,4),\n",
        "              \"\\n \\tMax drawdown: \", round(drawdown_max,4),\n",
        "              \"\\n \\tMean drawdown: \", round(drawdown_mean,4),\n",
        "              \"\\n \\tBuy signals\", entries_buy,\n",
        "              \"\\n \\tSell signals\", entries_sell,\n",
        "              )\n",
        "\n",
        "# Strategy Metrics\n",
        "returns = list(Df['Ret'][split:])\n",
        "y_pred = list(Df['Pred_Signal'][split:])\n",
        "dates = list(Df['Time'][split:])\n",
        "print(\"\\nStrategy results %: \")\n",
        "CalculateMetrics(returns,y_pred,dates,type_='percentual')\n",
        "\n",
        "returns_absolute = list((Df['Ret']*Df['O'])[split:])\n",
        "print(\"\\nStrategy results: \")\n",
        "CalculateMetrics(returns_absolute,y_pred,dates,type_='points')\n",
        "\n",
        "\n",
        "\n",
        "# BuyOnlyBaseline\n",
        "returns = list(Df['Ret'][split:])\n",
        "y_pred = [1]*len(returns)\n",
        "dates = Df['Time'][split:]\n",
        "print(\"\\nBuy Only (Baseline) results %: \")\n",
        "CalculateMetrics(returns,y_pred,dates)\n",
        "\n",
        "returns_absolute = list((Df['Ret']*Df['O'])[split:])\n",
        "print(\"\\nBuy Only (Baseline) results: \")\n",
        "CalculateMetrics(returns_absolute,y_pred,dates,type_='points')"
      ]
    },
    {
      "cell_type": "markdown",
      "metadata": {
        "id": "p5N0CmxWeNX1"
      },
      "source": [
        "## Plot the results\n",
        "\n",
        "Now you can plot the results to visualize the performance.\n"
      ]
    },
    {
      "cell_type": "code",
      "execution_count": 245,
      "metadata": {
        "id": "Oz8FBr9geNX2"
      },
      "outputs": [],
      "source": [
        "Df.set_index(\"Time\", inplace=True)"
      ]
    },
    {
      "cell_type": "markdown",
      "metadata": {
        "id": "yrxshxxXeNX2"
      },
      "source": [
        "### Traning period"
      ]
    },
    {
      "cell_type": "code",
      "execution_count": 246,
      "metadata": {
        "id": "mIzgD_YyeNX2",
        "colab": {
          "base_uri": "https://localhost:8080/",
          "height": 851
        },
        "outputId": "3ec029b1-637e-46b8-f96f-e9810448295d"
      },
      "outputs": [
        {
          "output_type": "display_data",
          "data": {
            "text/plain": [
              "<Figure size 1000x1000 with 1 Axes>"
            ],
            "image/png": "[encoded data removed]"
          },
          "metadata": {}
        }
      ],
      "source": [
        "# Plot the strategy returns in the test period\n",
        "plt.figure(figsize=(10,10))\n",
        "# plt.plot(((Df['Ret'][:split]+1).cumprod()-1),color='r',label='Mini-índice')\n",
        "# plt.plot(((Df['Ret1'][:split]+1).cumprod()-1),color='g',label='Estratégia')\n",
        "plt.plot(((Df['Ret'][:split]).cumsum()),color='r',label='Mini-índice')\n",
        "plt.plot(((Df['Ret1'][:split]).cumsum()),color='g',label='Estratégia')\n",
        "plt.legend()\n",
        "plt.xticks(rotation=-45)\n",
        "plt.gca().yaxis.set_major_formatter(mtick.PercentFormatter(1.0))\n",
        "plt.show()"
      ]
    },
    {
      "cell_type": "markdown",
      "metadata": {
        "id": "cdTd6A6ueNX2"
      },
      "source": [
        "### Testing period"
      ]
    },
    {
      "cell_type": "code",
      "execution_count": 247,
      "metadata": {
        "id": "UNV37cnveNX3",
        "colab": {
          "base_uri": "https://localhost:8080/",
          "height": 867
        },
        "outputId": "4172e8fb-9e7c-4fdb-9e02-2125e6a07bde"
      },
      "outputs": [
        {
          "output_type": "display_data",
          "data": {
            "text/plain": [
              "<Figure size 1000x1000 with 1 Axes>"
            ],
            "image/png": "[encoded data removed]"
          },
          "metadata": {}
        }
      ],
      "source": [
        "# Plot the strategy returns in the test period\n",
        "plt.figure(figsize=(10,10))\n",
        "# plt.plot(((Df['Ret'][split:]+1).cumprod()-1),color='r',label='Mini-índice')\n",
        "# plt.plot(((Df['Ret1'][split:]+1).cumprod()-1),color='g',label='Estratégia')\n",
        "plt.plot(((Df['Ret'][split:]).cumsum()),color='r',label='Mini-índice')\n",
        "plt.plot(((Df['Ret1'][split:]).cumsum()),color='g',label='Estratégia')\n",
        "plt.legend()\n",
        "plt.xticks(rotation=-45)\n",
        "plt.gca().yaxis.set_major_formatter(mtick.PercentFormatter(1.0))\n",
        "plt.show()"
      ]
    },
    {
      "cell_type": "markdown",
      "metadata": {
        "id": "wDWCyoyPeNX3"
      },
      "source": [
        "## Now, it's your turn!"
      ]
    },
    {
      "cell_type": "markdown",
      "metadata": {
        "id": "FRC4075peNX4"
      },
      "source": [
        "### Tweak the code\n",
        "\n",
        "You can tweak the code in the following ways:\n",
        "1. Use different data sets – backtest and try out the model on different data sets!\n",
        "2. Features – create your own features using different indicators that could improve the prediction accuracy\n",
        "3. Try Gird Search for best hyperparameters selection. Try different kernels and check for results.\n",
        "4. Change the trading strategy as you wish!\n"
      ]
    },
    {
      "cell_type": "markdown",
      "metadata": {
        "id": "xXOYTJmAeNX4"
      },
      "source": [
        "### Prediction with a new data\n",
        "Getting new data"
      ]
    },
    {
      "cell_type": "code",
      "execution_count": 248,
      "metadata": {
        "id": "nbnpRtINeNX4",
        "colab": {
          "base_uri": "https://localhost:8080/"
        },
        "outputId": "88729b4e-e9ab-4a81-b983-59516d878f1f"
      },
      "outputs": [
        {
          "output_type": "stream",
          "name": "stdout",
          "text": [
            "       O       FH4       FL4       FH0  FL0  FOPEN0\n",
            "0  70100 -0.025238 -0.002561 -0.002987  0.0     0.0\n"
          ]
        }
      ],
      "source": [
        "# Pass the new data in the format of a dictionary, with the same keys and orders from the datased used for training\n",
        "new_data = {'O':[70100], 'FH4':[-0.025238], 'FL4':[-0.002561], 'FH0':[-0.002987], 'FL0':[0.00000], 'FOPEN0':[0.00000]}\n",
        "\n",
        "# Transform the dictionary into a dataframe\n",
        "x = pd.DataFrame(new_data)\n",
        "print(x)"
      ]
    },
    {
      "cell_type": "markdown",
      "metadata": {
        "id": "1pfqsgwKeNX5"
      },
      "source": [
        "Doing the prediction of the new data using the previously trained model"
      ]
    },
    {
      "cell_type": "code",
      "execution_count": 249,
      "metadata": {
        "id": "xoLlVJyKeNX5",
        "colab": {
          "base_uri": "https://localhost:8080/"
        },
        "outputId": "28d4e794-a514-4324-ff48-204814cdfea7"
      },
      "outputs": [
        {
          "output_type": "stream",
          "name": "stdout",
          "text": [
            "Prediction:  [1]\n"
          ]
        },
        {
          "output_type": "stream",
          "name": "stderr",
          "text": [
            "/usr/local/lib/python3.10/dist-packages/sklearn/base.py:432: UserWarning: X has feature names, but StandardScaler was fitted without feature names\n",
            "  warnings.warn(\n"
          ]
        }
      ],
      "source": [
        "# Pass the new data to the predict function and store the values into 'y_predict'\n",
        "y_predict = cls.predict(ss1.transform(x))\n",
        "print('Prediction: ', y_predict)"
      ]
    },
    {
      "cell_type": "code",
      "execution_count": 249,
      "metadata": {
        "id": "D2CFBzi-eNX5"
      },
      "outputs": [],
      "source": []
    }
  ],
  "metadata": {
    "anaconda-cloud": {},
    "celltoolbar": "Raw Cell Format",
    "kernelspec": {
      "display_name": "Python 3",
      "language": "python",
      "name": "python3"
    },
    "language_info": {
      "codemirror_mode": {
        "name": "ipython",
        "version": 3
      },
      "file_extension": ".py",
      "mimetype": "text/x-python",
      "name": "python",
      "nbconvert_exporter": "python",
      "pygments_lexer": "ipython3",
      "version": "3.6.6"
    },
    "colab": {
      "provenance": [],
      "include_colab_link": true
    }
  },
  "nbformat": 4,
  "nbformat_minor": 0
}